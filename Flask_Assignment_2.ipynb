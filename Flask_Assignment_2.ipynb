{
  "nbformat": 4,
  "nbformat_minor": 0,
  "metadata": {
    "colab": {
      "provenance": [],
      "authorship_tag": "ABX9TyOfE/BMdnFwd8TSC4v9vwIV",
      "include_colab_link": true
    },
    "kernelspec": {
      "name": "python3",
      "display_name": "Python 3"
    },
    "language_info": {
      "name": "python"
    }
  },
  "cells": [
    {
      "cell_type": "markdown",
      "metadata": {
        "id": "view-in-github",
        "colab_type": "text"
      },
      "source": [
        "<a href=\"https://colab.research.google.com/github/Rocketman1996/Physics-wallah-Assignment/blob/main/Flask_Assignment_2.ipynb\" target=\"_parent\"><img src=\"https://colab.research.google.com/assets/colab-badge.svg\" alt=\"Open In Colab\"/></a>"
      ]
    },
    {
      "cell_type": "markdown",
      "source": [
        "Q1. Explain GET and POST methods."
      ],
      "metadata": {
        "id": "Q73-2OOqpp9d"
      }
    },
    {
      "cell_type": "markdown",
      "source": [
        "GET - This is a method to take the information from the client to provide the results. basically it's visibally available in the front end.\n",
        "\n",
        "The GET method is used to request data from a specified resource.\n",
        "It appends data to the URL in the form of query parameters. These parameters are visible in the URL.\n",
        "GET requests are typically used to retrieve data and should not be used for sensitive or private information since the data is exposed in the URL.\n",
        "They are cached by browsers, so they can be bookmarked and revisited.\n",
        "GET requests are idempotent, meaning multiple identical requests should have the same effect as a single request.\n",
        "\n",
        "\n",
        "POST - This is the method to take the information from the client through the form provided in the web page. It's get executed in the backend and is not visible to the client.\n",
        "\n",
        "The POST method is used to submit data to be processed to a specified resource.\n",
        "It sends data in the request body, not in the URL, making it more suitable for sending larger amounts of data and sensitive information.\n",
        "\n",
        "POST requests are not cached by browsers, so they are not bookmarkable, and browsers usually show a warning when users attempt to refresh a page that resulted from a POST request.\n",
        "\n",
        "They are not idempotent, meaning multiple identical requests can have different effects (e.g., creating multiple records in a database)."
      ],
      "metadata": {
        "id": "rZ1Wmu0VproQ"
      }
    },
    {
      "cell_type": "markdown",
      "source": [
        "Q2. Why is request used in Flask?"
      ],
      "metadata": {
        "id": "4Ol_LwWurBJG"
      }
    },
    {
      "cell_type": "markdown",
      "source": [
        "In Flask, the request object is used to access and handle incoming HTTP requests made by clients (typically web browsers) to your Flask web application.\n",
        "It's a critical component of Flask because it allows you to interact with the data sent by the client, such as form data.\n",
        "\n",
        "uses -\n",
        "1. Handling form data\n",
        "2. Handling methods like 'GET', 'POST', 'PUT' and 'DELETE'.\n",
        "3. Query paarameters\\\n",
        "4. flle Uploads\n"
      ],
      "metadata": {
        "id": "qILerUjdrFa0"
      }
    },
    {
      "cell_type": "markdown",
      "source": [
        "Q3. Why is redirect() used in Flask?"
      ],
      "metadata": {
        "id": "g5e5Xehxtayo"
      }
    },
    {
      "cell_type": "markdown",
      "source": [
        "Redirect() is basically changing the different URL or route in some cases like -\n",
        "1. Form submmission\n",
        "2. Authorisation and authentication\n",
        "3. Changing URLs or routes.\n",
        "\n",
        "Example -\n",
        "\n",
        "app = Flask(__name__)\n",
        "\n",
        "@app.route(\"/\")\n",
        "def home():\n",
        "    return \"this is home\"\n",
        "\n",
        "@app.route(\"/1\")\n",
        "def about():\n",
        "    return \"this is about\"\n",
        "\n",
        "@app.route(\"/123\")\n",
        "def redirect_url():\n",
        "    return = redirect(url_for('about'))\n",
        "\n",
        "if '__name__' = '__main__'\n",
        "    app.run(host = \"0.0.0.0\")"
      ],
      "metadata": {
        "id": "iQUDfaLptdIs"
      }
    },
    {
      "cell_type": "markdown",
      "source": [
        "Q4. What are templates in Flask? Why is the render_template() function used?"
      ],
      "metadata": {
        "id": "7m1QH4o8v9Y3"
      }
    },
    {
      "cell_type": "markdown",
      "source": [
        "Templates are basically http coded templates for designing the web pages. We ca simply use them in our flask and we able to easily seperate it from our functions.\n",
        "\n",
        "Render_template() is a function to access the templates inside our function."
      ],
      "metadata": {
        "id": "dDxOfOX8wBAB"
      }
    },
    {
      "cell_type": "markdown",
      "source": [
        "Q5. Create a simple API. Use Postman to test it. Attach the screenshot of the output in the Jupyter Notebook."
      ],
      "metadata": {
        "id": "b8gan_Aiw9I4"
      }
    },
    {
      "cell_type": "markdown",
      "source": [
        "from flask import Flask, jsonify\n",
        "\n",
        "app = Flask(__name__)\n",
        "\n",
        "@app.route('/api/hello', methods=['GET'])\n",
        "def hello():\n",
        "    return jsonify(message=\"Hello, World!\")\n",
        "\n",
        "if __name__ == '__main__':\n",
        "    app.run(debug=True)\n"
      ],
      "metadata": {
        "id": "7yrWAlbexCzB"
      }
    },
    {
      "cell_type": "code",
      "source": [
        "from IPython.display import Image\n",
        "\n",
        "Image(url = \"https://drive.google.com/file/d/1ahib27K8TltwYNtf5g8RTrDPDLCNglPt/view?usp=drive_link\")"
      ],
      "metadata": {
        "colab": {
          "base_uri": "https://localhost:8080/",
          "height": 38
        },
        "id": "pzdXQBO53qfb",
        "outputId": "c77738c8-bbd4-44bd-ee35-a9c326ebbe82"
      },
      "execution_count": 8,
      "outputs": [
        {
          "output_type": "execute_result",
          "data": {
            "text/html": [
              "<img src=\"https://drive.google.com/file/d/1ahib27K8TltwYNtf5g8RTrDPDLCNglPt/view?usp=drive_link\"/>"
            ],
            "text/plain": [
              "<IPython.core.display.Image object>"
            ]
          },
          "metadata": {},
          "execution_count": 8
        }
      ]
    }
  ]
}