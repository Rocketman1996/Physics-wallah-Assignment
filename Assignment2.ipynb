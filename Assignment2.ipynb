{
  "nbformat": 4,
  "nbformat_minor": 0,
  "metadata": {
    "colab": {
      "provenance": [],
      "authorship_tag": "ABX9TyOVPr9nXLuCdwuDWDIuLS2D",
      "include_colab_link": true
    },
    "kernelspec": {
      "name": "python3",
      "display_name": "Python 3"
    },
    "language_info": {
      "name": "python"
    }
  },
  "cells": [
    {
      "cell_type": "markdown",
      "metadata": {
        "id": "view-in-github",
        "colab_type": "text"
      },
      "source": [
        "<a href=\"https://colab.research.google.com/github/Rocketman1996/Physics-wallah-Assignment/blob/main/Assignment2.ipynb\" target=\"_parent\"><img src=\"https://colab.research.google.com/assets/colab-badge.svg\" alt=\"Open In Colab\"/></a>"
      ]
    },
    {
      "cell_type": "code",
      "execution_count": null,
      "metadata": {
        "colab": {
          "base_uri": "https://localhost:8080/"
        },
        "id": "ijGKSAiIDLpD",
        "outputId": "b422a586-4520-4d9f-c960-c658c6e374e5"
      },
      "outputs": [
        {
          "output_type": "execute_result",
          "data": {
            "text/plain": [
              "{'name': 'Alice', 'age': 20, 'grade': 'A'}"
            ]
          },
          "metadata": {},
          "execution_count": 4
        }
      ],
      "source": [
        "student = {\"name\": \"Alice\", \"age\": 20, \"grade\": \"A\"}  # 'student' is a dictionary\n",
        "student"
      ]
    },
    {
      "cell_type": "code",
      "source": [
        "my_dict = {\"name\": \"Alice\", \"age\": 25, \"city\": \"New York\"}\n",
        "\n",
        "# Try to print the 'first' item\n",
        "print(my_dict[\"name\"])  # This will print \"Alice\"\n"
      ],
      "metadata": {
        "colab": {
          "base_uri": "https://localhost:8080/"
        },
        "id": "DeShv0W9-1DG",
        "outputId": "8274f28d-87a0-4e53-fcf6-c82d7e683753"
      },
      "execution_count": null,
      "outputs": [
        {
          "output_type": "stream",
          "name": "stdout",
          "text": [
            "Alice\n"
          ]
        }
      ]
    },
    {
      "cell_type": "code",
      "source": [
        "def add(x, y):\n",
        "    \"\"\"\n",
        "    This is a docstring.\n",
        "    This function will be used to add two numbers: x and y.\n",
        "    \"\"\"\n",
        "    return x + y\n",
        "\n",
        "# use the function\n",
        "result = add(5, 10)\n",
        "print(result)\n"
      ],
      "metadata": {
        "id": "rCO6maNyuOfh",
        "colab": {
          "base_uri": "https://localhost:8080/"
        },
        "outputId": "c35fee96-28a5-43a4-b0bd-f0ed338ee602"
      },
      "execution_count": 1,
      "outputs": [
        {
          "output_type": "stream",
          "name": "stdout",
          "text": [
            "15\n"
          ]
        }
      ]
    },
    {
      "cell_type": "code",
      "source": [
        "tup = (\"fne\",1,2,3,4,5,True,1.56)\n",
        "\n",
        "leest = list(tup)\n",
        "\n",
        "leest"
      ],
      "metadata": {
        "id": "OIc0nteVeop0",
        "colab": {
          "base_uri": "https://localhost:8080/"
        },
        "outputId": "c601223c-a6a4-47d9-bc8e-639e68e1243b"
      },
      "execution_count": 4,
      "outputs": [
        {
          "output_type": "execute_result",
          "data": {
            "text/plain": [
              "['fne', 1, 2, 3, 4, 5, True, 1.56]"
            ]
          },
          "metadata": {},
          "execution_count": 4
        }
      ]
    },
    {
      "cell_type": "code",
      "source": [
        "from google.colab import drive\n",
        "drive.mount('/content/drive')"
      ],
      "metadata": {
        "id": "mTLak2KpcUrP"
      },
      "execution_count": null,
      "outputs": []
    }
  ]
}