{
  "cells": [
    {
      "cell_type": "markdown",
      "metadata": {
        "id": "xO5CIFV1pTJx"
      },
      "source": [
        "Q1. How do you comment code in Python? What are the different types of comments?\n"
      ]
    },
    {
      "cell_type": "code",
      "execution_count": 25,
      "metadata": {
        "colab": {
          "base_uri": "https://localhost:8080/",
          "height": 36
        },
        "id": "oI9eaMkRqfPG",
        "outputId": "b52f6ca0-0920-4c9b-a66b-03914deffdc5"
      },
      "outputs": [
        {
          "output_type": "execute_result",
          "data": {
            "text/plain": [
              "'\\nThis is a multi-line\\ncomment that spans several\\nlines.\\n'"
            ],
            "application/vnd.google.colaboratory.intrinsic+json": {
              "type": "string"
            }
          },
          "metadata": {},
          "execution_count": 25
        }
      ],
      "source": [
        "# There are three types of comment we can use. Each have a different usecase\n",
        "\n",
        "1. # comments\n",
        "2.\n",
        "'''\n",
        "This is a multi-line\n",
        "comment that spans several\n",
        "lines.\n",
        "'''\n"
      ]
    },
    {
      "cell_type": "code",
      "execution_count": 26,
      "metadata": {
        "colab": {
          "base_uri": "https://localhost:8080/"
        },
        "id": "g63srylSu8Oc",
        "outputId": "dc1f5822-0204-4e6e-b955-af82f292f95e"
      },
      "outputs": [
        {
          "output_type": "stream",
          "name": "stdout",
          "text": [
            "5\n"
          ]
        }
      ],
      "source": [
        "#3.\n",
        "def add(x, y):\n",
        "\n",
        "      \"\"\"\n",
        "      this is a socstring\n",
        "      basically it wll be used to explain  a function\n",
        "      \"\"\"\n",
        "      return x+y\n",
        "\n",
        "result = add(3,2)\n",
        "print(result)"
      ]
    },
    {
      "cell_type": "markdown",
      "metadata": {
        "id": "3_854TmksN7y"
      },
      "source": [
        "Q2. What are variables in Python? How do you declare and assign values to variables?"
      ]
    },
    {
      "cell_type": "code",
      "execution_count": 27,
      "metadata": {
        "id": "d-8RqBobsQqu"
      },
      "outputs": [],
      "source": [
        "# In python variables are something in which we can store the data. it can be in different form and manner like\n",
        "x = 5\n",
        "c=v=n = 3\n",
        "c,v,n = 3,4,\"bfbsdbk\"\n",
        "\n",
        "# a variable name should start with a letter or underscore it can't start with a number or special charecter."
      ]
    },
    {
      "cell_type": "markdown",
      "metadata": {
        "id": "dD8ZD9_xvjMw"
      },
      "source": [
        "Q3. How do you convert one data type to another in Python?"
      ]
    },
    {
      "cell_type": "markdown",
      "metadata": {
        "id": "5YKH8kulv99C"
      },
      "source": [
        "In python we can use the built in functions to covert a data type in another form.\n",
        "like int(), float(),list(),tuple(),bool(),dict()\n",
        "exe -\n",
        "\n",
        "x = int(3.5) it'll be 3\n",
        "x = int(\"10\") it'll be 10\n",
        "\n",
        "sometimes we can forfully covert a dat type into another type and store in the another variable name -\n",
        "let's say we have a tuple we can covert it into list\n",
        "exe -\n",
        "\n",
        "tup = (\"fne\",1,2,3,4,5,true,1.56)\n",
        "\n",
        "leest = list(tup)"
      ]
    },
    {
      "cell_type": "code",
      "execution_count": 28,
      "metadata": {
        "colab": {
          "base_uri": "https://localhost:8080/"
        },
        "id": "n_wHjaVXxSgT",
        "outputId": "8e2bd2d5-f998-48c7-c475-5cdfd746e719"
      },
      "outputs": [
        {
          "output_type": "execute_result",
          "data": {
            "text/plain": [
              "['fne', 1, 2, 3, 4, 5, True, 1.56]"
            ]
          },
          "metadata": {},
          "execution_count": 28
        }
      ],
      "source": [
        "tup = (\"fne\",1,2,3,4,5,True,1.56)\n",
        "\n",
        "leest = list(tup)\n",
        "\n",
        "leest"
      ]
    },
    {
      "cell_type": "markdown",
      "metadata": {
        "id": "d_1gqlwSxT85"
      },
      "source": [
        "Q4. How do you write and execute a Python script from the command line?\n"
      ]
    },
    {
      "cell_type": "markdown",
      "metadata": {
        "id": "Q3sS4qXJNM6y"
      },
      "source": [
        "1. python should be installed\n",
        "2. in any text editor write any code and save it with suffics .py\n",
        "3. go to the command prompt - 1. get the location of the file saved -> write python nameofthesavedfile.py\n",
        "4. it'll get executed\n",
        "\n",
        "\n",
        "EXE. let say I saved a file in text doc. in this i've written the code print(\"hello_python) and saved it as new.py\n",
        "\n",
        "then used the - C:\\Users\\asus>cd Desktop\n",
        "\n",
        "C:\\Users\\asus\\Desktop>python new.py\n",
        "hello python\n",
        "\n",
        "                              "
      ]
    },
    {
      "cell_type": "markdown",
      "metadata": {
        "id": "xLSFZHwQOWUC"
      },
      "source": [
        "Q5. Given a list my_list = [1, 2, 3, 4, 5], write the code to slice the list and obtain the sub-list [2, 3]."
      ]
    },
    {
      "cell_type": "code",
      "execution_count": 29,
      "metadata": {
        "colab": {
          "base_uri": "https://localhost:8080/"
        },
        "id": "Eb4a6qLlOctD",
        "outputId": "de2b051e-825e-466e-ef87-027dff789db3"
      },
      "outputs": [
        {
          "output_type": "execute_result",
          "data": {
            "text/plain": [
              "[2, 3]"
            ]
          },
          "metadata": {},
          "execution_count": 29
        }
      ],
      "source": [
        "my_list  = [1, 2, 3, 4, 5]\n",
        "\n",
        "my_list[1:3]"
      ]
    },
    {
      "cell_type": "markdown",
      "metadata": {
        "id": "bY5NSTpCPBKA"
      },
      "source": [
        "Q6. What is a complex number in mathematics, and how is it represented in Python?"
      ]
    },
    {
      "cell_type": "markdown",
      "metadata": {
        "id": "Lr1QQMOXPEn4"
      },
      "source": [
        "# A complex number is something thing that expressed in the terms of a+bi in which a & b is the real part and i is the imaginary part.\n",
        "# i is the root of -1, so i**2 becomes the -1 which is imaginary.\n",
        "\n",
        "x= a+ib"
      ]
    },
    {
      "cell_type": "markdown",
      "metadata": {
        "id": "HuGbG8j8Sc8X"
      },
      "source": [
        "Q7. What is the correct way to declare a variable named age and assign the value 25 to it?\n"
      ]
    },
    {
      "cell_type": "code",
      "execution_count": 30,
      "metadata": {
        "colab": {
          "base_uri": "https://localhost:8080/"
        },
        "id": "Het1wGd_Sixj",
        "outputId": "ae128fbb-8b12-4b7d-9f42-40283d52573b"
      },
      "outputs": [
        {
          "output_type": "execute_result",
          "data": {
            "text/plain": [
              "25"
            ]
          },
          "metadata": {},
          "execution_count": 30
        }
      ],
      "source": [
        "age = 25\n",
        "age"
      ]
    },
    {
      "cell_type": "markdown",
      "metadata": {
        "id": "nXLvRJ1WSxB9"
      },
      "source": [
        "Q8. Declare a variable named price and assign the value 9.99 to it. What data type does this variable\n",
        "belong to?"
      ]
    },
    {
      "cell_type": "code",
      "execution_count": 31,
      "metadata": {
        "id": "QmFSVSw3S1i3",
        "colab": {
          "base_uri": "https://localhost:8080/"
        },
        "outputId": "f5ede52a-ad28-485c-be22-8ee58f9b5a8d"
      },
      "outputs": [
        {
          "output_type": "execute_result",
          "data": {
            "text/plain": [
              "9.99"
            ]
          },
          "metadata": {},
          "execution_count": 31
        }
      ],
      "source": [
        "price = 9.99\n",
        "price\n",
        "\n",
        "# is it the float data type"
      ]
    },
    {
      "cell_type": "markdown",
      "metadata": {
        "id": "EzyCUYrETAQa"
      },
      "source": [
        "Q9. Create a variable named name and assign your full name to it as a string. How would you print the\n",
        "value of this variable?"
      ]
    },
    {
      "cell_type": "code",
      "execution_count": 32,
      "metadata": {
        "colab": {
          "base_uri": "https://localhost:8080/",
          "height": 36
        },
        "id": "YZmP1T8YTSao",
        "outputId": "14920db4-aa39-4ec3-ea15-859ad60a32ae"
      },
      "outputs": [
        {
          "output_type": "execute_result",
          "data": {
            "text/plain": [
              "'Mehul Singh Rao'"
            ],
            "application/vnd.google.colaboratory.intrinsic+json": {
              "type": "string"
            }
          },
          "metadata": {},
          "execution_count": 32
        }
      ],
      "source": [
        "name = \"Mehul Singh Rao\"\n",
        "name"
      ]
    },
    {
      "cell_type": "markdown",
      "metadata": {
        "id": "4aOl_9zbTaRB"
      },
      "source": [
        "Q10. Given the string \"Hello, World!\", extract the substring \"World\"."
      ]
    },
    {
      "cell_type": "code",
      "execution_count": 33,
      "metadata": {
        "colab": {
          "base_uri": "https://localhost:8080/",
          "height": 36
        },
        "id": "RNvU9yQKTbIu",
        "outputId": "6c80f599-36f6-4f07-883d-71c7213c5fb0"
      },
      "outputs": [
        {
          "output_type": "execute_result",
          "data": {
            "text/plain": [
              "'World!'"
            ],
            "application/vnd.google.colaboratory.intrinsic+json": {
              "type": "string"
            }
          },
          "metadata": {},
          "execution_count": 33
        }
      ],
      "source": [
        "Q =  \"Hello, World!\"\n",
        "Q[7:14]"
      ]
    },
    {
      "cell_type": "markdown",
      "metadata": {
        "id": "ANd2hjI6TqzE"
      },
      "source": [
        "Q11. Create a variable named \"is_student\" and assign it a boolean value indicating whether you are\n",
        "currently a student or not."
      ]
    },
    {
      "cell_type": "code",
      "execution_count": 34,
      "metadata": {
        "colab": {
          "base_uri": "https://localhost:8080/"
        },
        "id": "yIKdO-HtTvup",
        "outputId": "e4daa86c-e2fc-4f72-97f3-c772ece2c1b9"
      },
      "outputs": [
        {
          "output_type": "execute_result",
          "data": {
            "text/plain": [
              "True"
            ]
          },
          "metadata": {},
          "execution_count": 34
        }
      ],
      "source": [
        "is_student = True\n",
        "not_student = False\n",
        "is_student or not_student"
      ]
    },
    {
      "cell_type": "code",
      "execution_count": null,
      "metadata": {
        "colab": {
          "background_save": true
        },
        "id": "rDangxkuUha2"
      },
      "outputs": [],
      "source": [
        "input(\"are you a student yes or no : \")\n",
        "if input.lower() == 'yes':\n",
        "  is_student = True\n",
        "else:\n",
        "  is_student = Flase\n",
        "  print('is_student',)"
      ]
    }
  ],
  "metadata": {
    "colab": {
      "provenance": []
    },
    "kernelspec": {
      "display_name": "Python 3",
      "name": "python3"
    },
    "language_info": {
      "name": "python"
    }
  },
  "nbformat": 4,
  "nbformat_minor": 0
}