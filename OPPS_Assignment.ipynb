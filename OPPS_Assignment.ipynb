{
  "nbformat": 4,
  "nbformat_minor": 0,
  "metadata": {
    "colab": {
      "provenance": []
    },
    "kernelspec": {
      "name": "python3",
      "display_name": "Python 3"
    },
    "language_info": {
      "name": "python"
    }
  },
  "cells": [
    {
      "cell_type": "markdown",
      "source": [
        "Q1, Create a vehicle class with an init method having instance variables as name_of_vehicle, max_speed\n",
        "and average_of_vehicle."
      ],
      "metadata": {
        "id": "lDss2Z7CItZ6"
      }
    },
    {
      "cell_type": "code",
      "source": [
        "class vehicle():\n",
        "\n",
        "  def __init__(self, name_of_vehicle, max_speed, average_of_vehicle):  # Here __init__(Constructor) is used to initialised the object's attriutes in order.\n",
        "    self.name_of_vehicle = name_of_vehicle\n",
        "    self.max_speed = max_speed\n",
        "    self.average_of_vehicle = average_of_vehicle\n",
        "\n",
        "# to try this out ---->\n",
        "\n",
        "a = vehicle(\"kia seltos\", 180, \"max = 27\") # here a is an object and the __init__ constructor we used will initialise the value \"\"kia seltos\", 180, \"max = 27\"\" respectively.\n",
        "\n",
        "print(f\"{a.name_of_vehicle} and {a.max_speed} and {a.average_of_vehicle}\")\n",
        "\n",
        "# In this we can also define the print function just after the __init__ which shows the info and the could have used\n",
        "# a.info so that for multiple entries we won't have to specify print again and again.\n",
        "# def info(self):\n",
        "# print(f\"{a.name_of_vehicle} and {a.max_speed} and {a.average_of_vehicle}\")\n",
        "# then let's say we had another object b so b = vehicle(\"jbsj\",45,\"jksd\") and simply b.info to get the result."
      ],
      "metadata": {
        "colab": {
          "base_uri": "https://localhost:8080/"
        },
        "id": "zbsxeCEEIv5d",
        "outputId": "d6b1c2bf-076c-4cdd-c38e-4246b207e246"
      },
      "execution_count": null,
      "outputs": [
        {
          "output_type": "stream",
          "name": "stdout",
          "text": [
            "kia seltos and 180 and max = 27\n"
          ]
        }
      ]
    },
    {
      "cell_type": "markdown",
      "source": [
        "Q2. Create a child class car from the vehicle class created in Que 1, which will inherit the vehicle class.\n",
        "Create a method named seating_capacity which takes capacity as an argument and returns the name of\n",
        "the vehicle and its seating capacity."
      ],
      "metadata": {
        "id": "LPM9KGtASMPJ"
      }
    },
    {
      "cell_type": "code",
      "source": [
        "#basically this is an inheritence type of example\n",
        "\n",
        "class vehicle():\n",
        "\n",
        "  def __init__(self, name_of_vehicle, max_speed, average_of_vehicle):\n",
        "    self.name_of_vehicle = name_of_vehicle\n",
        "    self.max_speed = max_speed\n",
        "    self.average_of_vehicle = average_of_vehicle\n",
        "\n",
        "class car(vehicle):\n",
        "\n",
        "  def seating_capacity(self, capacity):\n",
        "    self.capacity = capacity\n",
        "    print(f\"The name of the car is {self.name_of_vehicle}, and it's seating capacity is {self.capacity}\")\n",
        "\n",
        "# so in this car is the child class which inherited the vehicle class so after creating it's own attribute capacity. in the print section we can ask to get return from the -\n",
        "# - vehicle class here we used 'name_of_vehicle' which is basically inherited call from the vehicle class in car class. so basically we can call all three attributes from the -\n",
        "# - vehicle class if we want.\n",
        "\n",
        "\n",
        "\n",
        "class truck(vehicle):\n",
        "\n",
        "  def load_capacity(self, load_capacity):\n",
        "    self.load_capacity = load_capacity\n",
        "    print(f\"the load capacity of the truck {self.name_of_vehicle}, is somewhere {self.load_capacity}, and it's max speed is not > than {self.max_speed}\")\n",
        "\n",
        "\n",
        "class class3(car, truck):\n",
        "  pass\n",
        "\n",
        "b = truck(\"bolero\", 90, \"max = 15\")\n",
        "a = car(\"kia seltos\", 180, \"max = 27\")\n",
        "\n",
        "a.seating_capacity(9)\n",
        "\n",
        "b.load_capacity(\"400 ton\")\n",
        "\n",
        "class3_obj = class3(\"Hybrid Vehicle\", 200, \"max = 35\")\n",
        "class3_obj.seating_capacity(4)"
      ],
      "metadata": {
        "colab": {
          "base_uri": "https://localhost:8080/"
        },
        "id": "7V4Slf1rSPYi",
        "outputId": "6224609a-8191-4b1f-8afc-1836f83c4d42"
      },
      "execution_count": 11,
      "outputs": [
        {
          "output_type": "stream",
          "name": "stdout",
          "text": [
            "The name of the car is kia seltos, and it's seating capacity is 9\n",
            "the load capacity of the truck bolero, is somewhere 400 ton, and it's max speed is not > than 90\n",
            "The name of the car is Hybrid Vehicle, and it's seating capacity is 4\n"
          ]
        }
      ]
    },
    {
      "cell_type": "markdown",
      "source": [
        "Q3. What is multiple inheritance? Write a python code to demonstrate multiple inheritance."
      ],
      "metadata": {
        "id": "3N_8k99A86hH"
      }
    },
    {
      "cell_type": "code",
      "source": [
        "class parent:\n",
        "  def __init__(self, name, age):\n",
        "    self.name = name\n",
        "    self.age = age\n",
        "\n",
        "  def info(self):\n",
        "    print(f\"name is {self.name} and the age is {self.age}.\")\n",
        "\n",
        "class teacher:\n",
        "  def __init__(self, name, subject):\n",
        "    self.name = name\n",
        "    self.subject = subject\n",
        "\n",
        "  def info(self):\n",
        "    print(f\" name is {self.name} and they teaches {self.subject}.\")\n",
        "\n",
        "class parent_teacher(parent, teacher):\n",
        "  def __init__(self, name, age, subject, hours):\n",
        "      parent.__init__(self, name, age)   # So in this parent_teacher class inherited multiple classes, So basically it can call name age and subject.\n",
        "      teacher.__init__(self, name, subject)   # in this there's one catch which is to use \"BaseClass.__init__(self, arguments)\" in the constructor\".\n",
        "      self.hours = hours\n",
        "\n",
        "  def info(self):\n",
        "    print(f\"the name of the teacherparent is {self.name}, their age is {self.age} and they teaches {self.subject} and hours of study is around {self.hours}.\")\n",
        "\n",
        "parentandteacher = parent_teacher(\"Mehul\", 25, \"datascience247\",4)\n",
        "parentandteacher.info()"
      ],
      "metadata": {
        "id": "xmXvIhH387XZ",
        "colab": {
          "base_uri": "https://localhost:8080/"
        },
        "outputId": "4bd84e46-ae96-4770-9e93-1f38ba4c3f63"
      },
      "execution_count": 9,
      "outputs": [
        {
          "output_type": "stream",
          "name": "stdout",
          "text": [
            "the name of the teacherparent is Mehul, their age is 25 and they teaches datascience247 and hours of study is around 4.\n"
          ]
        }
      ]
    },
    {
      "cell_type": "markdown",
      "source": [
        "Q4. What are getter and setter in python? Create a class and create a getter and a setter method in this\n",
        "class."
      ],
      "metadata": {
        "id": "SAv0FOBS4CYN"
      }
    },
    {
      "cell_type": "code",
      "source": [
        "# Getter Method (Accessor Method):\n",
        "# A getter method is used to retrieve the value of an attribute. It allows you to access the attribute without directly exposing it to the outside world.\n",
        "\n",
        "# Setter Method (Mutator Method):\n",
        "# A setter method is used to set or modify the value of an attribute. It allows you to control how the attribute is modified and add validation or checks before updating its value.\n",
        "\n",
        "class Student:\n",
        "\n",
        "  def __init__(self, name, age):\n",
        "    self._name = name # Using a single underscore before attribute name to indicate it as a protected attribute(it's just a signal)\n",
        "    self._age = age\n",
        "\n",
        "  # using a getter to get the attribute's value name\n",
        "  def get_name(self):\n",
        "    return self._name\n",
        "\n",
        "  # setter is used to either set a value to the attribut or modify it.\n",
        "  def set_name(self, name):\n",
        "    if isinstance(name, str):\n",
        "      self._name = name\n",
        "    else:\n",
        "      print(\"name must be a string\")\n",
        "\n",
        "  # using getter for age attri\n",
        "  def get_age(self):\n",
        "    return self._age\n",
        "\n",
        "  # using setter for age on a condition\n",
        "  def set_age(self,age):\n",
        "    if age >= 0:\n",
        "      self._age = age\n",
        "    else:\n",
        "      print(\"print please enter a number and a positive one\")\n",
        "\n",
        "# setting object for Student class\n",
        "student = Student(\"rahul\", 55)\n",
        "# using getter to get thr name os the object instances \\\n",
        "print(student.get_name())\n",
        "# using setter to change the value of a object attributed\n",
        "student.set_name(\"rahulchange\")\n",
        "print(student.get_name())\n",
        "\n",
        "# using getter to get the name\n",
        "print(student.get_age())\n",
        "# usng setter to set the age\n",
        "student.set_age(69)\n",
        "print(student.get_age())\n",
        "\n"
      ],
      "metadata": {
        "colab": {
          "base_uri": "https://localhost:8080/"
        },
        "id": "IZC7Jvag4DJ9",
        "outputId": "f43f475d-73da-4e20-8125-2327ea8f5265"
      },
      "execution_count": 13,
      "outputs": [
        {
          "output_type": "stream",
          "name": "stdout",
          "text": [
            "rahul\n",
            "rahulchange\n",
            "55\n",
            "69\n"
          ]
        }
      ]
    },
    {
      "cell_type": "markdown",
      "source": [
        "Q5.What is method overriding in python? Write a python code to demonstrate method overriding."
      ],
      "metadata": {
        "id": "zd9uGu2OmA1p"
      }
    },
    {
      "cell_type": "code",
      "source": [
        "#Method overriding is a concept in object-oriented programming where a subclass provides a specific implementation for a method that is already defined in its superclass.\n",
        "#The overridden method in the subclass will have the same name and signature as the one in the superclass but will provide a different implementation.\n",
        "\n",
        "\n",
        "\n",
        "class Animal:\n",
        "  def speak(self):\n",
        "    print(\"animal speaks in thier way\")\n",
        "\n",
        "class Dog(Animal):\n",
        "  def speak(self):\n",
        "    print(\"Dog Barks\")\n",
        "\n",
        "class cat(Animal):\n",
        "  def speak(self):\n",
        "    print(\"cat meow\")\n",
        "\n",
        "if __name__ == \"__main__\":  # This is basically used to protect the objects we are making from using it in another py file.\n",
        "\n",
        "  dog_sound = Dog()\n",
        "  dog_sound.speak()\n",
        "\n",
        "  cat_sound = cat()\n",
        "  cat_sound.speak()"
      ],
      "metadata": {
        "colab": {
          "base_uri": "https://localhost:8080/"
        },
        "id": "FO3a3WtSmFPQ",
        "outputId": "40128dd9-75bb-4ff9-a0f2-12c00f29dae4"
      },
      "execution_count": 6,
      "outputs": [
        {
          "output_type": "stream",
          "name": "stdout",
          "text": [
            "Dog Barks\n",
            "cat meow\n"
          ]
        }
      ]
    }
  ]
}