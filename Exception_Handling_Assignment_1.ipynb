{
  "nbformat": 4,
  "nbformat_minor": 0,
  "metadata": {
    "colab": {
      "provenance": []
    },
    "kernelspec": {
      "name": "python3",
      "display_name": "Python 3"
    },
    "language_info": {
      "name": "python"
    }
  },
  "cells": [
    {
      "cell_type": "markdown",
      "source": [
        "Q1. What is the Exception in python? write the difference between exceptions and syntax error."
      ],
      "metadata": {
        "id": "5qtdE51yUxJe"
      }
    },
    {
      "cell_type": "markdown",
      "source": [
        "**1. Exceptions** :\n",
        "Exceptions are basically when something unexpected happens in a program.\n",
        "As soon as any unexpected even happens an exception handler comes into play and process a smooth execution.\n",
        "\n",
        "Cause: They happen when something unexpected goes wrong while the program is running, like dividing by zero or trying to use a missing file.\n",
        "\n",
        "Detected: These are found during the program's execution.\n",
        "\n",
        "Handling: You can use try-except blocks to deal with exceptions and prevent the program from crashing.\n",
        "\n",
        "Example: Trying to open a file that doesn't exist (FileNotFoundError), or attempting to access an item in a list that's not there (IndexError).\n",
        "\n",
        "**2. Syntax Errors** :\n",
        "\n",
        "Syntex error are basically happens when we break any pythons rule like syntex and it's not unexpected. Secondly it adrupts the the program immedieatly.\n",
        "\n",
        "Cause: These occur when the code is not written correctly, breaking the rules of the Python language.\n",
        "\n",
        "Detected: These are caught before the program even starts running, during the checking of the code's structure.\n",
        "\n",
        "Handling: You can't handle syntax errors directly; you must fix the code.\n",
        "\n",
        "Example: Forgetting a colon at the end of a if statement, misspelling a keyword like printt instead of print."
      ],
      "metadata": {
        "id": "UPilD9lkWtWR"
      }
    },
    {
      "cell_type": "markdown",
      "source": [
        "Q2. What happens when a exception is not handled? Explain with an example."
      ],
      "metadata": {
        "id": "6xvtsET7XQJI"
      }
    },
    {
      "cell_type": "code",
      "source": [
        "# It is called as an \"unhandlled exception\".This thing \"unhandlled exception\" disrupt the normal flow of the programe and terminate the program abruptly.\n",
        "\n",
        "def divide(a,b):\n",
        "  return a/b\n",
        "\n",
        "num = 5\n",
        "deno = 0\n",
        "c = divide(num,deno)\n",
        "print(c)"
      ],
      "metadata": {
        "colab": {
          "base_uri": "https://localhost:8080/",
          "height": 349
        },
        "id": "OOf5TdZBcDjD",
        "outputId": "37db7ae4-be1d-4620-cb28-28c691d8a2a6"
      },
      "execution_count": null,
      "outputs": [
        {
          "output_type": "error",
          "ename": "ZeroDivisionError",
          "evalue": "ignored",
          "traceback": [
            "\u001b[0;31m---------------------------------------------------------------------------\u001b[0m",
            "\u001b[0;31mZeroDivisionError\u001b[0m                         Traceback (most recent call last)",
            "\u001b[0;32m<ipython-input-10-3b2fdfdd863a>\u001b[0m in \u001b[0;36m<cell line: 8>\u001b[0;34m()\u001b[0m\n\u001b[1;32m      6\u001b[0m \u001b[0mnum\u001b[0m \u001b[0;34m=\u001b[0m \u001b[0;36m5\u001b[0m\u001b[0;34m\u001b[0m\u001b[0;34m\u001b[0m\u001b[0m\n\u001b[1;32m      7\u001b[0m \u001b[0mdeno\u001b[0m \u001b[0;34m=\u001b[0m \u001b[0;36m0\u001b[0m\u001b[0;34m\u001b[0m\u001b[0;34m\u001b[0m\u001b[0m\n\u001b[0;32m----> 8\u001b[0;31m \u001b[0mc\u001b[0m \u001b[0;34m=\u001b[0m \u001b[0mdivide\u001b[0m\u001b[0;34m(\u001b[0m\u001b[0mnum\u001b[0m\u001b[0;34m,\u001b[0m\u001b[0mdeno\u001b[0m\u001b[0;34m)\u001b[0m\u001b[0;34m\u001b[0m\u001b[0;34m\u001b[0m\u001b[0m\n\u001b[0m\u001b[1;32m      9\u001b[0m \u001b[0mprint\u001b[0m\u001b[0;34m(\u001b[0m\u001b[0mc\u001b[0m\u001b[0;34m)\u001b[0m\u001b[0;34m\u001b[0m\u001b[0;34m\u001b[0m\u001b[0m\n",
            "\u001b[0;32m<ipython-input-10-3b2fdfdd863a>\u001b[0m in \u001b[0;36mdivide\u001b[0;34m(a, b)\u001b[0m\n\u001b[1;32m      2\u001b[0m \u001b[0;34m\u001b[0m\u001b[0m\n\u001b[1;32m      3\u001b[0m \u001b[0;32mdef\u001b[0m \u001b[0mdivide\u001b[0m\u001b[0;34m(\u001b[0m\u001b[0ma\u001b[0m\u001b[0;34m,\u001b[0m\u001b[0mb\u001b[0m\u001b[0;34m)\u001b[0m\u001b[0;34m:\u001b[0m\u001b[0;34m\u001b[0m\u001b[0;34m\u001b[0m\u001b[0m\n\u001b[0;32m----> 4\u001b[0;31m   \u001b[0;32mreturn\u001b[0m \u001b[0ma\u001b[0m\u001b[0;34m/\u001b[0m\u001b[0mb\u001b[0m\u001b[0;34m\u001b[0m\u001b[0;34m\u001b[0m\u001b[0m\n\u001b[0m\u001b[1;32m      5\u001b[0m \u001b[0;34m\u001b[0m\u001b[0m\n\u001b[1;32m      6\u001b[0m \u001b[0mnum\u001b[0m \u001b[0;34m=\u001b[0m \u001b[0;36m5\u001b[0m\u001b[0;34m\u001b[0m\u001b[0;34m\u001b[0m\u001b[0m\n",
            "\u001b[0;31mZeroDivisionError\u001b[0m: division by zero"
          ]
        }
      ]
    },
    {
      "cell_type": "code",
      "source": [
        "# another example to show that iF we employing the exception handling then the program continues to run after encouterin an error according ti the exception details.\n",
        "\n",
        "import math\n",
        "\n",
        "try:\n",
        "    number = float(input(\"Enter a number: \"))\n",
        "    square_root = math.sqrt(number)\n",
        "    print(\"Square root:\", square_root)\n",
        "\n",
        "except ValueError:\n",
        "    print(\"Invalid input. Please enter a +ve number or.\")\n",
        "\n",
        "print(\"Program continues executing...\")\n"
      ],
      "metadata": {
        "colab": {
          "base_uri": "https://localhost:8080/"
        },
        "id": "dHrYxixgg0V-",
        "outputId": "1f4af3c6-d59d-40b9-83c8-17e895ee1f04"
      },
      "execution_count": null,
      "outputs": [
        {
          "output_type": "stream",
          "name": "stdout",
          "text": [
            "Enter a number: -99\n",
            "Invalid input. Please enter a +ve number or.\n",
            "Program continues executing...\n"
          ]
        }
      ]
    },
    {
      "cell_type": "markdown",
      "source": [
        "Q3. Which python statement is used to catch and handle the exception? Explain with an example."
      ],
      "metadata": {
        "id": "gop4-RufSG-N"
      }
    },
    {
      "cell_type": "code",
      "source": [
        "# There are 4 Major statements which is used to catch and Handle the exception -\n",
        "\n",
        "# 1. try - it contains the function in for which we want to catch the error.\n",
        "try:\n",
        "  def prime_num(n):\n",
        "    if n <= 0:\n",
        "      return False\n",
        "    if n == 2:\n",
        "      return True\n",
        "    if n%2 == 0:\n",
        "      return False\n",
        "    max_divisor = int(n**0.5)/2\n",
        "    for i in range(3,max_dvisor+1, 2):\n",
        "      if n%i == 0:\n",
        "        return False\n",
        "    return True\n",
        "    prime_num(20)\n",
        "\n",
        "except ValueError:\n",
        "  print(\"please enter an interger vlaue\")\n",
        "\n",
        "else:\n",
        "  print(\"it's fine\")\n",
        "\n",
        "finally:\n",
        "  print(\"exception handling is complete\")"
      ],
      "metadata": {
        "colab": {
          "base_uri": "https://localhost:8080/"
        },
        "id": "y7btqSSqSIEK",
        "outputId": "3908e38a-8148-4e3d-bcdb-c0019657c5ec"
      },
      "execution_count": null,
      "outputs": [
        {
          "output_type": "stream",
          "name": "stdout",
          "text": [
            "it's fine\n",
            "exception handling is complete\n"
          ]
        }
      ]
    },
    {
      "cell_type": "code",
      "source": [
        "# employing logging for the best practice\n",
        "\n",
        "# Configure logging\n",
        "logging.basicConfig(filename='exception_log.txt', level=logging.DEBUG,\n",
        "                    format='%(asctime)s - %(levelname)s - %(message)s')\n",
        "\n",
        "# 1. try - it contains the function in which we want to catch the error.\n",
        "try:\n",
        "    def prime_num(n):\n",
        "        if not isinstance(n, int):  # Check if n is not an integer\n",
        "            raise ValueError(\"Please enter an integer value\")\n",
        "\n",
        "        if n <= 0:\n",
        "            return False\n",
        "        if n == 2:\n",
        "            return True\n",
        "        if n % 2 == 0:\n",
        "            return False\n",
        "        max_divisor = int(n ** 0.5)\n",
        "        for i in range(3, max_divisor + 1, 2):\n",
        "            if n % i == 0:\n",
        "                return False\n",
        "        return True\n",
        "\n",
        "    prime_num(\"xyz\")  # This will raise a ValueError\n",
        "\n",
        "# 2. except which handles the error\n",
        "except ValueError as e:\n",
        "    print(e)\n",
        "# 3. If there is no error than\n",
        "else:\n",
        "    logging.info(\"No exception occurred: it's fine\")\n",
        "# 4. anyways if you want to process something.\n",
        "finally:\n",
        "    logging.debug(\"Exception handling is complete\")  # Else and finally is logging into the excepion_txt file not showing output here.\n"
      ],
      "metadata": {
        "colab": {
          "base_uri": "https://localhost:8080/"
        },
        "id": "XMcSIzIkgK9x",
        "outputId": "396f4813-03bd-4a67-c207-a20e627147b2"
      },
      "execution_count": null,
      "outputs": [
        {
          "output_type": "stream",
          "name": "stdout",
          "text": [
            "Please enter an integer value\n"
          ]
        }
      ]
    },
    {
      "cell_type": "code",
      "source": [
        "try:\n",
        "    def prime_num(n):\n",
        "        if not isinstance(n, int):  # Check if n is not an integer\n",
        "            raise ValueError(\"Please enter an integer value\")\n",
        "\n",
        "        if n <= 0:\n",
        "            return False\n",
        "        if n == 2:\n",
        "            return True\n",
        "        if n % 2 == 0:\n",
        "            return False\n",
        "        max_divisor = int(n ** 0.5)\n",
        "        for i in range(3, max_divisor + 1, 2):\n",
        "            if n % i == 0:\n",
        "                return False\n",
        "        return True\n",
        "\n",
        "    prime_num(90)  # This will not raise a ValueError\n",
        "\n",
        "except ValueError as e:\n",
        "    print(e)       # everything worked out smooth so results are stored in logging file.\n",
        "\n",
        "else:\n",
        "    logging.info(\"No exception occurred: it's fine\")\n",
        "\n",
        "finally:\n",
        "    logging.debug(\"Exception handling is complete\")\n"
      ],
      "metadata": {
        "id": "VJ1MlYQ-gNJa"
      },
      "execution_count": null,
      "outputs": []
    },
    {
      "cell_type": "markdown",
      "source": [
        "Q.4 Explain with an example\n",
        "\n",
        "1. try and else\n",
        "2. finally\n",
        "3. raise"
      ],
      "metadata": {
        "id": "4O2pKjKShfZv"
      }
    },
    {
      "cell_type": "code",
      "source": [
        "# lets take the same example for try, else and finally\n",
        "\n",
        "# Configure logging\n",
        "logging.basicConfig(filename='exception_log2.txt', level=logging.DEBUG,\n",
        "                    format='%(asctime)s - %(levelname)s - %(message)s')\n",
        "# try is a block in which we put the code for which we want to find the error or catch it.\n",
        "try:\n",
        "    def prime_num(n):\n",
        "        if not isinstance(n, int):  # Check if n is not an integer\n",
        "            raise ValueError(\"Please enter an integer value\")\n",
        "\n",
        "        if n <= 0:\n",
        "            return False\n",
        "        if n == 2:\n",
        "            return True\n",
        "        if n % 2 == 0:\n",
        "            return False\n",
        "        max_divisor = int(n ** 0.5)\n",
        "        for i in range(3, max_divisor + 1, 2):\n",
        "            if n % i == 0:\n",
        "                return False\n",
        "        return True\n",
        "\n",
        "    prime_num(20)  # This will raise a ValueError\n",
        "# if there is an error it'll get caught by except within the try.\n",
        "except ValueError as e:\n",
        "    print(e)\n",
        "# if there is not error in it the else block will get excuted.\n",
        "else:\n",
        "    print(\"No exception occurred: it's fine\")\n",
        "# Finally is used when at any cost we want to close a thing, program or maybe a pipeline.\n",
        "finally:\n",
        "    print(\"Exception handling is complete\")"
      ],
      "metadata": {
        "colab": {
          "base_uri": "https://localhost:8080/"
        },
        "id": "eW0SMDKXh8kl",
        "outputId": "ad77e431-b9f8-45e9-9962-af9d67ebb196"
      },
      "execution_count": null,
      "outputs": [
        {
          "output_type": "stream",
          "name": "stdout",
          "text": [
            "No exception occurred: it's fine\n",
            "Exception handling is complete\n"
          ]
        }
      ]
    },
    {
      "cell_type": "code",
      "source": [
        "# Raise - let's take one example for it.\n",
        "# for this we can take a function\n",
        "\n",
        "def even_num(n):\n",
        "  if n%2 != 0:\n",
        "    raise ValueError(\"this is not a even number\")\n",
        "  else:\n",
        "    print(\"THe given number is even\")\n",
        "\n",
        "try:\n",
        "  number = int(input(\"please give even number:  \")) # So if we enter an odd number\n",
        "  even_num(number)\n",
        "except ValueError as e:    # the value error wil catch it and will give the value of raise.\n",
        "  print(e)"
      ],
      "metadata": {
        "colab": {
          "base_uri": "https://localhost:8080/"
        },
        "id": "YBzW8X8fjZ1H",
        "outputId": "addfcbf5-f12f-4530-f4a3-f2a44b19cf0b"
      },
      "execution_count": null,
      "outputs": [
        {
          "output_type": "stream",
          "name": "stdout",
          "text": [
            "please give even number:  7\n",
            "this is not a even number\n"
          ]
        }
      ]
    },
    {
      "cell_type": "markdown",
      "source": [
        "Q5. what is a custom exception in python? why do we need them. explain with an example."
      ],
      "metadata": {
        "id": "pMrraz4kv68F"
      }
    },
    {
      "cell_type": "code",
      "source": [
        "# A custome exception in python is an exception which is build by ourselfs by making a class and inheriting from a built in python Exception base class.\n",
        "# We need custom exception because we want to get the tailored exception from the base class according to out need with the use of \"raise\".\n",
        "\n",
        "# Example\n",
        "class WithdrawalError(Exception):\n",
        "    def __init__(self,msg):\n",
        "      self.msg = msg\n",
        "\n",
        "\n",
        "\n",
        "def withdraw(balance, amount):\n",
        "    if amount > balance:\n",
        "        raise WithdrawalError(\"Amount is bigger than balance\")\n",
        "    else:\n",
        "        print(\"Withdrawal successful\")\n",
        "\n",
        "try:\n",
        "    account_balance = 6\n",
        "    withdrawal_amount = 10\n",
        "    withdraw(account_balance, withdrawal_amount)\n",
        "except WithdrawalError as e:\n",
        "    print(e)\n"
      ],
      "metadata": {
        "colab": {
          "base_uri": "https://localhost:8080/"
        },
        "id": "FjVYanbzwCi1",
        "outputId": "e15ae393-22ec-43a8-922a-534f6d5883d4"
      },
      "execution_count": null,
      "outputs": [
        {
          "output_type": "stream",
          "name": "stdout",
          "text": [
            "Amount is bigger than balance\n"
          ]
        }
      ]
    },
    {
      "cell_type": "markdown",
      "source": [
        "Q6. Create on custom exception class. use this class to handle an exception."
      ],
      "metadata": {
        "id": "hmTkNO9m1UZ7"
      }
    },
    {
      "cell_type": "code",
      "source": [
        "# we can take previous example which clearly answer this quetion\n",
        "# we modify it  a bit\n",
        "\n",
        "class WithdrawalError(Exception):\n",
        "    def __init__(self, balance, amount):\n",
        "        self.balance = balance\n",
        "        self.amount = amount\n",
        "        super().__init__(f\"WithdrawalError: Cannot withdraw {amount}. Balance: {balance}\")\n",
        "\n",
        "def withdraw(balance, amount):\n",
        "    if amount > balance:\n",
        "        raise WithdrawalError(balance, amount)\n",
        "    else:\n",
        "        print(\"Withdrawal successful\")\n",
        "\n",
        "try:\n",
        "    account_balance = 6\n",
        "    withdrawal_amount = 10000000\n",
        "    withdraw(account_balance, withdrawal_amount)\n",
        "except WithdrawalError as e:\n",
        "    print(e)\n"
      ],
      "metadata": {
        "colab": {
          "base_uri": "https://localhost:8080/"
        },
        "id": "m5xEQ8i91VAY",
        "outputId": "b9a00c1b-61a5-4de7-dd23-7a220c2d46f2"
      },
      "execution_count": null,
      "outputs": [
        {
          "output_type": "stream",
          "name": "stdout",
          "text": [
            "WithdrawalError: Cannot withdraw 10000000. Balance: 6\n"
          ]
        }
      ]
    }
  ]
}