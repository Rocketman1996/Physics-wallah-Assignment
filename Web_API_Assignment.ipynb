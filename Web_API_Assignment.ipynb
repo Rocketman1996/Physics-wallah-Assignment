{
  "nbformat": 4,
  "nbformat_minor": 0,
  "metadata": {
    "colab": {
      "provenance": [],
      "authorship_tag": "ABX9TyPXrbHwX5yu1RgM29c+3JOJ",
      "include_colab_link": true
    },
    "kernelspec": {
      "name": "python3",
      "display_name": "Python 3"
    },
    "language_info": {
      "name": "python"
    }
  },
  "cells": [
    {
      "cell_type": "markdown",
      "metadata": {
        "id": "view-in-github",
        "colab_type": "text"
      },
      "source": [
        "<a href=\"https://colab.research.google.com/github/Rocketman1996/Physics-wallah-Assignment/blob/main/Web_API_Assignment.ipynb\" target=\"_parent\"><img src=\"https://colab.research.google.com/assets/colab-badge.svg\" alt=\"Open In Colab\"/></a>"
      ]
    },
    {
      "cell_type": "markdown",
      "source": [
        "Q1. What is an API? Give an example, where an API is used in real life."
      ],
      "metadata": {
        "id": "hb1rQ8LwW7OT"
      }
    },
    {
      "cell_type": "markdown",
      "source": [
        "A API (Application programming interface) is basicaaly a set of defined rules, protocols and tools which is used to access or we can say communicate between different software applications.\n",
        "\n",
        "let's say we have a web API and is started it's server. when the other application uses it's route it can access the functions, tools and protocols  without knowing the function itself in it's own enviroment.\n",
        "\n",
        "Example - when we use our mobile phones to check the weather data. So our phone doen't load the data itself. it uses the web api of weather app to get the data."
      ],
      "metadata": {
        "id": "Q2AjLiFIXgqI"
      }
    },
    {
      "cell_type": "markdown",
      "source": [
        "Q2. Give advantages and disadvantages of using API."
      ],
      "metadata": {
        "id": "hIg57OdrbBrU"
      }
    },
    {
      "cell_type": "markdown",
      "source": [
        "Advantages of Using APIs:\n",
        "\n",
        "Modularity and Reusability: APIs allow developers to build applications using pre-existing components and services. This modular approach promotes code reusability, saving time and effort in development.\n",
        "\n",
        "Rapid Development: By utilizing APIs, developers can integrate complex functionalities quickly without having to build everything from scratch. This accelerates development timelines.\n",
        "\n",
        "Specialization: APIs enable specialized services to be provided by experts in specific domains. Developers can leverage these services without needing deep expertise in those areas.\n",
        "\n",
        "Ecosystem Expansion: APIs encourage third-party developers to build on top of existing platforms, creating a rich ecosystem of applications that enhance the core functionality.\n",
        "\n",
        "Efficiency and Performance: APIs allow for optimized code execution, as specialized services can be finely tuned for performance and scalability.\n",
        "\n",
        "Disadvantages of Using APIs:\n",
        "\n",
        "Dependency: Relying on third-party APIs means your application's functionality can be affected if the API provider changes or discontinues the service.\n",
        "\n",
        "Compatibility Issues: Changes in API versions or endpoints can lead to compatibility issues with existing applications, requiring updates and adjustments.\n",
        "\n",
        "Performance Bottlenecks: Overuse or misuse of APIs can lead to performance bottlenecks if the API provider's infrastructure is not adequately scaled.\n",
        "\n",
        "Security Risks: Using external APIs could expose your application to security vulnerabilities if the API provider doesn't have proper security measures in place.\n",
        "\n",
        "Limited Customization: APIs provide a standardized interface, which might limit your ability to fully customize or tailor functionalities to your specific needs.\n",
        "\n",
        "Data Privacy Concerns: Sharing data with external APIs could raise privacy concerns, especially if sensitive information is involved."
      ],
      "metadata": {
        "id": "aXEYUq_gbD-i"
      }
    },
    {
      "cell_type": "markdown",
      "source": [
        "Q3. What is a Web API? Differentiate between API and Web API."
      ],
      "metadata": {
        "id": "eox2d58xbhZQ"
      }
    },
    {
      "cell_type": "markdown",
      "source": [
        "Web API - It is basically  a http API, which is used to transfer and communicate the functionality of an API over the web. It uses GET,POST,PUT and DELETE Method to perform the actions.\n",
        "It is for remote access. the data types are generally JSON and XML\n",
        "\n",
        "API - A API (Application programming interface) is basicaaly a set of defined rules, protocols and tools which is used to access or we can say communicate between different software applications."
      ],
      "metadata": {
        "id": "AwCZ5NxcbllY"
      }
    },
    {
      "cell_type": "markdown",
      "source": [
        "Q4. Explain REST and SOAP Architecture. Mention shortcomings of SOAP."
      ],
      "metadata": {
        "id": "PDXKBRa7c_-j"
      }
    },
    {
      "cell_type": "markdown",
      "source": [
        "REST(Representational state transfer):\n",
        "\n",
        "REST is like following a set of simple rules when you talk to a website or an app. You tell them what you want using web addresses (URLs) and specific actions like getting, creating, updating, or deleting things\n",
        "\n",
        "1. Doesn't keep track of past conversations (stateless).\n",
        "2. Keeps the client and server separate for better scalability.\n",
        "3. Allows responses to be saved to avoid asking for the same things again (caching).\n",
        "\n",
        "Example - github, twitter, google Maps\n",
        "\n",
        "\n",
        "SOAP(simple object acess protocols):\n",
        "SOAP is like a way of sending messages between different apps in a very specific format. It's like having a set of rules for writing letters to each other, making sure everyone understands the message and can keep it safe.\n",
        "\n",
        "A protocol for sending structured messages between apps.\n",
        "Uses XML format for messages.\n",
        "Works with different transport methods like HTTP, SMTP.\n",
        "Supports security features like encryption and signing.\n",
        "\n",
        "Example - AWS, WS-SEcurity\n"
      ],
      "metadata": {
        "id": "j7-yAfLQdDOH"
      }
    },
    {
      "cell_type": "markdown",
      "source": [
        "Q5. Differentiate between REST and SOAP."
      ],
      "metadata": {
        "id": "4BY1uNOTfy1f"
      }
    },
    {
      "cell_type": "markdown",
      "source": [
        "REST (Representational State Transfer):\n",
        "\n",
        "Explanation: REST is like talking to a website using web addresses and basic actions like looking at stuff (GET), writing stuff (POST), changing stuff (PUT), and removing stuff (DELETE).\n",
        "\n",
        "Uses web addresses (URLs) for actions like getting, posting, updating, and deleting.\n",
        "No memory of past conversations (stateless).\n",
        "Keeps client and server separate for better scalability.\n",
        "Responses can be saved to avoid repeating requests (caching).\n",
        "Communicates over standard HTTP methods.\n",
        "\n",
        "SOAP (Simple Object Access Protocol):\n",
        "\n",
        "Simple Explanation: SOAP is like sending messages between different apps using a specific format, sort of like writing letters in a very organized way.\n",
        "\n",
        "Key Points:\n",
        "\n",
        "A protocol for sending structured messages between apps.\n",
        "Uses XML format for messages.\n",
        "Can work with different methods of transport like HTTP or SMTP.\n",
        "Supports features like security and reliability.\n",
        "Can be more complex to read and use compared to other methods."
      ],
      "metadata": {
        "id": "8PxdUXPpf6LA"
      }
    }
  ]
}