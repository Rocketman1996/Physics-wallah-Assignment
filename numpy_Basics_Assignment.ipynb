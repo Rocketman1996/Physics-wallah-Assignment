{
  "nbformat": 4,
  "nbformat_minor": 0,
  "metadata": {
    "colab": {
      "provenance": [],
      "authorship_tag": "ABX9TyOsgfsIqKLikNMcXeWOKP1J",
      "include_colab_link": true
    },
    "kernelspec": {
      "name": "python3",
      "display_name": "Python 3"
    },
    "language_info": {
      "name": "python"
    }
  },
  "cells": [
    {
      "cell_type": "markdown",
      "metadata": {
        "id": "view-in-github",
        "colab_type": "text"
      },
      "source": [
        "<a href=\"https://colab.research.google.com/github/Rocketman1996/Physics-wallah-Assignment/blob/main/numpy_Basics_Assignment.ipynb\" target=\"_parent\"><img src=\"https://colab.research.google.com/assets/colab-badge.svg\" alt=\"Open In Colab\"/></a>"
      ]
    },
    {
      "cell_type": "markdown",
      "source": [],
      "metadata": {
        "id": "UwNK9CFAb2tX"
      }
    },
    {
      "cell_type": "code",
      "execution_count": 16,
      "metadata": {
        "colab": {
          "base_uri": "https://localhost:8080/"
        },
        "id": "0IzC50X2bsC7",
        "outputId": "f56ae3da-3715-4c19-fead-1cade725a392"
      },
      "outputs": [
        {
          "output_type": "execute_result",
          "data": {
            "text/plain": [
              "([1, 2, 3, 4, 5], array([1, 2, 3, 4, 5]))"
            ]
          },
          "metadata": {},
          "execution_count": 16
        }
      ],
      "source": [
        "# Consider the below code to answer further questions:\n",
        "import numpy as np\n",
        "list_ = [ 1,2,3,4,5]\n",
        "array_list = np.array(object = list_)\n",
        "\n",
        "list_, array_list"
      ]
    },
    {
      "cell_type": "markdown",
      "source": [
        "Q1. Is there any difference in the data type of variables list_ and array_list? If there is then write a code\n",
        "to print the data types of both the variables."
      ],
      "metadata": {
        "id": "nI9mW-RgcKTU"
      }
    },
    {
      "cell_type": "code",
      "source": [
        "# Lists:\n",
        "\n",
        "# Can hold elements of different data types.\n",
        "# Basic operations for storing and manipulating data.\n",
        "# Less efficient for numerical operations.\n",
        "# Dynamic size.\n",
        "# More memory overhead.\n",
        "# Versatile and general-purpose.\n",
        "# Arrays (NumPy):\n",
        "\n",
        "# Homogeneous data type required.\n",
        "# Optimized for numerical computations.\n",
        "# Efficient for numerical operations, especially with large datasets.\n",
        "# Fixed size when created.\n",
        "# Less memory overhead.\n",
        "# Specialized for numerical work, offers mathematical operations.\n",
        "\n",
        "# In this case bothe contains same data type which is int64\n",
        "\n",
        "type(list_), type(array_list)"
      ],
      "metadata": {
        "colab": {
          "base_uri": "https://localhost:8080/"
        },
        "id": "vj-orHgYb9Tg",
        "outputId": "51f702b5-b834-4c18-8b7d-83570b02ec1b"
      },
      "execution_count": 12,
      "outputs": [
        {
          "output_type": "execute_result",
          "data": {
            "text/plain": [
              "(list, numpy.ndarray)"
            ]
          },
          "metadata": {},
          "execution_count": 12
        }
      ]
    },
    {
      "cell_type": "markdown",
      "source": [
        "Q2. Write a code to print the data type of each and every element of both the variables list_ and\n",
        "arra_list."
      ],
      "metadata": {
        "id": "fSNkgfQ7hr7C"
      }
    },
    {
      "cell_type": "code",
      "source": [
        "#both has same data types\n",
        "\n",
        "data  = array_list.dtype\n",
        "data1 = type(list_[0])\n",
        "print(type(array_list), type(list_), data, data1)"
      ],
      "metadata": {
        "colab": {
          "base_uri": "https://localhost:8080/"
        },
        "id": "i5UTGvyeeW91",
        "outputId": "b0f2e105-1074-46af-87cc-d36421cef13f"
      },
      "execution_count": 20,
      "outputs": [
        {
          "output_type": "stream",
          "name": "stdout",
          "text": [
            "<class 'numpy.ndarray'> <class 'list'> int64 <class 'int'>\n"
          ]
        }
      ]
    },
    {
      "cell_type": "markdown",
      "source": [
        "Q3. Considering the following changes in the variable, array_list:\n",
        "array_list = np.array(object = list_, dtype = int)\n",
        "Will there be any difference in the data type of the elements present in both the variables, list_ and\n",
        "arra_list? If so then print the data types of each and every element present in both the variables, list_\n",
        "and arra_list."
      ],
      "metadata": {
        "id": "Uvit4yltjduq"
      }
    },
    {
      "cell_type": "code",
      "source": [
        "array_list = np.array(object = list_, dtype = int)\n",
        "\n",
        "for e in list_:\n",
        "  print(type(e))\n",
        "\n",
        "for i in array_list:\n",
        "  print(type(i))\n",
        "\n",
        "# both are basically is same but numpy integer has 64 bit which makes it great fit for scientific computations"
      ],
      "metadata": {
        "colab": {
          "base_uri": "https://localhost:8080/"
        },
        "id": "8zkMdxFZeKwX",
        "outputId": "6b162bfd-1668-40d6-d029-ef79dad2579e"
      },
      "execution_count": 26,
      "outputs": [
        {
          "output_type": "stream",
          "name": "stdout",
          "text": [
            "<class 'int'>\n",
            "<class 'int'>\n",
            "<class 'int'>\n",
            "<class 'int'>\n",
            "<class 'int'>\n",
            "<class 'numpy.int64'>\n",
            "<class 'numpy.int64'>\n",
            "<class 'numpy.int64'>\n",
            "<class 'numpy.int64'>\n",
            "<class 'numpy.int64'>\n"
          ]
        }
      ]
    },
    {
      "cell_type": "code",
      "source": [
        "# Consider the below code to answer further questions:\n",
        "\n",
        "import numpy as np\n",
        "num_list = [ [ 1 , 2 , 3 ] , [ 4 , 5 , 6 ] ]\n",
        "num_array = np.array(object = num_list)\n",
        "\n",
        "\n",
        "# Q4. Write a code to find the following characteristics of variable, num_array:\n",
        "# (i) shape\n",
        "# (ii) size"
      ],
      "metadata": {
        "id": "yjXbzhQ7l4Xe"
      },
      "execution_count": 27,
      "outputs": []
    },
    {
      "cell_type": "code",
      "source": [
        "np.shape(num_list), np.shape(num_array), np.size(num_list),  np.size(num_array)"
      ],
      "metadata": {
        "colab": {
          "base_uri": "https://localhost:8080/"
        },
        "id": "VXtlYHF8mAWU",
        "outputId": "bee5760d-ee41-4e55-f87d-aeeabf3a4859"
      },
      "execution_count": 33,
      "outputs": [
        {
          "output_type": "execute_result",
          "data": {
            "text/plain": [
              "((2, 3), (2, 3), 6, 6)"
            ]
          },
          "metadata": {},
          "execution_count": 33
        }
      ]
    },
    {
      "cell_type": "code",
      "source": [
        "# Q5. Write a code to create numpy array of 3*3 matrix containing zeros only, using a numpy array\n",
        "# creation function.\n",
        "\n",
        "a = np.zeros([3,3])\n",
        "a\n",
        "# [Hint: The size of the array will be 9 and the shape will be (3,3).]"
      ],
      "metadata": {
        "colab": {
          "base_uri": "https://localhost:8080/"
        },
        "id": "nUjhEWAGmkVU",
        "outputId": "746664b8-a8e8-408e-95f2-41cf6f516ef0"
      },
      "execution_count": 36,
      "outputs": [
        {
          "output_type": "execute_result",
          "data": {
            "text/plain": [
              "array([[0., 0., 0.],\n",
              "       [0., 0., 0.],\n",
              "       [0., 0., 0.]])"
            ]
          },
          "metadata": {},
          "execution_count": 36
        }
      ]
    },
    {
      "cell_type": "code",
      "source": [
        "# Q6. Create an identity matrix of shape (5,5) using numpy functions?\n",
        "\n",
        "b = np.eye(5,5)\n",
        "b"
      ],
      "metadata": {
        "colab": {
          "base_uri": "https://localhost:8080/"
        },
        "id": "UkKoMCBzm1Ml",
        "outputId": "62e90ec6-d9e3-4cbc-8455-13e4f3e8ac63"
      },
      "execution_count": 40,
      "outputs": [
        {
          "output_type": "execute_result",
          "data": {
            "text/plain": [
              "array([[1., 0., 0., 0., 0.],\n",
              "       [0., 1., 0., 0., 0.],\n",
              "       [0., 0., 1., 0., 0.],\n",
              "       [0., 0., 0., 1., 0.],\n",
              "       [0., 0., 0., 0., 1.]])"
            ]
          },
          "metadata": {},
          "execution_count": 40
        }
      ]
    }
  ]
}