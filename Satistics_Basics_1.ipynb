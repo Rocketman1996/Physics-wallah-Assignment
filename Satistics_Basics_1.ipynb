{
  "nbformat": 4,
  "nbformat_minor": 0,
  "metadata": {
    "colab": {
      "provenance": [],
      "authorship_tag": "ABX9TyMO6Ccx8q0Aw/ufIpIxQ2Iv",
      "include_colab_link": true
    },
    "kernelspec": {
      "name": "python3",
      "display_name": "Python 3"
    },
    "language_info": {
      "name": "python"
    }
  },
  "cells": [
    {
      "cell_type": "markdown",
      "metadata": {
        "id": "view-in-github",
        "colab_type": "text"
      },
      "source": [
        "<a href=\"https://colab.research.google.com/github/Rocketman1996/Physics-wallah-Assignment/blob/main/Satistics_Basics_1.ipynb\" target=\"_parent\"><img src=\"https://colab.research.google.com/assets/colab-badge.svg\" alt=\"Open In Colab\"/></a>"
      ]
    },
    {
      "cell_type": "markdown",
      "source": [
        "Q1. What is Statistics?\n",
        "Q2. Define the different types of statistics and give an example of when each type might be used.\n",
        "Q3. What are the different types of data and how do they differ from each other? Provide an example of\n",
        "each type of data."
      ],
      "metadata": {
        "id": "PKcjW3xOhLM2"
      }
    },
    {
      "cell_type": "markdown",
      "source": [
        "A1. Statistics is a branch of mathematics and a field of study that involves collecting, analyzing, interpreting, and presenting data. Its primary purpose is to make sense of numerical information and draw meaningful conclusions from it.\n",
        "\n",
        "A2. Descriptive Statistics:  Descriptive statistics are used to summarize and describe data. They include measures of central tendency (e.g., mean, median, mode) and measures of variability (e.g., range, variance, standard deviation).\n",
        "\n",
        "- Inferential Statistics: Inferential statistics involve making inferences or predictions about a population based on a sample of data. For instance, in political polling, you might use inferential statistics to estimate the percentage of voters who will support a particular candidate\n",
        "\n",
        "A3. Categorical Data(Qualitative data): Categorical data consists of distinct categories or labels, and it cannot be measured on a numerical scale. Examples include gender (categories: male, female), types of fruits (categories: apple, banana, orange), or eye color (categories: blue, brown, green).\n",
        "\n",
        "- Nominal - eg - male, female (which has no rank)\n",
        "- ordinal - eg - customer feedback (which can be ranked)\n",
        "\n",
        "Numerical Data (Quantitative Data): Numerical data can be measured on a numerical scale and can be subjected to mathematical operations. Examples include age (measured in years), temperature (measured in degrees Celsius), and income (measured in dollars).\n",
        "\n",
        "- Discrite - (which are whole number)\\\n",
        "             1. number of bank accounts,\n",
        "             2. number of news reporter\n",
        "\n",
        "- continous - (which are in points)\n",
        "             1. height, weight\n",
        "             "
      ],
      "metadata": {
        "id": "fvY92Nf9hcMM"
      }
    },
    {
      "cell_type": "markdown",
      "source": [
        "Q4. Categorise the following datasets with respect to quantitative and qualitative data types:\n",
        "(i) Grading in exam: A+, A, B+, B, C+, C, D, E\n",
        "(ii) Colour of mangoes: yellow, green, orange, red\n",
        "(iii) Height data of a class: [178.9, 179, 179.5, 176, 177.2, 178.3, 175.8,...]\n",
        "(iv) Number of mangoes exported by a farm: [500, 600, 478, 672, ...]"
      ],
      "metadata": {
        "id": "dshaSZt6is8P"
      }
    },
    {
      "cell_type": "markdown",
      "source": [
        "A4.\n",
        "\n",
        "1. - qualitative -> ordinal type\n",
        "2. - qualitative -> niminal type\n",
        "\n",
        "3. - quantitative -> continous type\n",
        "4. - quantitative -> discrete type"
      ],
      "metadata": {
        "id": "IPvFSQygiw-0"
      }
    },
    {
      "cell_type": "markdown",
      "source": [
        "Q5. Explain the concept of levels of measurement and give an example of a variable for each level."
      ],
      "metadata": {
        "id": "psJdmBtpjULF"
      }
    },
    {
      "cell_type": "markdown",
      "source": [
        "A5. Levels of measurement, also known as scales of measurement, refer to the different ways we classify and categorize data. There are four primary levels of measurement:\n",
        "\n",
        "1. Nominal Level: This level involves categories or labels with no inherent order or ranking. Example: Colors (e.g., red, blue, green).\n",
        "\n",
        "2. Ordinal Level: Data at this level have categories with a specific order or ranking but do not have consistent intervals between them. Example: Educational attainment (e.g., high school diploma, bachelor's degree, master's degree).\n",
        "\n",
        "3. Interval Level: Interval-level data have consistent intervals between values but lack a true zero point. Example: Temperature in Celsius (e.g., 0°C does not mean the absence of temperature; it's just a reference point).\n",
        "\n",
        "4. Ratio Level: Ratio-level data have consistent intervals between values and a true zero point, meaning zero indicates the absence of the measured quantity. Example: Height in centimeters (0 cm means no height)."
      ],
      "metadata": {
        "id": "0LClJfJmjuCb"
      }
    },
    {
      "cell_type": "markdown",
      "source": [
        "Q6. Why is it important to understand the level of measurement when analyzing data? Provide an\n",
        "example to illustrate your answer."
      ],
      "metadata": {
        "id": "H6RC4ieCkMFA"
      }
    },
    {
      "cell_type": "markdown",
      "source": [
        "A6. Understanding the level of measurement is crucial when analyzing data because it determines the types of statistical operations and analyses that can be performed. For example, you can calculate the mode for nominal data, but you cannot calculate the mean because there is no meaningful average. If you incorrectly analyze data at a higher level of measurement, you may draw incorrect conclusions. For instance, calculating the mean age (ratio) for a group of people when you only have ordinal data for their age groups (e.g., young, middle-aged, elderly) would be misleading."
      ],
      "metadata": {
        "id": "ocpk9rTXkM0E"
      }
    },
    {
      "cell_type": "markdown",
      "source": [
        "Q7. How nominal data type is different from ordinal data type.\n"
      ],
      "metadata": {
        "id": "99uoOwNFkyaj"
      }
    },
    {
      "cell_type": "markdown",
      "source": [
        "A7.\n",
        "- nominal data - data types for which can't put rank. eg - yes, no, Male-female, pincode\n",
        "- ordinal data - Which can be ranked - a customer feedback - good, ok, bad as 1,2,3 respectively for it's rank."
      ],
      "metadata": {
        "id": "cjrrNUc7lX6O"
      }
    },
    {
      "cell_type": "markdown",
      "source": [
        "Q8. Which type of plot can be used to display data in terms of range?"
      ],
      "metadata": {
        "id": "fIW-z1f6loOz"
      }
    },
    {
      "cell_type": "markdown",
      "source": [],
      "metadata": {
        "id": "Kl4CrRsNm2YY"
      }
    },
    {
      "cell_type": "markdown",
      "source": [
        "A8. a  box plot is a greate fit for data in terms of range. Which can show first quartile, (second quartile)median, mode min, max  and outliers."
      ],
      "metadata": {
        "id": "jYm_qoyTlnJP"
      }
    },
    {
      "cell_type": "markdown",
      "source": [
        "Q9. Describe the difference between descriptive and inferential statistics. Give an example of each type of statistics and explain how they are used."
      ],
      "metadata": {
        "id": "7FsKV0yomSry"
      }
    },
    {
      "cell_type": "markdown",
      "source": [
        "A9 . Discriptive - Which deals with number data to show Mean mode and median.\n",
        "     inferencial  - Which deals on predicting for large sample based on small sample data."
      ],
      "metadata": {
        "id": "ZnQnXTvymTvC"
      }
    },
    {
      "cell_type": "markdown",
      "source": [
        "Q10. What are some common measures of central tendency and variability used in statistics? Explain how each measure can be used to describe a dataset."
      ],
      "metadata": {
        "id": "0iXI3TaYmqp9"
      }
    },
    {
      "cell_type": "markdown",
      "source": [
        "Measures of Central Tendency:\n",
        "\n",
        "Mean: The average of a dataset, calculated by summing all values and dividing by the number of values.\n",
        "Median: The middle value when data is arranged in ascending or descending order.\n",
        "Mode: The value that occurs most frequently in a dataset.\n",
        "Measures of Variability:\n",
        "\n",
        "Range: The difference between the maximum and minimum values in a dataset.\n",
        "Variance: A measure of how data points deviate from the mean.\n",
        "Standard Deviation: A measure of the average distance between data points and the mean."
      ],
      "metadata": {
        "id": "c4gqxsRRm3pj"
      }
    }
  ]
}