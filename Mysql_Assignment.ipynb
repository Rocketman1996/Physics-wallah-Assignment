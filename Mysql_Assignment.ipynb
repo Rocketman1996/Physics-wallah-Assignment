{
  "nbformat": 4,
  "nbformat_minor": 0,
  "metadata": {
    "colab": {
      "provenance": [],
      "authorship_tag": "ABX9TyMg1d+yr0DFBxvpGp1xetnj"
    },
    "kernelspec": {
      "name": "python3",
      "display_name": "Python 3"
    },
    "language_info": {
      "name": "python"
    }
  },
  "cells": [
    {
      "cell_type": "markdown",
      "source": [
        "Q1. What is a database? Differentiate between SQL and NoSQL databases."
      ],
      "metadata": {
        "id": "6UNej0wb-ya4"
      }
    },
    {
      "cell_type": "markdown",
      "source": [
        "A Database is basically a structured collection of tables and tables are the structured collection of data.\n",
        "\n",
        "SQL is basically a structured query language wherease NoSQL is basically not only SQL means it can not only applied to strucutred data but also unstructured like imaage, pdf or text file."
      ],
      "metadata": {
        "id": "xrMHvxDn-z7M"
      }
    },
    {
      "cell_type": "markdown",
      "source": [
        "Q2. What is DDL? Explain why CREATE, DROP, ALTER, and TRUNCATE are used with an example."
      ],
      "metadata": {
        "id": "_bQ2nt7-_xlz"
      }
    },
    {
      "cell_type": "markdown",
      "source": [
        "DDL is basically Data defination language. CREATE, DROP, ALTER, and TRUNCATE are the main commands of it."
      ],
      "metadata": {
        "id": "dS4Y6xik_815"
      }
    },
    {
      "cell_type": "code",
      "source": [
        "CREATE command is used to create any new database or table, index and views\n",
        "Exe -\n",
        "\n",
        "create database if not exists storage;\n",
        "create table if not exists storage.milk(ID TINYINT, amount FLOAT, WEIGHT FLOAT, QUALITY VARCHAR, DELOVERY DATE);\n",
        "\n",
        "drop table if exists storage.cows;\n",
        "\n",
        "# Alter command is basically used to perform all kinds of operations to the columns of a table like add, drop,  modify etc.\n",
        "alter table milk\n",
        "add delivery TIME, modify amount int, drop QUALITY;\n",
        "\n",
        "# truncate is basically used to remove data from all the tables and keeping table structure same(column,rows).\n",
        "truncate table milk"
      ],
      "metadata": {
        "id": "mxP_JTQPCeOS"
      },
      "execution_count": null,
      "outputs": []
    },
    {
      "cell_type": "markdown",
      "source": [
        "Q3. What is DML? Explain INSERT, UPDATE, and DELETE with an example."
      ],
      "metadata": {
        "id": "rS5YkBGsF86k"
      }
    },
    {
      "cell_type": "code",
      "source": [
        "# DML - Data manupulation language basically to manupulate the data inside the table.\n",
        "# INSERT - is basically used to add new rows to the table.\n",
        "#exe -\n",
        "insert into table_name (col1, col2, col3, col4)\n",
        "values (12, \"fnwkd\", \"@ff\", \"fdew\");\n",
        "\n",
        "#UPDATE - is used to update the data inside the table according the row number by using SET afterwards to set the changed value for a perticular cell.Or we can set it to null.\n",
        "\n",
        "update table_name\n",
        "set name = \"rahul\"\n",
        "where student_id = 101;\n",
        "\n",
        "# DELETE - this statement is used to delete rows froa table.\n",
        "\n",
        "delete table_name\n",
        "where ID = 101;\n"
      ],
      "metadata": {
        "id": "mhRMVvuDGAl-"
      },
      "execution_count": null,
      "outputs": []
    },
    {
      "cell_type": "markdown",
      "source": [
        "Q4. What is DQL? Explain SELECT with an example."
      ],
      "metadata": {
        "id": "mcvIQpB1XhiC"
      }
    },
    {
      "cell_type": "code",
      "source": [
        "#DQL - is basically a data query language and is used to retrive a data from the database.\n",
        "\n",
        "# select is a DQL statement which is used to select the columns of a table and in this there are 2 major clauses work along which are from and where.\n",
        "# from is used to taget the table from a database for which we want to retrive the data.\n",
        "# where is used to target the specific place or row number or a condition.\n",
        "\n",
        "select * from databasename.table_name\n",
        "where ID = 101;\n",
        "\n"
      ],
      "metadata": {
        "id": "jYer_HilXkLL"
      },
      "execution_count": null,
      "outputs": []
    },
    {
      "cell_type": "markdown",
      "source": [
        "Q5. Explain Primary Key and Foreign Key."
      ],
      "metadata": {
        "id": "W1AZHLD2YsAL"
      }
    },
    {
      "cell_type": "markdown",
      "source": [
        "Primary Key:\n",
        "\n",
        "Definition: A primary key is a unique identifier for each row in a database table. It enforces data integrity by ensuring each value in the primary key column(s) is unique and non-null.\n",
        "Key Points:\n",
        "Uniquely identifies rows in a table.\n",
        "Ensures data integrity and uniqueness.\n",
        "Values must be unique and non-null.\n",
        "Often used for IDs or critical identifying information.\n",
        "Remains stable over time.\n",
        "Each table typically has only one primary key.\n",
        "Foreign Key:\n",
        "\n",
        "Definition: A foreign key establishes a relationship between tables by referencing the primary key of another table. It ensures referential integrity, where values in the foreign key column(s) match values in the referenced primary key column(s) or are null.\n",
        "Key Points:\n",
        "Creates relationships between tables.\n",
        "References the primary key of another table.\n",
        "Maintains data consistency between related tables.\n",
        "Values must match referenced primary key values or be null.\n",
        "Supports data integrity and consistency.\n",
        "Multiple foreign keys can exist in a table."
      ],
      "metadata": {
        "id": "_Upn8ckfYuCb"
      }
    },
    {
      "cell_type": "markdown",
      "source": [
        "Example - Suppose we have a table employee, in this we have many different columns but the employee_id column is made as a primary key for this table and it'll have a unique identifier numbers for all rows.\n",
        "\n",
        "Now let's supoose in the same table we have column whose name is deparment_ID\n",
        ", now this will be considered as a foreign key for the employee table but it is connected with it. and the department_id will be the primary key for the department table.\n",
        "Finally we can use these 2 keys to connect according to our requirment.\n"
      ],
      "metadata": {
        "id": "c-Yhph_AaTFF"
      }
    },
    {
      "cell_type": "markdown",
      "source": [
        "Q6. Write a python code to connect MySQL to python. Explain the cursor() and execute() method."
      ],
      "metadata": {
        "id": "yUr89sVHbpxF"
      }
    },
    {
      "cell_type": "code",
      "source": [
        "import mysql.connector\n",
        "\n",
        "mydb = mysql.connector.connect(         # mydb is the variable name used to\n",
        "                                        # connect with database\n",
        "  host=\"localhost\",                     # assigning the local host name\n",
        "  user=\"abc\",\n",
        "  password=\"password\"\n",
        "  database = \"mydatabase\"\n",
        ")\n",
        "print(mydb)                            # to display the ifo about database connection\n",
        "\n",
        "mycursor = mydb.cursor()               # mycursor object is used to set the queries.and is cnnected to the mydb.\n",
        "\n",
        "mycursor.execute(\"CREATE DATABASE IF NOT EXISTS TEST3\") # is to execute any query here we used DDL\n",
        "mydb.commit() # is used when we are making change inside the data for DML\n",
        "result = mycursor.fetchall() # we'll have to use fetchall() if we are using query to retrive the data\n",
        "for row in result:\n",
        "   print(row)\n",
        "\n",
        "mydb.close()  # for closing the connection"
      ],
      "metadata": {
        "id": "zohOasJgf1gl"
      },
      "execution_count": null,
      "outputs": []
    },
    {
      "cell_type": "markdown",
      "source": [
        "Q7. Give the order of execution of SQL clauses in an SQL query."
      ],
      "metadata": {
        "id": "l9RDHHnIhbCh"
      }
    },
    {
      "cell_type": "markdown",
      "source": [
        "SELECT: This clause specifies the columns you want to retrieve from the table.\n",
        "\n",
        "FROM: This clause specifies the table(s) from which you're retrieving the data.\n",
        "\n",
        "WHERE: This clause filters rows based on specified conditions.\n",
        "\n",
        "GROUP BY: This clause groups rows that have the same values in specified columns into summary rows, like \"grouping\" your data.\n",
        "\n",
        "HAVING: This clause filters grouped rows based on specified conditions.\n",
        "\n",
        "ORDER BY: This clause sorts the result set based on specified columns and sort orders.\n",
        "\n",
        "LIMIT / OFFSET: These clauses allow you to retrieve a specific subset of rows, often used for pagination."
      ],
      "metadata": {
        "id": "fkCWX9Tqhbtr"
      }
    },
    {
      "cell_type": "code",
      "source": [
        "SELECT column1, column2\n",
        "FROM table_name\n",
        "WHERE condition\n",
        "GROUP BY column3\n",
        "HAVING aggregate_condition\n",
        "ORDER BY column4 ASC\n",
        "LIMIT 10 OFFSET 20;"
      ],
      "metadata": {
        "id": "E32zzvKFhjmn"
      },
      "execution_count": null,
      "outputs": []
    }
  ]
}