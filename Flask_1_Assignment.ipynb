{
  "cells": [
    {
      "cell_type": "markdown",
      "metadata": {
        "id": "view-in-github",
        "colab_type": "text"
      },
      "source": [
        "<a href=\"https://colab.research.google.com/github/Rocketman1996/Physics-wallah-Assignment/blob/main/Flask_1_Assignment.ipynb\" target=\"_parent\"><img src=\"https://colab.research.google.com/assets/colab-badge.svg\" alt=\"Open In Colab\"/></a>"
      ]
    },
    {
      "cell_type": "markdown",
      "source": [
        "Q1. What is Flask Framework? What are the advantages of Flask Framework?"
      ],
      "metadata": {
        "id": "0c6avZTsRu6C"
      }
    },
    {
      "cell_type": "markdown",
      "source": [
        "So basically flask is a micro web framework for python. Designed to build web application quickly up and running with minimal code. micro is because it provides the essential to get web applictions up and runnning while leaving the libraries and choice of tool to the developer choice. it's advantages are - 1. simplicity 2. flexibility for both large and small sized applications 3. extensibility 4. ease of learning 5. Restful capabilities and Active development."
      ],
      "metadata": {
        "id": "XAX5pUCLSBG5"
      }
    },
    {
      "cell_type": "markdown",
      "source": [
        "Q2. Create a simple Flask application to display ‘Hello World!!’. Attach the screenshot of the output in\n",
        "Jupyter Notebook."
      ],
      "metadata": {
        "id": "3vtIxevGSBc_"
      }
    },
    {
      "cell_type": "code",
      "source": [
        "pip install flask\n",
        "\n",
        "pip install flask-ngrok"
      ],
      "metadata": {
        "id": "YB381uVfLoHR"
      },
      "execution_count": null,
      "outputs": []
    },
    {
      "cell_type": "code",
      "execution_count": null,
      "metadata": {
        "id": "_CVgAYukKZtb"
      },
      "outputs": [],
      "source": [
        "from flask import Flask\n",
        "from flask_ngrok import run_with_ngrok\n",
        "\n",
        "app =Flask(__name__)\n",
        "\n",
        "run_with_ngrok(app)\n",
        "@app.route(\"/\")\n",
        "def hello_world():\n",
        "  return\"<h1>Hello, World</h1>\"\n",
        "\n",
        "if __name__ == \"__main__\":\n",
        "  app.run()"
      ]
    },
    {
      "cell_type": "code",
      "source": [
        "from IPython.display import Image\n",
        "\n",
        "# Display the screenshot from a URL\n",
        "Image(url='https://drive.google.com/uc?id=1Ec1-LqbZziTzXlmjs_Ejj52lsLM0Qgh_')"
      ],
      "metadata": {
        "id": "3G3Gfw7hQjDR"
      },
      "execution_count": null,
      "outputs": []
    },
    {
      "cell_type": "markdown",
      "source": [
        "Q3. What is App routing in Flask? Why do we use app routes?"
      ],
      "metadata": {
        "id": "lYNFBQm0SUFZ"
      }
    },
    {
      "cell_type": "markdown",
      "source": [
        "App routing is basically used to give the route to the function it has underneath.\n",
        "Uses points -\n",
        "\n",
        "Defining routes - @app.route('/') so in @app.route() whatever we defines inside the '' quotes it becomes the endpoint of the route.\n",
        "\n",
        "Mehods defining - we can use it to define methods like 'GET','POST' USING methods inside it like @app.route('/', methods = ['GET'], ['POST'])\n",
        "\n",
        "dynamic url - we can use it to create dynamic url with according to the name and username. most websites uses this to create a partiular link for a specific users.\n",
        "\n",
        "Example for dynamic URL -\n",
        "\n",
        "from flask import Flask\n",
        "\n",
        "app = Flask(__name__)\n",
        "\n",
        "# Define a route that takes a dynamic 'username' parameter\n",
        "@app.route('/user/<username>')\n",
        "def user_profile(username):\n",
        "    # Simulate fetching user data from a database\n",
        "    user_data = {\n",
        "        'john_doe': {'name': 'John Doe', 'email': 'john@example.com'},\n",
        "        'jane_smith': {'name': 'Jane Smith', 'email': 'jane@example.com'}\n",
        "    }\n",
        "\n",
        "    # Check if the provided username exists in user_data\n",
        "    if username in user_data:\n",
        "        user = user_data[username]\n",
        "        return f'User profile for {user[\"name\"]}<br>Email: {user[\"email\"]}'\n",
        "    else:\n",
        "        return 'User not found'\n",
        "\n",
        "if __name__ == '__main__':\n",
        "    app.run(host=\"0.0.0.0\")\n"
      ],
      "metadata": {
        "id": "e6RLFbCFSV8y"
      }
    },
    {
      "cell_type": "markdown",
      "source": [
        "Q4. Create a “/welcome” route to display the welcome message “Welcome to ABC Corporation” and a “/”\n",
        "route to show the following details:\n",
        "Company Name: ABC Corporation\n",
        "Location: India\n",
        "Contact Detail: 999-999-9999"
      ],
      "metadata": {
        "id": "h0gJvMKVb5EW"
      }
    },
    {
      "cell_type": "code",
      "source": [
        "from flask import Flask\n",
        "\n",
        "app = Flask(__name__)\n",
        "\n",
        "# Define a route that takes a dynamic 'username' parameter\n",
        "@app.route('/welcome')\n",
        "def msg():\n",
        "  return \"Welcome to ABC Corporation\"\n",
        "\n",
        "@app.route('/')\n",
        "def msg2():\n",
        "  Company_Name = \"ABC Corporation\"\n",
        "  Location = \"India Contact\"\n",
        "  Detail = \"999-999-9999\"\n",
        "  return f\"Company Name: {Company_Name}<br>Location: {Location}<br>Contact Detail: {Detail}\"\n",
        "\n",
        "\n",
        "if __name__ == '__main__':\n",
        "    app.run(host=\"0.0.0.0\")"
      ],
      "metadata": {
        "id": "as5puCbtcJMx"
      },
      "execution_count": null,
      "outputs": []
    },
    {
      "cell_type": "markdown",
      "source": [
        "Q5. What function is used in Flask for URL Building? Write a Python code to demonstrate the working of the\n",
        "url_for() function."
      ],
      "metadata": {
        "id": "HLNQ_s22jv9t"
      }
    },
    {
      "cell_type": "code",
      "source": [
        "from flask import Flask, url_for\n",
        "\n",
        "app = Flask(__name__)\n",
        "\n",
        "# Define two simple routes with names\n",
        "@app.route('/')\n",
        "def home():\n",
        "    return \"Welcome to the Home Page! <a href='\" + url_for('about') + \"'>About Us</a>\"\n",
        "# <a href='\" + url_for('about') + \"'>About Us</a>: This is an HTML anchor (<a>) element used to create a hyperlink.\n",
        "\n",
        "# href='\" + url_for('about') + \": This part generates the link. url_for('about') is used to create a URL for the 'about' page.\n",
        "\n",
        "# 'About Us</a>': This is the text displayed for the link\n",
        "\n",
        "@app.route('/about')\n",
        "def about():\n",
        "    return \"About Us Page\"\n",
        "\n",
        "if __name__ == '__main__':\n",
        "    app.run(host=\"0.0.0.0\")"
      ],
      "metadata": {
        "id": "1Br1x4lmlw2J"
      },
      "execution_count": null,
      "outputs": []
    },
    {
      "cell_type": "markdown",
      "source": [],
      "metadata": {
        "id": "HCGAr2m6iaZm"
      }
    }
  ],
  "metadata": {
    "colab": {
      "provenance": [],
      "authorship_tag": "ABX9TyPvwrs2hGrjRctncnMdHwGM",
      "include_colab_link": true
    },
    "kernelspec": {
      "display_name": "Python 3",
      "name": "python3"
    },
    "language_info": {
      "name": "python"
    }
  },
  "nbformat": 4,
  "nbformat_minor": 0
}