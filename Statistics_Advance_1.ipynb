{
  "nbformat": 4,
  "nbformat_minor": 0,
  "metadata": {
    "colab": {
      "provenance": [],
      "authorship_tag": "ABX9TyN6vUfB2tOdOHcO0OcypHdM",
      "include_colab_link": true
    },
    "kernelspec": {
      "name": "python3",
      "display_name": "Python 3"
    },
    "language_info": {
      "name": "python"
    }
  },
  "cells": [
    {
      "cell_type": "markdown",
      "metadata": {
        "id": "view-in-github",
        "colab_type": "text"
      },
      "source": [
        "<a href=\"https://colab.research.google.com/github/Rocketman1996/Physics-wallah-Assignment/blob/main/Statistics_Advance_1.ipynb\" target=\"_parent\"><img src=\"https://colab.research.google.com/assets/colab-badge.svg\" alt=\"Open In Colab\"/></a>"
      ]
    },
    {
      "cell_type": "markdown",
      "source": [
        "Q1. What is the Probability density function?"
      ],
      "metadata": {
        "id": "uf4tWPO8fKR3"
      }
    },
    {
      "cell_type": "markdown",
      "source": [
        "The probability density function is the gradient of the curve of cumilative probability function at any point.\n",
        "\n",
        "In essence it tell us how the probabilty of continous random variable is distributed.\n"
      ],
      "metadata": {
        "id": "us6JIx8bfL-N"
      }
    },
    {
      "cell_type": "markdown",
      "source": [
        "Q2. What are the types of Probability distribution?"
      ],
      "metadata": {
        "id": "3O85O23yfMMD"
      }
    },
    {
      "cell_type": "markdown",
      "source": [
        "Uniform Distribution: In a uniform distribution, all possible outcomes have an equal probability of occurring. It used discrete values.\n",
        "The classic example is rolling a fair six-sided die.\n",
        "\n",
        "Normal Distribution (Gaussian Distribution): The normal distribution is a bell-shaped curve characterized by a symmetric, continuous probability density function. It's widely used in statistics and is known for the empirical rule (68-95-99.7 rule), which describes the percentage of data within one, two, and three standard deviations from the mean.\n",
        "\n",
        "Bernoulli Distribution: The Bernoulli distribution models a random experiment with two possible outcomes: success and failure, often denoted as 1 and 0, or \"p\" and \"q.\" It is used for situations where there are only two possible results, and it's characterized by a single parameter \"p,\" which represents the probability of success\n",
        "\n",
        "Binomial Distribution: The binomial distribution describes the number of successes in a fixed number of independent Bernoulli trials. It's often used to model situations involving binary outcomes, such as success/failure or heads/tails.\n",
        "\n",
        "Poisson Distribution: The Poisson distribution is used to model the number of events occurring in a fixed interval of time or space. It's often employed in situations where events are rare but occur randomly."
      ],
      "metadata": {
        "id": "W1bxsO_DfMYi"
      }
    },
    {
      "cell_type": "markdown",
      "source": [
        "Q3. Write a Python function to calculate the probability density function of a normal distribution with\n",
        "given mean and standard deviation at a given point."
      ],
      "metadata": {
        "id": "5lZ172QyfMfX"
      }
    },
    {
      "cell_type": "code",
      "source": [
        "from math import pi, exp, sqrt, factorial\n",
        "\n",
        "def pdf(x,μ,σ):\n",
        "  pdf = (1 / (σ*sqrt(2*pi))) * exp(-((x - μ)^2) / (2*σ^2))\n",
        "\n",
        "  return pdf\n",
        "\n",
        "pdf(2,4,2)"
      ],
      "metadata": {
        "colab": {
          "base_uri": "https://localhost:8080/"
        },
        "id": "Xrwtj53htHu6",
        "outputId": "b1699c2c-db09-4991-bc40-ef5ff053fba1"
      },
      "execution_count": 33,
      "outputs": [
        {
          "output_type": "execute_result",
          "data": {
            "text/plain": [
              "0.38851672997692505"
            ]
          },
          "metadata": {},
          "execution_count": 33
        }
      ]
    },
    {
      "cell_type": "markdown",
      "source": [
        "Q4. What are the properties of Binomial distribution? Give two examples of events where binomial\n",
        "distribution can be applied."
      ],
      "metadata": {
        "id": "XkUeNEJrfMn1"
      }
    },
    {
      "cell_type": "markdown",
      "source": [
        "1. Fixed numbers of trials\n",
        "2. Independent trials\n",
        "3. success and failure's are the only two outcomes of the a trial\n",
        "EXE. 1. Coin Flipping\n",
        "     2. True or false for a trial\n",
        "     3. In a manufaturing unnit faluty or not faulty\n"
      ],
      "metadata": {
        "id": "55mDxTY3fMrO"
      }
    },
    {
      "cell_type": "markdown",
      "source": [
        "Q5. Generate a random sample of size 1000 from a binomial distribution with probability of success 0.4\n",
        "and plot a histogram of the results using matplotlib."
      ],
      "metadata": {
        "id": "bfHHeNbPfMs0"
      }
    },
    {
      "cell_type": "code",
      "source": [
        "import matplotlib.pyplot as plt\n",
        "import numpy as np\n",
        "\n",
        "a = np.random.binomial(n = 1, p = 0.4, size = 1000,)\n",
        "a\n",
        "b = plt.hist(a)"
      ],
      "metadata": {
        "colab": {
          "base_uri": "https://localhost:8080/",
          "height": 430
        },
        "id": "uvBqCTpCy38T",
        "outputId": "0bb17b57-60f7-4552-e9b3-578e727f9ae8"
      },
      "execution_count": 28,
      "outputs": [
        {
          "output_type": "display_data",
          "data": {
            "text/plain": [
              "<Figure size 640x480 with 1 Axes>"
            ],
            "image/png": "[encoded data removed]"
          },
          "metadata": {}
        }
      ]
    },
    {
      "cell_type": "markdown",
      "source": [
        "Q6. Write a Python function to calculate the cumulative distribution function of a Poisson distribution\n",
        "with given mean at a given point."
      ],
      "metadata": {
        "id": "dd6C7zARfMxo"
      }
    },
    {
      "cell_type": "code",
      "source": [
        "def poission_cdf(k,λ):   # k is any point , lambda is the mean\n",
        "\n",
        "  cdf = 0\n",
        "\n",
        "  for i in range(k, k+1):\n",
        "      cdf += (exp(-λ) * λ**i) / factorial(i)\n",
        "\n",
        "  return cdf\n",
        "\n",
        "poission_cdf(4,3)"
      ],
      "metadata": {
        "colab": {
          "base_uri": "https://localhost:8080/"
        },
        "id": "vaAJFtxi2VPk",
        "outputId": "abbea086-993c-4567-a685-ce0ea50656b1"
      },
      "execution_count": 34,
      "outputs": [
        {
          "output_type": "execute_result",
          "data": {
            "text/plain": [
              "0.16803135574154082"
            ]
          },
          "metadata": {},
          "execution_count": 34
        }
      ]
    },
    {
      "cell_type": "markdown",
      "source": [
        "Q7. How Binomial distribution different from Poisson distribution?"
      ],
      "metadata": {
        "id": "BMDmdNZ_fMzJ"
      }
    },
    {
      "cell_type": "markdown",
      "source": [
        "Binomial Distribution:\n",
        "\n",
        "Imagine flipping a coin a fixed number of times.\n",
        "You're interested in counting how many times you get heads.\n",
        "Each flip has the same probability of getting heads.\n",
        "You're counting discrete events (the number of heads).\n",
        "Poisson Distribution:\n",
        "\n",
        "Think of a situation where events occur randomly but rarely.\n",
        "You want to know how many events happen in a specific period.\n",
        "The events are infrequent, but you're looking at a longer time frame.\n",
        "You're counting discrete events (the number of occurrences) but over time or space.\n",
        "In even simpler terms, the Binomial distribution is about counting heads when flipping a coin multiple times, while the Poisson distribution is about counting rare events over a longer period, like counting car accidents at an intersection over the course of a year.\n",
        "\n",
        "\n",
        "\n",
        "\n",
        "User\n",
        "so binomial and poission both are same but in poission a specific time interval is there for the number of events\n",
        "ChatGPT\n",
        "Binomial and Poisson distributions are not the same, but they both deal with counting events, and the key distinction is the context in which they are applied:\n",
        "\n",
        "Binomial Distribution:\n",
        "\n",
        "In the Binomial distribution, you have a fixed number of trials or events (denoted as \"n\").\n",
        "Each trial has two possible outcomes, usually labeled as success and failure.\n",
        "The probability of success (\"p\") is constant for each trial.\n",
        "You are interested in the number of successes (or events) within these fixed trials.\n",
        "The Binomial distribution is suitable for scenarios with a specific, fixed number of trials.\n",
        "Poisson Distribution:\n",
        "\n",
        "In the Poisson distribution, you deal with a situation where events occur randomly and independently.\n",
        "There is no fixed number of trials or events (like \"n\" in the Binomial distribution).\n",
        "Instead, you focus on the number of events occurring within a specific time interval, region, or space.\n",
        "The average rate of event occurrence (\"λ\" or lambda) is small, but you're interested in the number of occurrences in this interval.\n",
        "The Poisson distribution is ideal for modeling rare events happening over a longer period or region.\n",
        "In essence, the key difference is that the Binomial distribution is used when you have a known, fixed number of trials with a constant probability of success, while the Poisson distribution is used when you're dealing with a large number of trials, but you're interested in the number of events happening in a specific time interval, region, or space where the events are infrequent.\n",
        "\n",
        "\n",
        "\n",
        "\n",
        "\n"
      ],
      "metadata": {
        "id": "HPaMiubSfM1v"
      }
    },
    {
      "cell_type": "markdown",
      "source": [
        "Q8. Generate a random sample of size 1000 from a Poisson distribution with mean 5 and calculate the\n",
        "sample mean and variance."
      ],
      "metadata": {
        "id": "WRDpZZbT60CK"
      }
    },
    {
      "cell_type": "code",
      "source": [
        "a  = np.random.poisson(lam = 5, size = 1000)\n",
        "a\n",
        "a.mean(), a.var()"
      ],
      "metadata": {
        "colab": {
          "base_uri": "https://localhost:8080/"
        },
        "id": "Mq8sk-Zk2QJe",
        "outputId": "66a6a523-b9dc-4533-e612-ad74f7ac2950"
      },
      "execution_count": 39,
      "outputs": [
        {
          "output_type": "execute_result",
          "data": {
            "text/plain": [
              "(5.163, 4.944431000000001)"
            ]
          },
          "metadata": {},
          "execution_count": 39
        }
      ]
    },
    {
      "cell_type": "markdown",
      "source": [
        "Q9. How mean and variance are related in Binomial distribution and Poisson distribution?"
      ],
      "metadata": {
        "id": "3FezwgKL7icd"
      }
    },
    {
      "cell_type": "markdown",
      "source": [
        "Binomial Distribution:\n",
        "\n",
        "For a Binomial distribution with parameters \"n\" (number of trials) and \"p\" (probability of success in a single trial):\n",
        "\n",
        "Mean (μ): The mean of a Binomial distribution is calculated as μ = n * p.\n",
        "Variance (σ²): The variance of a Binomial distribution is calculated as σ² = n * p * (1 - p).\n",
        "The standard deviation (σ) is then the square root of the variance (σ²).\n",
        "\n",
        "In simpler terms, for a Binomial distribution, as you increase the number of trials (n) or the probability of success (p), both the mean and variance increase. However, the variance depends not only on the number of trials but also on the probability of success and its complement (1 - p).\n",
        "\n",
        "Poisson Distribution:\n",
        "\n",
        "For a Poisson distribution with parameter \"λ\" (average rate of event occurrence):\n",
        "\n",
        "Mean (μ): The mean of a Poisson distribution is equal to the parameter λ, which represents the average number of events in the given time interval or space.\n",
        "Variance (σ²): The variance of a Poisson distribution is also equal to λ.\n",
        "In the Poisson distribution, the mean and variance are equal, which is a unique characteristic of this distribution. This means that the spread or dispersion of the data in a Poisson distribution is directly determined by the average rate of event occurrence.\n",
        "\n",
        "In summary, in a Binomial distribution, the mean and variance are related and both depend on the number of trials and the probability of success. In a Poisson distribution, the mean and variance are equal and are solely determined by the average rate of event occurrence."
      ],
      "metadata": {
        "id": "T3qmf39ofM6H"
      }
    },
    {
      "cell_type": "markdown",
      "source": [
        "Q10. In normal distribution with respect to mean position, where does the least frequent data appear?"
      ],
      "metadata": {
        "id": "e9hVQIxYBD-v"
      }
    },
    {
      "cell_type": "markdown",
      "source": [
        "well we all know the curve of N D  bell curve. we can say that at the tail of the curve we get the least frequent data and tha's why these data are at the tails."
      ],
      "metadata": {
        "id": "Dvgyl1ezBzQJ"
      }
    }
  ]
}