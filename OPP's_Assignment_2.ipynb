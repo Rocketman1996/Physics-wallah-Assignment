{
  "nbformat": 4,
  "nbformat_minor": 0,
  "metadata": {
    "colab": {
      "provenance": []
    },
    "kernelspec": {
      "name": "python3",
      "display_name": "Python 3"
    },
    "language_info": {
      "name": "python"
    }
  },
  "cells": [
    {
      "cell_type": "markdown",
      "source": [
        "Q1. Explain Class and Object with respect to Object-Oriented Programming. Give a suitable example."
      ],
      "metadata": {
        "id": "ZyReasmKcwwN"
      }
    },
    {
      "cell_type": "code",
      "source": [
        "# Class is blueprint for it's object and behave as a template which defines the structure.\n",
        "# Or in simple terms a class defines the property or terms for the object's behaviour.\n",
        "\n",
        "# An object is an instance of a class.\n",
        "# let's suppose we have class with 10 students each student has different properties. now we have an object which is related to the students and can call them for their unique behaviour\n",
        "# so that's the object meaning.\n",
        "\n",
        "# example\n",
        "\n",
        "class student:\n",
        "  def __init__(self, name, roll_no):\n",
        "    self.name = name\n",
        "    self.roll_no = roll_no\n",
        "\n",
        "  def response(self):\n",
        "    return f\"my name is {self.name} and my roll no is {self.roll_no}\"\n",
        "\n",
        "# crating object\n",
        "\n",
        "student1 = student(\"Rahul\", 12)\n",
        "student2 = student(\"bhaloda\", 17)\n",
        "\n",
        "student1.response()\n",
        "student2.response()"
      ],
      "metadata": {
        "colab": {
          "base_uri": "https://localhost:8080/",
          "height": 36
        },
        "id": "_5Ay9SaNcxXS",
        "outputId": "bc20bf9d-e074-4ad2-c324-265427179ced"
      },
      "execution_count": null,
      "outputs": [
        {
          "output_type": "execute_result",
          "data": {
            "text/plain": [
              "'my name is bhaloda and my roll no is 17'"
            ],
            "application/vnd.google.colaboratory.intrinsic+json": {
              "type": "string"
            }
          },
          "metadata": {},
          "execution_count": 2
        }
      ]
    },
    {
      "cell_type": "markdown",
      "source": [
        "Q2. Name the four pillars of OOPs."
      ],
      "metadata": {
        "id": "2LiIi8TuhnVr"
      }
    },
    {
      "cell_type": "markdown",
      "source": [
        "1. Abstraction\n",
        "2. Encapsulation\n",
        "3. polymorphism\n",
        "4. Inheritence"
      ],
      "metadata": {
        "id": "bQD6KVOOhxOM"
      }
    },
    {
      "cell_type": "markdown",
      "source": [
        "Q3. Explain why the __init__() function is used. Give a suitable example."
      ],
      "metadata": {
        "id": "zMdlpR_rh6KA"
      }
    },
    {
      "cell_type": "code",
      "source": [
        "# __init__ is a constructor also called a initiator. basically it is used to initialize the attribute to the specific object when object creation.\n",
        "\n",
        "\n",
        "class student:\n",
        "  def __init__(self, name, roll_no):\n",
        "    self.name = name\n",
        "    self.roll_no = roll_no\n",
        "\n",
        "  def response(self):\n",
        "    return f\"my name is {self.name} and my roll no is {self.roll_no}\"\n",
        "\n",
        "# crating object\n",
        "\n",
        "student1 = student(\"Rahul\", 12)\n",
        "student2 = student(\"bhaloda\", 17)\n",
        "\n",
        "student1.response()\n",
        "student2.response()\n",
        "\n",
        "# in this the class student has attributes like name, roll_no.\n",
        "# now when we create the object student1 and  __init__ funtion will initialize the name and roll_no values to the student object respectively."
      ],
      "metadata": {
        "id": "LEQv8hYhh9XY"
      },
      "execution_count": null,
      "outputs": []
    },
    {
      "cell_type": "markdown",
      "source": [
        "Q4. Why self is used in OOPs?"
      ],
      "metadata": {
        "id": "1WST_9prmqYM"
      }
    },
    {
      "cell_type": "markdown",
      "source": [
        "Self is used to reference the instance itself within the class methods. I clairifies which instance's attribute is being accessed."
      ],
      "metadata": {
        "id": "rZIlwMs1zqsF"
      }
    },
    {
      "cell_type": "markdown",
      "source": [
        "Q5. What is inheritance? Give an example for each type of inheritance."
      ],
      "metadata": {
        "id": "3_jbyGcKmwHo"
      }
    },
    {
      "cell_type": "code",
      "source": [
        "# There are mainly five types of inheritence\n",
        "# 1. Single, 2. Multiple 3. Multilevel 4. hirerichal 5. Hybrid\n",
        "\n",
        "#1. Single\n",
        "\n",
        "class parent:\n",
        "  def __init__(self, name, age):\n",
        "    self.name = name\n",
        "    self.age = age\n",
        "\n",
        "  def info(self):\n",
        "    print(f\"name is {self.name} and the age is {self.age}.\")\n",
        "\n",
        "class parent_teacher(parent):\n",
        "  def __init__(self, name, age):\n",
        "      parent.__init__(self, name, age)   # So in this parent_teacher class inherited multiple classes, So basically it can call name age and subject.\n",
        "\n",
        "  def info(self):\n",
        "    print(f\"the name of the teacherparent is {self.name}, their age is {self.age} \")\n",
        "\n",
        "parentandteacher = parent_teacher(\"Mehul\", 25)\n",
        "parentandteacher.info()\n"
      ],
      "metadata": {
        "id": "jiOM6PA-0VZn",
        "colab": {
          "base_uri": "https://localhost:8080/"
        },
        "outputId": "77cc3f66-2535-45a1-bc82-500af2b88134"
      },
      "execution_count": 3,
      "outputs": [
        {
          "output_type": "stream",
          "name": "stdout",
          "text": [
            "the name of the teacherparent is Mehul, their age is 25 \n"
          ]
        }
      ]
    },
    {
      "cell_type": "code",
      "source": [
        "# 2.Multiple - in this the inheriting class inherits the Mutiple classes. Basically inheriting more than one base class.\n",
        "\n",
        "class parent:\n",
        "  def __init__(self, name, age):\n",
        "    self.name = name\n",
        "    self.age = age\n",
        "\n",
        "  def info(self):\n",
        "    print(f\"name is {self.name} and the age is {self.age}.\")\n",
        "\n",
        "class teacher:\n",
        "  def __init__(self, name, subject):\n",
        "    self.name = name\n",
        "    self.subject = subject\n",
        "\n",
        "  def info(self):\n",
        "    print(f\" name is {self.name} and they teaches {self.subject}.\")\n",
        "\n",
        "class parent_teacher(parent, teacher):\n",
        "  def __init__(self, name, age, subject, hours):\n",
        "      parent.__init__(self, name, age)   # So in this parent_teacher class inherited multiple classes, So basically it can call name age and subject.\n",
        "      teacher.__init__(self, name, subject)   # in this there's one catch which is to use \"BaseClass.__init__(self, arguments)\" in the constructor\".\n",
        "      self.hours = hours\n",
        "\n",
        "  def info(self):\n",
        "    print(f\"the name of the teacherparent is {self.name}, their age is {self.age} and they teaches {self.subject} and hours of study is around {self.hours}.\")\n",
        "\n",
        "parentandteacher = parent_teacher(\"Mehul\", 25, \"datascience247\",4)\n",
        "parentandteacher.info()"
      ],
      "metadata": {
        "colab": {
          "base_uri": "https://localhost:8080/"
        },
        "id": "7ff8Ynvt2S96",
        "outputId": "822838f5-5c40-49c1-d969-d24fd1fb2a1c"
      },
      "execution_count": 4,
      "outputs": [
        {
          "output_type": "stream",
          "name": "stdout",
          "text": [
            "the name of the teacherparent is Mehul, their age is 25 and they teaches datascience247 and hours of study is around 4.\n"
          ]
        }
      ]
    },
    {
      "cell_type": "code",
      "source": [
        "# 3.Multi-level - In this a class can inherits from any of the base class above it .\n",
        "class Animal:\n",
        "    def speak(self, message):\n",
        "        return message\n",
        "\n",
        "class Dog(Animal):\n",
        "    def bark(self):\n",
        "        pass\n",
        "\n",
        "class Bulldog(Dog):\n",
        "    def special_ability(self):\n",
        "        pass\n",
        "\n",
        "class SpecialBulldog(Animal):\n",
        "    # This class directly inherits from the `Animal` class.\n",
        "    pass\n",
        "\n",
        "obj1 = SpecialBulldog()\n",
        "obj1.speak(\"yuf\")"
      ],
      "metadata": {
        "colab": {
          "base_uri": "https://localhost:8080/",
          "height": 36
        },
        "id": "FTsHUqyg2aFG",
        "outputId": "4701dae5-09aa-4aa9-ffda-f2228a0f74f4"
      },
      "execution_count": 15,
      "outputs": [
        {
          "output_type": "execute_result",
          "data": {
            "text/plain": [
              "'yuf'"
            ],
            "application/vnd.google.colaboratory.intrinsic+json": {
              "type": "string"
            }
          },
          "metadata": {},
          "execution_count": 15
        }
      ]
    },
    {
      "cell_type": "code",
      "source": [
        "# 4. Hierarchical Inheritance:\n",
        "# In hierarchical inheritance, multiple derived classes inherit from a single base class.\n",
        "\n",
        "class Shape:\n",
        "    def area(self):\n",
        "        pass\n",
        "\n",
        "class Circle(Shape):\n",
        "    pass\n",
        "\n",
        "class Rectangle(Shape):\n",
        "    pass\n"
      ],
      "metadata": {
        "id": "UGsnpUJa_uTx"
      },
      "execution_count": null,
      "outputs": []
    },
    {
      "cell_type": "code",
      "source": [
        "# Hybrid class - In this if we are applying more than one type of Inheritence in a method it's called hybrid class.\n",
        "\n",
        "class Animal:\n",
        "    def speak(self):\n",
        "        print(\"I am an animal!\")\n",
        "\n",
        "class Dog(Animal):\n",
        "    def bark(self):\n",
        "        print(\"Woof!\")\n",
        "\n",
        "class Cat(Animal):\n",
        "    def meow(self):\n",
        "        print(\"Meow!\")\n",
        "\n",
        "class Wolf(Dog):\n",
        "    def howl(self):\n",
        "        print(\"Awoo!\")\n",
        "\n",
        "obj2 = Wolf()\n",
        "obj2.speak()\n",
        "obj2.howl()\n",
        "obj2.bark()"
      ],
      "metadata": {
        "colab": {
          "base_uri": "https://localhost:8080/"
        },
        "id": "blUjrvhGAKd_",
        "outputId": "73f3f464-9eee-4095-9b5b-ea8e171234c4"
      },
      "execution_count": 20,
      "outputs": [
        {
          "output_type": "stream",
          "name": "stdout",
          "text": [
            "I am an animal!\n",
            "Awoo!\n",
            "Woof!\n"
          ]
        }
      ]
    }
  ]
}