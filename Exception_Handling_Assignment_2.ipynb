{
  "nbformat": 4,
  "nbformat_minor": 0,
  "metadata": {
    "colab": {
      "provenance": []
    },
    "kernelspec": {
      "name": "python3",
      "display_name": "Python 3"
    },
    "language_info": {
      "name": "python"
    }
  },
  "cells": [
    {
      "cell_type": "markdown",
      "source": [
        "Q1. Explain why we have to use the Exception class while creating a Custom Exception."
      ],
      "metadata": {
        "id": "u_r6qA794Jl7"
      }
    },
    {
      "cell_type": "markdown",
      "source": [
        "- We use Exception class as a base class or parent class for custom exception because it provides a standard structure and procedure to handle the all type exception."
      ],
      "metadata": {
        "id": "OnwYVJAc4M8u"
      }
    },
    {
      "cell_type": "markdown",
      "source": [
        "Q2. Write a python program to print Python Exception Hierarchy.\n",
        "\n"
      ],
      "metadata": {
        "id": "Q_p0PoHB4wJg"
      }
    },
    {
      "cell_type": "code",
      "source": [
        "# This question was out of my knowledge so I taken it from source.\n",
        "\n",
        "# import inspect module\n",
        "import inspect\n",
        "\n",
        "# our treeClass function\n",
        "def treeClass(cls, ind = 0):\n",
        "\n",
        "      # print name of the class\n",
        "    print ('-' * ind, cls.__name__)\n",
        "\n",
        "    # iterating through subclasses\n",
        "    for i in cls.__subclasses__():\n",
        "        treeClass(i, ind + 3)\n",
        "\n",
        "print(\"Hierarchy for Built-in exceptions is : \")\n",
        "\n",
        "# inspect.getmro() Return a tuple\n",
        "# of class  cls’s base classes.\n",
        "\n",
        "# building a tree hierarchy\n",
        "inspect.getclasstree(inspect.getmro(BaseException))\n",
        "\n",
        "# function call\n",
        "treeClass(BaseException)"
      ],
      "metadata": {
        "id": "rXmt6BWN5RQY"
      },
      "execution_count": null,
      "outputs": []
    },
    {
      "cell_type": "markdown",
      "source": [
        "Q3. What errors are defined in the ArithmeticError class? Explain any two with an example."
      ],
      "metadata": {
        "id": "aqgU5sjF7_pB"
      }
    },
    {
      "cell_type": "code",
      "source": [
        "# There are 3 main ArithmaticError is there\n",
        "# 1. ZeroDivisionError\n",
        "# 2. OverflowError\n",
        "# 3. FloatingPointError\n",
        "\n",
        "# 1. ZeroDivisionError\n",
        "\n",
        "try:\n",
        "  def divide(a,b):\n",
        "    return a / b\n",
        "\n",
        "  result = divide(5,0)\n",
        "except ZeroDivisionError as z:\n",
        "  print(z)\n"
      ],
      "metadata": {
        "colab": {
          "base_uri": "https://localhost:8080/"
        },
        "id": "0lQqSyJB8Ai7",
        "outputId": "25463dd6-eef0-463d-e5e7-57840e7e148b"
      },
      "execution_count": 17,
      "outputs": [
        {
          "output_type": "stream",
          "name": "stdout",
          "text": [
            "division by zero\n"
          ]
        }
      ]
    },
    {
      "cell_type": "code",
      "source": [
        "#math error in OverFlowError\n",
        "\n",
        "import math\n",
        "\n",
        "try:\n",
        "    print(\"The exponential value is\")\n",
        "    print(math.exp(1000))\n",
        "\n",
        "except OverflowError as oe:\n",
        "    print(\"After overflow\", oe)"
      ],
      "metadata": {
        "colab": {
          "base_uri": "https://localhost:8080/"
        },
        "id": "Z1qcBxtXAuJd",
        "outputId": "1f414ff3-329b-488e-c05d-13ba6fbfdd14"
      },
      "execution_count": 31,
      "outputs": [
        {
          "output_type": "stream",
          "name": "stdout",
          "text": [
            "The exponential value is\n",
            "After overflow math range error\n"
          ]
        }
      ]
    },
    {
      "cell_type": "markdown",
      "source": [
        "Q4. Why LookupError class is used? Explain with an example KeyError and IndexError."
      ],
      "metadata": {
        "id": "X_kwju_1GjC7"
      }
    },
    {
      "cell_type": "code",
      "source": [
        "# lookup Error is a base class exception for lookup operations.It is used for handling look ups in mapping, sequence\n",
        "\n",
        "try:\n",
        "  a = {\"apple\" : \"frut\", \"marks\" : 100}\n",
        "\n",
        "  y = a[\"rahul\"]\n",
        "\n",
        "except KeyError as K:\n",
        "  print(\"Error: \", K)"
      ],
      "metadata": {
        "colab": {
          "base_uri": "https://localhost:8080/"
        },
        "id": "wqxshVqaGj3h",
        "outputId": "a584de86-5ddc-4f59-c5bf-5202a6879808"
      },
      "execution_count": 36,
      "outputs": [
        {
          "output_type": "stream",
          "name": "stdout",
          "text": [
            "Error:  'rahul'\n"
          ]
        }
      ]
    },
    {
      "cell_type": "code",
      "source": [
        " #IndexError\n",
        "\n",
        "try:\n",
        "  a = [1,2,3,4]\n",
        "\n",
        "  y = a[5]\n",
        "\n",
        "except IndexError as K:\n",
        "  print(\"Error: \", K)"
      ],
      "metadata": {
        "colab": {
          "base_uri": "https://localhost:8080/"
        },
        "id": "n6te-QWDIaEL",
        "outputId": "70ced8fe-834f-4671-9b14-55e34c040389"
      },
      "execution_count": 41,
      "outputs": [
        {
          "output_type": "stream",
          "name": "stdout",
          "text": [
            "Error:  list index out of range\n"
          ]
        }
      ]
    },
    {
      "cell_type": "markdown",
      "source": [
        "Q5. Explain ImportError. What is ModuleNotFoundError?"
      ],
      "metadata": {
        "id": "cRS0_DJ-Jx9c"
      }
    },
    {
      "cell_type": "code",
      "source": [
        "# importError is basically a exceptin class in python when we try try to import something like a file or a package or module\n",
        "\n",
        "try:\n",
        "  import mehul\n",
        "except ModuleNotFoundError as M:\n",
        "  print(\"Error: \", M)"
      ],
      "metadata": {
        "colab": {
          "base_uri": "https://localhost:8080/"
        },
        "id": "KZDf7TAMJyjw",
        "outputId": "ac8b2885-4183-4975-8594-96155e3de13e"
      },
      "execution_count": 42,
      "outputs": [
        {
          "output_type": "stream",
          "name": "stdout",
          "text": [
            "Error:  No module named 'mehul'\n"
          ]
        }
      ]
    },
    {
      "cell_type": "markdown",
      "source": [
        "Q6. List down some best practices for exception handling in python.\n"
      ],
      "metadata": {
        "id": "b8VSUCiwLB9q"
      }
    },
    {
      "cell_type": "markdown",
      "source": [
        "Specific Exception Catching:\n",
        "Catch only the exceptions you expect and know how to handle. Avoid using a broad except clause without specifying the exception type, as it can lead to catching unintended errors and masking bugs.\n",
        "\n",
        "Use Multiple Except Clauses:\n",
        "Use separate except clauses for different types of exceptions. This allows you to handle each type of exception differently and provide more meaningful error messages.\n",
        "\n",
        "Avoid Catching BaseException:\n",
        "Avoid catching the BaseException class directly, as it includes system-exiting exceptions like SystemExit, KeyboardInterrupt, and GeneratorExit. Catch more specific exceptions that you expect.\n",
        "\n",
        "Use finally for Cleanup:\n",
        "Use the finally block to ensure that cleanup code (e.g., closing files, releasing resources) is executed, regardless of whether an exception was raised or not.\n",
        "\n",
        "Keep Exception Messages Clear:\n",
        "Provide clear and informative error messages in your exceptions. This helps in debugging and understanding the cause of the issue.\n",
        "\n",
        "Avoid Swallowing Exceptions:\n",
        "Avoid suppressing exceptions by leaving except blocks empty or just printing generic error messages. If you can't handle an exception, it's often better to let it propagate upward.\n",
        "\n",
        "Log Exceptions:\n",
        "Use a logging framework to log exceptions and errors. This aids in diagnosing issues, especially in production environments.\n",
        "\n",
        "Raising Custom Exceptions:\n",
        "When raising exceptions, consider creating custom exception classes to provide more context-specific information about the error.\n",
        "\n",
        "\n",
        "Document Exception Handling:\n",
        "Document how exceptions are handled in your code, especially for custom exceptions. This helps other developers understand the intended behavior and error handling strategies.\n",
        "\n",
        "\n",
        "\n",
        "\n",
        "\n",
        "\n"
      ],
      "metadata": {
        "id": "x5BJMSu5Kzee"
      }
    }
  ]
}