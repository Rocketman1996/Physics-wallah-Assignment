{
  "nbformat": 4,
  "nbformat_minor": 0,
  "metadata": {
    "colab": {
      "provenance": [],
      "authorship_tag": "ABX9TyN+B5BNQ39ZibLYrb7yAVjQ",
      "include_colab_link": true
    },
    "kernelspec": {
      "name": "python3",
      "display_name": "Python 3"
    },
    "language_info": {
      "name": "python"
    }
  },
  "cells": [
    {
      "cell_type": "markdown",
      "metadata": {
        "id": "view-in-github",
        "colab_type": "text"
      },
      "source": [
        "<a href=\"https://colab.research.google.com/github/Rocketman1996/Physics-wallah-Assignment/blob/main/Statistics_Basics_2_Assignment.ipynb\" target=\"_parent\"><img src=\"https://colab.research.google.com/assets/colab-badge.svg\" alt=\"Open In Colab\"/></a>"
      ]
    },
    {
      "cell_type": "markdown",
      "source": [
        "Q1. What are the three measures of central tendency?"
      ],
      "metadata": {
        "id": "IBBmy9hPGXzj"
      }
    },
    {
      "cell_type": "code",
      "execution_count": null,
      "metadata": {
        "id": "MsjwvWKxF-tI"
      },
      "outputs": [],
      "source": [
        "# Mean - Average\n",
        "# Mode - Most occured value\n",
        "# Median - Middle value"
      ]
    },
    {
      "cell_type": "markdown",
      "source": [
        "Q2. What is the difference between the mean, median, and mode? How are they used to measure the\n",
        "central tendency of a dataset?"
      ],
      "metadata": {
        "id": "K58pRVvwGk3d"
      }
    },
    {
      "cell_type": "code",
      "source": [
        "# Mean is the average of the data we have where, median is the middle value of that ddataset and mode is the most number of times occured value in that dataset.\n",
        "\n",
        "# Mean Is sensitive from the outliers\n",
        "# It's a good measure of central tendency for skewed distributions or for which dataser which has outliers.\n",
        "# It is mostly used in the categorical dataset."
      ],
      "metadata": {
        "id": "Xm0fu-H3Gkp3"
      },
      "execution_count": null,
      "outputs": []
    },
    {
      "cell_type": "markdown",
      "source": [
        "Q3. Measure the three measures of central tendency for the given height data:\n",
        "[178,177,176,177,178.2,178,175,179,180,175,178.9,176.2,177,172.5,178,176.5]"
      ],
      "metadata": {
        "id": "kuZpniHLI9YU"
      }
    },
    {
      "cell_type": "code",
      "source": [
        "import pandas as pd\n",
        "import numpy as np\n",
        "import seaborn as sns"
      ],
      "metadata": {
        "id": "L8MuVsbPJAD7"
      },
      "execution_count": null,
      "outputs": []
    },
    {
      "cell_type": "code",
      "source": [
        "a = [178,177,176,177,178.2,178,175,179,180,175,178.9,176.2,177,172.5,178,176.5]\n",
        "\n",
        "b = pd.Series(a)\n",
        "\n",
        "b.mean(), b.median(), b.mode()"
      ],
      "metadata": {
        "colab": {
          "base_uri": "https://localhost:8080/"
        },
        "id": "QGxuBskzJS_-",
        "outputId": "350298fd-41a9-435c-adee-122a369ec729"
      },
      "execution_count": null,
      "outputs": [
        {
          "output_type": "execute_result",
          "data": {
            "text/plain": [
              "(177.01875,\n",
              " 177.0,\n",
              " 0    177.0\n",
              " 1    178.0\n",
              " dtype: float64)"
            ]
          },
          "metadata": {},
          "execution_count": 12
        }
      ]
    },
    {
      "cell_type": "markdown",
      "source": [
        "Q4. Find the standard deviation for the given data:\n",
        "[178,177,176,177,178.2,178,175,179,180,175,178.9,176.2,177,172.5,178,176.5]"
      ],
      "metadata": {
        "id": "jFgLpTqvNAr2"
      }
    },
    {
      "cell_type": "code",
      "source": [
        "series = pd.Series([178,177,176,177,178.2,178,175,179,180,175,178.9,176.2,177,172.5,178,176.5])\n",
        "series.var()"
      ],
      "metadata": {
        "colab": {
          "base_uri": "https://localhost:8080/"
        },
        "id": "JCBHm-RJM9Q2",
        "outputId": "2f323faa-0786-4607-ad66-05c978f55b87"
      },
      "execution_count": null,
      "outputs": [
        {
          "output_type": "execute_result",
          "data": {
            "text/plain": [
              "3.412291666666668"
            ]
          },
          "metadata": {},
          "execution_count": 18
        }
      ]
    },
    {
      "cell_type": "markdown",
      "source": [
        "Q5. How are measures of dispersion such as range, variance, and standard deviation used to describe\n",
        "the spread of a dataset? Provide an example."
      ],
      "metadata": {
        "id": "WbC7-D6bNmUY"
      }
    },
    {
      "cell_type": "code",
      "source": [
        "# Range - It os basically to identify the data spread by identifying difference betwwen min and max.\n",
        "# example - let's consider new-york city's temperature [11,22,33,43,55,43,23,18] so the range would be 55-11 = 44\n",
        "\n",
        "# Variance - It's the measure of squared differences of each data point from the mean of the dataset. Variance = Σ(xi - x̄)² / (n - 1).\n",
        "# Variance quantifies how much individual data points deviate from the mean of the dataset.\n",
        "\n",
        "# Standard Deviation - The standard deviation is the square root of the variance. It measures the average amount of deviation or dispersion from the mean."
      ],
      "metadata": {
        "id": "Mnp4bP56bglX"
      },
      "execution_count": null,
      "outputs": []
    },
    {
      "cell_type": "markdown",
      "source": [
        "Q6. What is a Venn diagram?"
      ],
      "metadata": {
        "id": "PtfK8kYzmjGV"
      }
    },
    {
      "cell_type": "markdown",
      "source": [
        "A Venn diagram is a graphical representation that is used to illustrate the relationships and commonalities between different sets or groups of items."
      ],
      "metadata": {
        "id": "1nfTkgIUnRYq"
      }
    },
    {
      "cell_type": "markdown",
      "source": [
        "Q7. For the two given sets A = (2,3,4,5,6,7) & B = (0,2,6,8,10). Find:\n",
        "(i) A B\n",
        "(ii) A ⋃ B"
      ],
      "metadata": {
        "id": "z2XuymAKnc0q"
      }
    },
    {
      "cell_type": "code",
      "source": [
        "# A intersection B = {2,6}, AUB = {0,2,3,4,5,6,7,8,10}"
      ],
      "metadata": {
        "id": "yoEm7kw1ndck"
      },
      "execution_count": null,
      "outputs": []
    },
    {
      "cell_type": "markdown",
      "source": [
        "Q8. What do you understand about skewness in data?"
      ],
      "metadata": {
        "id": "1aWjOo-Hph9n"
      }
    },
    {
      "cell_type": "markdown",
      "source": [
        "Skewness is basically how different is the curve from the normal distribution of random variables. In ND curve mean, mode, median are all equal but in skewed curve they differ and can be left or right skewed rndom varibles distribution which makes it's mean, mode and median."
      ],
      "metadata": {
        "id": "jO2cLK1ApnxI"
      }
    },
    {
      "cell_type": "markdown",
      "source": [
        "Q9. If a data is right skewed then what will be the position of median with respect to mean?"
      ],
      "metadata": {
        "id": "DVca_q75qqmM"
      }
    },
    {
      "cell_type": "markdown",
      "source": [
        "If the data is right skewed then meadian be less than the mean. it follows like\n",
        "mean> median> mode"
      ],
      "metadata": {
        "id": "oaW_x4RkqvK5"
      }
    },
    {
      "cell_type": "markdown",
      "source": [
        "Q10. Explain the difference between covariance and correlation. How are these measures used in\n",
        "statistical analysis?"
      ],
      "metadata": {
        "id": "ZbP7oeMDrjTZ"
      }
    },
    {
      "cell_type": "markdown",
      "source": [
        "Covariance is basically variance but it becomes covariance when we want to see the relativity with two variables like x and y.\n",
        "\n",
        "Since covariance can be anything in magnitude and is and is not standard and that's where we use correlation which shows the result between -1 and 1.\n",
        "so if the corr is more towards 1 then it's x and y are more related and vice versa."
      ],
      "metadata": {
        "id": "YDu4rvuxtga3"
      }
    },
    {
      "cell_type": "markdown",
      "source": [
        "Q11. What is the formula for calculating the sample mean? Provide an example calculation for a\n",
        "dataset."
      ],
      "metadata": {
        "id": "KE-wLoRft0gB"
      }
    },
    {
      "cell_type": "markdown",
      "source": [
        "Sample mean = (Sum of all values in the sample) / (Number of values in the sample)\n",
        "[1, 2, 3, 4, 5, 6, 7, 8, 9, 10]\n",
        "Sum of all values = 1 + 2 + 3 + 4 + 5 + 6 + 7 + 8 + 9 + 10 = 55\n",
        "Sample mean = 55 / 10 = 5.5\n"
      ],
      "metadata": {
        "id": "lu9pv22mt6wX"
      }
    },
    {
      "cell_type": "markdown",
      "source": [
        "Q12. For a normal distribution data what is the relationship between its measure of central tendency?"
      ],
      "metadata": {
        "id": "RTlWORQDuCEA"
      }
    },
    {
      "cell_type": "markdown",
      "source": [
        "mean = median = mode"
      ],
      "metadata": {
        "id": "N4GIRHiIuEbg"
      }
    },
    {
      "cell_type": "markdown",
      "source": [
        "Q13. How is covariance different from correlation?"
      ],
      "metadata": {
        "id": "1qpaG80ouIio"
      }
    },
    {
      "cell_type": "markdown",
      "source": [
        "Covariance measures the direction of the linear relationship between two variables but doesn't provide a standardized measure of strength.\n",
        "Correlation measures both the direction and strength of the linear relationship and always falls within the range of -1 to 1."
      ],
      "metadata": {
        "id": "LXVom2v7utpH"
      }
    },
    {
      "cell_type": "markdown",
      "source": [
        "Q14. How do outliers affect measures of central tendency and dispersion? Provide an example."
      ],
      "metadata": {
        "id": "lorsr3x3uuSO"
      }
    },
    {
      "cell_type": "markdown",
      "source": [
        "Basically they affects the sample or population mean and median value which can result in unexpected outcomes both for CT and dispersion.\n",
        "\n",
        "Measures of Central Tendency:\n",
        "\n",
        "Mean: Outliers can skew the mean in the direction of the outlier itself. If you have a high outlier, the mean will be higher than it should be, and if you have a low outlier, the mean will be lower than expected.\n",
        "\n",
        "Median: The median is less affected by outliers because it is not influenced by extreme values. It represents the middle value when the data is sorted. Outliers have little impact on the median.\n",
        "\n",
        "\n",
        "Measures of Dispersion:\n",
        "\n",
        "Range: Outliers can greatly affect the range because it is simply the difference between the maximum and minimum values in the data. If you have one or more outliers, the range can become very large compared to the range of the non-outlying data points.\n",
        "\n",
        "Variance and Standard Deviation: Outliers can inflate the variance and standard deviation because these measures are based on the squared differences between data points and the mean. Outliers have large deviations from the mean, leading to higher variance and standard deviation."
      ],
      "metadata": {
        "id": "07qE7gwZuyPB"
      }
    }
  ]
}