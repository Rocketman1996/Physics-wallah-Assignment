{
 "cells": [
  {
   "cell_type": "markdown",
   "id": "cfac3d4c-429f-4e25-aae4-6b1f5eedbe7c",
   "metadata": {},
   "source": [
    "Q1. Create one variable containing following type of data:\n",
    "(i) string\n",
    "(ii) list\n",
    "(iii) float\n",
    "(iv) tuple"
   ]
  },
  {
   "cell_type": "code",
   "execution_count": null,
   "id": "4ddf98c7-e256-4939-ad72-e1bdb791bdd1",
   "metadata": {},
   "outputs": [],
   "source": [
    "#(i)\n",
    "A = \"Mehul Singh Rao\"\n",
    "A"
   ]
  },
  {
   "cell_type": "code",
   "execution_count": null,
   "id": "2e856a71-9fa8-41f0-978f-709ea596287f",
   "metadata": {},
   "outputs": [],
   "source": [
    "#(ii)\n",
    "B = [1,2,3,4,5,\"nksnd\",-1.756,1.9595959595, 3.146, True]\n",
    "B"
   ]
  },
  {
   "cell_type": "code",
   "execution_count": null,
   "id": "28a763b7-1554-45e1-9c21-67e5219112e7",
   "metadata": {},
   "outputs": [],
   "source": [
    "#(iii)\n",
    "C = 1.23456\n",
    "C"
   ]
  },
  {
   "cell_type": "code",
   "execution_count": null,
   "id": "de81451b-f33d-4038-a800-0c50ea87821a",
   "metadata": {},
   "outputs": [],
   "source": [
    "#(iv)\n",
    "D = (1,2,3,4,5,\"nksnd\",-1.756,1.9595959595, 3.146, True)\n",
    "D"
   ]
  },
  {
   "cell_type": "markdown",
   "id": "de0711e7-6482-4785-85c9-eaba4964ee90",
   "metadata": {},
   "source": [
    "Q2. Given are some following variables containing data:\n",
    "(i) var1 = ‘ ‘\n",
    "(ii) var2 = ‘[ DS , ML , Python]’\n",
    "(iii) var3 = [ ‘DS’ , ’ML’ , ‘Python’ ]\n",
    "(iv) var4 = 1."
   ]
  },
  {
   "cell_type": "code",
   "execution_count": null,
   "id": "accc3613-0ea5-421d-9bc7-ce380130e08f",
   "metadata": {},
   "outputs": [],
   "source": [
    "var1 = ' '\n",
    "type(var1)"
   ]
  },
  {
   "cell_type": "code",
   "execution_count": null,
   "id": "4a7949c9-4351-4d55-bfc9-b08a64d5ada6",
   "metadata": {},
   "outputs": [],
   "source": [
    "var2 = '[ DS , ML , Python]'\n",
    "type(var2)"
   ]
  },
  {
   "cell_type": "code",
   "execution_count": null,
   "id": "91fefc51-8451-48f1-bd64-5a7a2ba71f7e",
   "metadata": {},
   "outputs": [],
   "source": [
    "var3 = [ 'DS' , 'ML' , 'Python' ]\n",
    "type(var3)"
   ]
  },
  {
   "cell_type": "code",
   "execution_count": null,
   "id": "5301d783-5819-482f-b4e1-416da0ed76aa",
   "metadata": {},
   "outputs": [],
   "source": [
    "var4 = 1\n",
    "type(var4)"
   ]
  },
  {
   "cell_type": "markdown",
   "id": "88469153-c759-44bd-94d4-fb04e41c3665",
   "metadata": {},
   "source": [
    "Q3. Explain the use of the following operators using an example:\n",
    "(i) /\n",
    "(ii) %\n",
    "(iii) //\n",
    "(iv) **"
   ]
  },
  {
   "cell_type": "code",
   "execution_count": null,
   "id": "3a743039-159b-4681-a8d9-5df7227f591b",
   "metadata": {},
   "outputs": [],
   "source": [
    "# / used for dividing\n",
    "8/4"
   ]
  },
  {
   "cell_type": "code",
   "execution_count": null,
   "id": "9a2b7825-dfe4-4d7e-a132-2d15a2189abf",
   "metadata": {},
   "outputs": [],
   "source": [
    "# % is used to take out modulus\n",
    "5%4"
   ]
  },
  {
   "cell_type": "code",
   "execution_count": null,
   "id": "00bb961a-f787-415b-8582-e37b0b8f124b",
   "metadata": {},
   "outputs": [],
   "source": [
    "# // is used for the floor division, largest integer value less than or equal to the exact division result.\n",
    "10.5//3.2"
   ]
  },
  {
   "cell_type": "code",
   "execution_count": null,
   "id": "9dc5f12f-4bd5-4808-8874-2df3b6f6c8a3",
   "metadata": {},
   "outputs": [],
   "source": [
    "# ** is used for the raising the power of an int.\n",
    "3**3"
   ]
  },
  {
   "cell_type": "markdown",
   "id": "f7533d98-5fba-4ec1-9e71-77f70eca2ec4",
   "metadata": {},
   "source": [
    "Q4. Create a list of length 10 of your choice containing multiple types of data. Using for loop print the\n",
    "element and its data type."
   ]
  },
  {
   "cell_type": "code",
   "execution_count": 33,
   "id": "789b6f34-0a81-45ef-bd4b-b0763eb9b9c0",
   "metadata": {},
   "outputs": [
    {
     "name": "stdout",
     "output_type": "stream",
     "text": [
      "1 <class 'int'>\n",
      "2 <class 'int'>\n",
      "3 <class 'int'>\n",
      "4 <class 'int'>\n",
      "5 <class 'int'>\n",
      "6 <class 'int'>\n",
      "mehul <class 'str'>\n",
      "True <class 'bool'>\n",
      "1.56 <class 'float'>\n",
      "-1.7567 <class 'float'>\n"
     ]
    }
   ],
   "source": [
    "q = [1,2,3,4,5,6, \"mehul\",True,1.56,-1.7567]\n",
    "\n",
    "for i in q :\n",
    "    print(i,type(i))"
   ]
  },
  {
   "cell_type": "markdown",
   "id": "1ebd72cb-04ba-4833-bf9b-52c11c28db0a",
   "metadata": {},
   "source": [
    "Q5. Using a while loop, verify if the number A is purely divisible by number B and if so then how many\n",
    "times it can be divisible."
   ]
  },
  {
   "cell_type": "code",
   "execution_count": null,
   "id": "23362af8-6021-4a73-9986-292193ccf4f1",
   "metadata": {},
   "outputs": [],
   "source": [
    "M = 12\n",
    "N = 2\n",
    "count = 0\n",
    "while M % N == 0 :\n",
    "    M = M//N\n",
    "    count += 1\n",
    "print(\"M is divisable by N\", count, \"times\")"
   ]
  },
  {
   "cell_type": "markdown",
   "id": "06fee453-178b-4e36-b104-fdce900dd498",
   "metadata": {},
   "source": [
    "Q6. Create a list containing 25 int type data. Using for loop and if-else condition print if the element is\n",
    "divisible by 3 or not."
   ]
  },
  {
   "cell_type": "code",
   "execution_count": 22,
   "id": "9a3bbede-12aa-44f6-b8e0-277d1f0701b0",
   "metadata": {},
   "outputs": [
    {
     "name": "stdout",
     "output_type": "stream",
     "text": [
      "1 number is not divisable by three\n",
      "2 number is not divisable by three\n",
      "3 number is divisable by three\n",
      "4 number is not divisable by three\n",
      "5 number is not divisable by three\n",
      "6 number is divisable by three\n",
      "7 number is not divisable by three\n",
      "8 number is not divisable by three\n",
      "9 number is divisable by three\n",
      "10 number is not divisable by three\n",
      "11 number is not divisable by three\n",
      "12 number is divisable by three\n",
      "13 number is not divisable by three\n",
      "14 number is not divisable by three\n",
      "15 number is divisable by three\n",
      "16 number is not divisable by three\n",
      "17 number is not divisable by three\n",
      "18 number is divisable by three\n",
      "19 number is not divisable by three\n",
      "20 number is not divisable by three\n",
      "21 number is divisable by three\n",
      "22 number is not divisable by three\n",
      "23 number is not divisable by three\n",
      "24 number is divisable by three\n",
      "25 number is not divisable by three\n"
     ]
    }
   ],
   "source": [
    "v = []\n",
    "for i in range(1,26):\n",
    "    v.append(i)\n",
    "\n",
    "for i in v:\n",
    "    if  i % 3 == 0 :\n",
    "        print(i, 'number is divisable by three')\n",
    "    else :\n",
    "        print(i, 'number is not divisable by three')\n",
    "    "
   ]
  },
  {
   "cell_type": "markdown",
   "id": "20576978-b3a2-47f7-b400-f2b44ad8b882",
   "metadata": {},
   "source": [
    "Q7. What do you understand about mutable and immutable data types? Give examples for both showing\n",
    "this property."
   ]
  },
  {
   "cell_type": "markdown",
   "id": "bf51e5dc-7d40-4550-ac02-cfe0cf6d5d9f",
   "metadata": {},
   "source": [
    "1. mutable data types are those which you can modify or delete\n",
    "\n",
    "\n",
    "2. Immutable are those which you can't change or modify or delete"
   ]
  },
  {
   "cell_type": "code",
   "execution_count": 25,
   "id": "96a6e581-3047-4a7a-b90b-7f42c957ce28",
   "metadata": {},
   "outputs": [
    {
     "ename": "TypeError",
     "evalue": "'str' object does not support item assignment",
     "output_type": "error",
     "traceback": [
      "\u001b[0;31m---------------------------------------------------------------------------\u001b[0m",
      "\u001b[0;31mTypeError\u001b[0m                                 Traceback (most recent call last)",
      "Cell \u001b[0;32mIn[25], line 3\u001b[0m\n\u001b[1;32m      1\u001b[0m \u001b[38;5;66;03m#example 1. a string, tuple\u001b[39;00m\n\u001b[1;32m      2\u001b[0m g \u001b[38;5;241m=\u001b[39m \u001b[38;5;124m\"\u001b[39m\u001b[38;5;124mfsd\u001b[39m\u001b[38;5;124m\"\u001b[39m\n\u001b[0;32m----> 3\u001b[0m \u001b[43mg\u001b[49m\u001b[43m[\u001b[49m\u001b[38;5;241;43m1\u001b[39;49m\u001b[43m]\u001b[49m \u001b[38;5;241m=\u001b[39m \u001b[38;5;124m'\u001b[39m\u001b[38;5;124ma\u001b[39m\u001b[38;5;124m'\u001b[39m\n",
      "\u001b[0;31mTypeError\u001b[0m: 'str' object does not support item assignment"
     ]
    }
   ],
   "source": [
    "#example 1. a string, tuple\n",
    "g = \"fsd\"\n",
    "g[1] = 'a'"
   ]
  },
  {
   "cell_type": "code",
   "execution_count": 31,
   "id": "cd3cc177-c7b4-4907-bb11-11a059bf5fa4",
   "metadata": {},
   "outputs": [
    {
     "data": {
      "text/plain": [
       "['rahul', 1, 2, 3, 4]"
      ]
     },
     "execution_count": 31,
     "metadata": {},
     "output_type": "execute_result"
    }
   ],
   "source": [
    "f = [\"mehul\", 1,2,3,4]\n",
    "f[0] = 'rahul'\n",
    "f"
   ]
  }
 ],
 "metadata": {
  "kernelspec": {
   "display_name": "Python 3 (ipykernel)",
   "language": "python",
   "name": "python3"
  },
  "language_info": {
   "codemirror_mode": {
    "name": "ipython",
    "version": 3
   },
   "file_extension": ".py",
   "mimetype": "text/x-python",
   "name": "python",
   "nbconvert_exporter": "python",
   "pygments_lexer": "ipython3",
   "version": "3.10.8"
  }
 },
 "nbformat": 4,
 "nbformat_minor": 5
}
