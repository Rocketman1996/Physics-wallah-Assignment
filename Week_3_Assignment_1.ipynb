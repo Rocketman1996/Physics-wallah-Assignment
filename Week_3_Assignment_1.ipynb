{
  "nbformat": 4,
  "nbformat_minor": 0,
  "metadata": {
    "colab": {
      "provenance": []
    },
    "kernelspec": {
      "name": "python3",
      "display_name": "Python 3"
    },
    "language_info": {
      "name": "python"
    }
  },
  "cells": [
    {
      "cell_type": "markdown",
      "source": [
        "Q1. Which keyword is used to create a function? Create a function to return a list of odd numbers in the\n",
        "range of 1 to 25."
      ],
      "metadata": {
        "id": "LN6ofwaE3t7z"
      }
    },
    {
      "cell_type": "code",
      "source": [
        "# we use def to create a function\n",
        "\n",
        "def oddnum():\n",
        "  k = []\n",
        "  for i in range(1,26):\n",
        "    if i%2 != 1:\n",
        "      k.append(i)\n",
        "  return(k)\n",
        "oddnum()"
      ],
      "metadata": {
        "colab": {
          "base_uri": "https://localhost:8080/"
        },
        "id": "AqNm_18H3xZM",
        "outputId": "160f9307-33a5-4910-b28e-abf52b994e88"
      },
      "execution_count": null,
      "outputs": [
        {
          "output_type": "execute_result",
          "data": {
            "text/plain": [
              "[2, 4, 6, 8, 10, 12, 14, 16, 18, 20, 22, 24]"
            ]
          },
          "metadata": {},
          "execution_count": 2
        }
      ]
    },
    {
      "cell_type": "markdown",
      "source": [
        "Q2. Why *args and **kwargs is used in some functions? Create a function each for *args and **kwargs\n",
        "to demonstrate their use."
      ],
      "metadata": {
        "id": "TFVm4JWV4X92"
      }
    },
    {
      "cell_type": "code",
      "source": [
        "# *args is bsically used to take multiple arguments in a function while **kwargs is used to get multiple argument in a function but in the form of Key-valye pairs, basically in a dictionary form.\n",
        "\n",
        "def test1(*args):\n",
        "  return args\n",
        "test1()\n",
        "\n",
        "def test2(**args):\n",
        "  return args\n",
        "test2()\n",
        "\n",
        "test1(), test2()"
      ],
      "metadata": {
        "id": "dy1lrdfp4dN-",
        "colab": {
          "base_uri": "https://localhost:8080/"
        },
        "outputId": "ee45aa10-7732-48d8-fcda-c4340ed3ae99"
      },
      "execution_count": null,
      "outputs": [
        {
          "output_type": "execute_result",
          "data": {
            "text/plain": [
              "((), {})"
            ]
          },
          "metadata": {},
          "execution_count": 3
        }
      ]
    },
    {
      "cell_type": "code",
      "source": [
        "# example - *args\n",
        "\n",
        "def test(*args, a=5):\n",
        "    return args,a\n",
        "\n",
        "test(1,23,26,27,\"bfsjkjkw\")\n",
        "\n",
        "# so in this basically for *args we can pass as many things as we want and if we want to add and another keyword we can call that also."
      ],
      "metadata": {
        "colab": {
          "base_uri": "https://localhost:8080/"
        },
        "id": "4MiJdoQU-GJx",
        "outputId": "730944bf-5afe-4b12-c2da-3be4517b98fa"
      },
      "execution_count": null,
      "outputs": [
        {
          "output_type": "execute_result",
          "data": {
            "text/plain": [
              "((1, 23, 26, 27, 'bfsjkjkw'), 5)"
            ]
          },
          "metadata": {},
          "execution_count": 13
        }
      ]
    },
    {
      "cell_type": "code",
      "source": [
        "# example - *kwargs\n",
        "\n",
        "def mehul(**mehul):\n",
        "  return mehul\n",
        "\n",
        "test2(name = \"mynameismehul\", score = 76,likesfootball = True)"
      ],
      "metadata": {
        "colab": {
          "base_uri": "https://localhost:8080/"
        },
        "id": "indIk0ltE9om",
        "outputId": "a2fc0d0e-8159-4ef8-90ca-8dd60c519651"
      },
      "execution_count": null,
      "outputs": [
        {
          "output_type": "execute_result",
          "data": {
            "text/plain": [
              "{'name': 'mynameismehul', 'score': 76, 'likesfootball': True}"
            ]
          },
          "metadata": {},
          "execution_count": 22
        }
      ]
    },
    {
      "cell_type": "markdown",
      "source": [
        "What is an iterator in python? Name the method used to initialise the iterator object and the method\n",
        "used for iteration. Use these methods to print the first five elements of the given list [2, 4, 6, 8, 10, 12, 14,\n",
        "16, 18, 20]."
      ],
      "metadata": {
        "id": "JkHUBo4yKN0d"
      }
    },
    {
      "cell_type": "code",
      "source": [
        "# A iterator is an object or method which can be used to loop over or iterated over on items one by one.\n",
        "# iter() this is the method to set iteration to an iterable object.\n",
        "# next() is used to iterate the items one by one.\n",
        "\n",
        "l = [2, 4, 6, 8, 10, 12, 14, 16, 18, 20]\n",
        "\n",
        "my_itr = iter(l)\n",
        "\n",
        "for i in range(9):\n",
        "  print(next(my_itr))"
      ],
      "metadata": {
        "colab": {
          "base_uri": "https://localhost:8080/"
        },
        "id": "KfoESI-9KPlo",
        "outputId": "18fd5316-04ef-4b5f-a054-c5ffad3fa187"
      },
      "execution_count": null,
      "outputs": [
        {
          "output_type": "stream",
          "name": "stdout",
          "text": [
            "2\n",
            "4\n",
            "6\n",
            "8\n",
            "10\n",
            "12\n"
          ]
        }
      ]
    },
    {
      "cell_type": "markdown",
      "source": [
        "Q4. What is a generator function in python? Why yield keyword is used? Give an example of a generator\n",
        "function."
      ],
      "metadata": {
        "id": "oZVC4WigR8__"
      }
    },
    {
      "cell_type": "code",
      "source": [
        "# A generator function is a function which returns the value one by  one when asked to by the use use next(). yield is something which makes it to do so.\n",
        "\n",
        "l = [2, 4, 6, 8, 10, 12, 14, 16, 18, 20]\n",
        "\n",
        "def my_itr(my_list):\n",
        "  for i in my_list:\n",
        "    yield i\n",
        "\n",
        "iterator = my_itr(l)\n",
        "\n",
        "for i in range(6):\n",
        "  print(next(iterator))"
      ],
      "metadata": {
        "id": "Olz9PBS-LzB3"
      },
      "execution_count": null,
      "outputs": []
    },
    {
      "cell_type": "markdown",
      "source": [
        "Q5. Create a generator function for prime numbers less than 1000. Use the next() method to print the\n",
        "first 20 prime numbers."
      ],
      "metadata": {
        "id": "vOoOXLzXVIQy"
      }
    },
    {
      "cell_type": "code",
      "source": [
        "def prime_num(n):\n",
        "  if n<= 1:\n",
        "     return False\n",
        "  if n == 2:\n",
        "     return True\n",
        "  if n%2 == 0:\n",
        "     return False\n",
        "  max_divisor = int(n**0.5)\n",
        "  for i in range(3,max_divisor,2):\n",
        "    if n%i == 0:\n",
        "       return False\n",
        "  return True\n",
        "\n",
        "def gen_fun(n):\n",
        "  num = 2\n",
        "  while num<n:\n",
        "    if prime_num(num):\n",
        "          yield num\n",
        "    num += 1\n",
        "\n",
        "generator = gen_fun(1000)\n",
        "\n",
        "for i in range(20):\n",
        "  print(next(generator))"
      ],
      "metadata": {
        "id": "LtXJC3fnSc0b"
      },
      "execution_count": null,
      "outputs": []
    },
    {
      "cell_type": "markdown",
      "source": [
        "Q6. Write a python program to print the first 10 Fibonacci numbers using a while loop."
      ],
      "metadata": {
        "id": "wB0MwYunv6i0"
      }
    },
    {
      "cell_type": "code",
      "source": [
        "a = 0\n",
        "b = 1\n",
        "count = 0\n",
        "\n",
        "while count < 10:\n",
        "  print(a)\n",
        "  a,b = b, a+b\n",
        "  count += 1"
      ],
      "metadata": {
        "colab": {
          "base_uri": "https://localhost:8080/"
        },
        "id": "mjDklP5cv7ha",
        "outputId": "2663574b-3ed4-4f1f-e415-541045db81c3"
      },
      "execution_count": null,
      "outputs": [
        {
          "output_type": "stream",
          "name": "stdout",
          "text": [
            "0\n",
            "1\n",
            "1\n",
            "2\n",
            "3\n",
            "5\n",
            "8\n",
            "13\n",
            "21\n",
            "34\n"
          ]
        }
      ]
    },
    {
      "cell_type": "markdown",
      "source": [
        "Q7. Write a List Comprehension to iterate through the given string: ‘pwskills’.\n",
        "Expected output: ['p', 'w', 's', 'k', 'i', 'l', 'l', 's']"
      ],
      "metadata": {
        "id": "eS4VQpFoy3D8"
      }
    },
    {
      "cell_type": "code",
      "source": [
        "string = \"pwskills\"\n",
        "\n",
        "genrator = iter(string)\n",
        "\n",
        "for i in range(8):\n",
        "  print(list((next(genrator))))"
      ],
      "metadata": {
        "colab": {
          "base_uri": "https://localhost:8080/"
        },
        "id": "oOqZg3P_y4CS",
        "outputId": "2912b490-a92d-4b50-d4f6-ac84ab858f20"
      },
      "execution_count": null,
      "outputs": [
        {
          "output_type": "stream",
          "name": "stdout",
          "text": [
            "['p']\n",
            "['w']\n",
            "['s']\n",
            "['k']\n",
            "['i']\n",
            "['l']\n",
            "['l']\n",
            "['s']\n"
          ]
        }
      ]
    },
    {
      "cell_type": "code",
      "source": [
        "#alternatively\n",
        "string = \"pwskills\"\n",
        "\n",
        "genrator = iter(string)\n",
        "\n",
        "chars = [char for char in genrator]\n",
        "\n",
        "print(chars)\n"
      ],
      "metadata": {
        "colab": {
          "base_uri": "https://localhost:8080/"
        },
        "id": "XfNs4mf80KEI",
        "outputId": "b9fe8c80-2983-43ad-8985-a57710e3da0e"
      },
      "execution_count": null,
      "outputs": [
        {
          "output_type": "stream",
          "name": "stdout",
          "text": [
            "['p', 'w', 's', 'k', 'i', 'l', 'l', 's']\n"
          ]
        }
      ]
    },
    {
      "cell_type": "markdown",
      "source": [
        "Q8. Write a python program to check whether a given number is Palindrome or not using a while loop."
      ],
      "metadata": {
        "id": "7I6KFsYQ3plt"
      }
    },
    {
      "cell_type": "code",
      "source": [
        "def is_palindrome(n):\n",
        "    return str(n) == str(n)[::-1]\n",
        "    # str() fun creates a string from num and then we use str([::-1]) to reverse the fun == checks palindrome\n",
        "\n",
        "# Test the function\n",
        "n = 121\n",
        "if is_palindrome(n):\n",
        "    print(n, \"is a palindrome\")\n",
        "else:\n",
        "    print(n, \"is not a palindrome\")\n"
      ],
      "metadata": {
        "colab": {
          "base_uri": "https://localhost:8080/"
        },
        "id": "m8MyGCeO0dLd",
        "outputId": "fa446246-8c15-4b2b-b951-5c144b688e1d"
      },
      "execution_count": null,
      "outputs": [
        {
          "output_type": "stream",
          "name": "stdout",
          "text": [
            "121 is a palindrome\n"
          ]
        }
      ]
    },
    {
      "cell_type": "markdown",
      "source": [
        "Q9. Write a code to print odd numbers from 1 to 100 using list comprehension.\n",
        "Note: Use a list comprehension to create a list from 1 to 100 and use another List comprehension to filter\n",
        "out odd numbers."
      ],
      "metadata": {
        "id": "whgSZaxn3sj1"
      }
    },
    {
      "cell_type": "code",
      "source": [
        "odd_num = [i for i in range(0,101) if i%2 != 0]\n",
        "\n",
        "print(odd_num)\n",
        "\n",
        "# so basically if we add [] brackets then python coonsider it as a list comprehension other it'll be like a generator function and if we remove this."
      ],
      "metadata": {
        "colab": {
          "base_uri": "https://localhost:8080/"
        },
        "id": "RJOkoLyN3vNw",
        "outputId": "56f452fc-8fb2-4dc8-b3ac-f806025c7918"
      },
      "execution_count": null,
      "outputs": [
        {
          "output_type": "stream",
          "name": "stdout",
          "text": [
            "[1, 3, 5, 7, 9, 11, 13, 15, 17, 19, 21, 23, 25, 27, 29, 31, 33, 35, 37, 39, 41, 43, 45, 47, 49, 51, 53, 55, 57, 59, 61, 63, 65, 67, 69, 71, 73, 75, 77, 79, 81, 83, 85, 87, 89, 91, 93, 95, 97, 99]\n"
          ]
        }
      ]
    }
  ]
}