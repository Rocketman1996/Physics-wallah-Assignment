{
  "nbformat": 4,
  "nbformat_minor": 0,
  "metadata": {
    "colab": {
      "provenance": []
    },
    "kernelspec": {
      "name": "python3",
      "display_name": "Python 3"
    },
    "language_info": {
      "name": "python"
    }
  },
  "cells": [
    {
      "cell_type": "markdown",
      "source": [
        "Q1. What is Abstraction in OOps? Explain with an example."
      ],
      "metadata": {
        "id": "nxJDOISIff7a"
      }
    },
    {
      "cell_type": "code",
      "source": [
        "# Abstractmethod is basically used in complex systems to hide the unnecessary details and only show the improtant one. It help us providing the abstract classes or interfeces\n",
        "# with common properties and behaviour without providing the implimentaions.The subcalsses which inherits these abstract classes must provide the implimentation for the\n",
        "# function without implimentation in the abstract class.\n",
        "\n",
        "\n",
        "from abc import ABC, abstractmethod # Loading the ABC(abstract base class), abstractmethod(is a deccorator which marks the method as a abstract)\n",
        "\n",
        "# Declaing the Vehicle as a abstract base class by providing the ABC\n",
        "class Vehicle(ABC):\n",
        "   # Abstract method to start the vehicle (no implementation here)\n",
        "  @abstractmethod       # decorator of abstraction method\n",
        "  def start(self):\n",
        "    pass\n",
        "\n",
        "   # Abstract method to stop the vehicle (implementation here)\n",
        "  def stop(self):\n",
        "    print(\"Vehicle has stopped\")\n",
        "\n",
        "# Subclass -\n",
        "class Car(Vehicle):\n",
        "  def start(self):\n",
        "    return \" car is started\"  # providing the implimentation as  \"return \" car is started\" which is mendatory if no implimentation is provided inside the abstract class's function.\n",
        "\n",
        "# subclass -\n",
        "\n",
        "class Bus(Vehicle):\n",
        "  def start(self):\n",
        "    print(\"bus will start please wait until all the pasenger come inside. Please wait!\")\n",
        "\n",
        "# so in both the subclasses we have provided the implimentation for the function which has no implimentaion and left the stop function which has the limintaion as  print(\"Vehicle has stopped\").\n",
        "# so we can skip it and call it later on when we want.\n",
        "\n",
        "car = Car()\n",
        "bus = Bus()\n",
        "\n",
        "car.start()\n",
        "car.stop()\n",
        "\n",
        "bus.start()\n",
        "bus.stop()\n"
      ],
      "metadata": {
        "colab": {
          "base_uri": "https://localhost:8080/"
        },
        "id": "dJhBw0lSfgls",
        "outputId": "b0e2db1c-5f85-4654-bea7-2f97cc2f71fa"
      },
      "execution_count": null,
      "outputs": [
        {
          "output_type": "stream",
          "name": "stdout",
          "text": [
            "Vehicle has stopped\n",
            "bus will start please wait until all the pasenger come inside. Please wait!\n",
            "Vehicle has stopped\n"
          ]
        }
      ]
    },
    {
      "cell_type": "markdown",
      "source": [
        "Q2. Differentiate between Abstraction and Encapsulation. Explain with an example."
      ],
      "metadata": {
        "id": "ynxCGqqq7PIn"
      }
    },
    {
      "cell_type": "markdown",
      "source": [
        "In encapsulation, you can control the visibility and accessibility of attributes and methods using access modifiers:\n",
        "\n",
        "Public: Attributes and methods with no access modifier are considered public. They can be accessed from outside the class without any restrictions.\n",
        "\n",
        "Protected: Attributes and methods with a single underscore prefix (_) are considered protected. They can be accessed from outside the class, but it's a convention to treat them as internal and not part of the public interface.\n",
        "\n",
        "Private: Attributes and methods with a double underscore prefix (__) are considered private. They are intended to be used only within the class and are not meant to be accessed directly from outside. Name mangling is applied to make them less accessible, but it's still possible to access them if needed.\n",
        "\n",
        "In abstraction, the focus is on defining the common interface for a group of related classes without providing the implementation details. Abstraction is achieved using abstract classes or interfaces. In Python, abstract classes can have both abstract methods (without implementation) and concrete methods (with implementation).\n",
        "\n",
        "Attributes in abstraction can have various access modifiers like public, protected, or private, just like in any other class. However, abstraction primarily deals with the abstract methods, which are meant to be implemented by the concrete subclasses. It ensures that all the subclasses adhere to a common contract defined by the abstract class or interface.\n",
        "\n",
        "In summary, encapsulation is about controlling the visibility and accessibility of attributes and methods, while abstraction is about defining a common interface (including methods and attributes) for a group of related classes. The two concepts are related but serve different purposes in object-oriented programming."
      ],
      "metadata": {
        "id": "S3E4joGTCvID"
      }
    },
    {
      "cell_type": "code",
      "source": [
        "# examples\n",
        "#1. abstraction method\n",
        "\n",
        "class shape(ABC):\n",
        "  @abstractmethod\n",
        "  def calculate_area(self): # <----(Abstract Method)\n",
        "    pass                  # without providing the implementation details.\n",
        "                          # Any method in a class that is defined without implementation (\n",
        "                              #i.e., with just pass or without any statements) becomes an abstract method by default, making the class an abstract base class.\n",
        "\n",
        "class circle(shape):      # concrete subclass which is going to impliment the main(Base class which is 'shape') class function.\n",
        "\n",
        "  def __init__(self, radius):\n",
        "    self.radius = radius\n",
        "\n",
        "  def calculate_area(self):\n",
        "    return 3.14*self.radius**2\n",
        "\n",
        "class square(shape):\n",
        "\n",
        "  def __init__(self, side):\n",
        "    self.side = side\n",
        "\n",
        "  def calculate_area(self):\n",
        "    return self.side**2\n",
        "\n",
        "area_circle = circle(5)\n",
        "area_square = square(25)\n",
        "area_circle.calculate_area()\n",
        "area_square.calculate_area()\n",
        "\n",
        "print(area_circle.calculate_area(), area_square.calculate_area())"
      ],
      "metadata": {
        "colab": {
          "base_uri": "https://localhost:8080/"
        },
        "id": "subkhNjyCwBs",
        "outputId": "4bad6093-c593-4361-be5b-1e5ca4ccbbd6"
      },
      "execution_count": null,
      "outputs": [
        {
          "output_type": "stream",
          "name": "stdout",
          "text": [
            "78.5 625\n"
          ]
        }
      ]
    },
    {
      "cell_type": "code",
      "source": [
        "# Encapsulation\n",
        "\n",
        "class Vehicle:\n",
        "  def __init__(self, speed, capacity,milege):\n",
        "    self._speed = speed\n",
        "    self._capacity = capacity\n",
        "    self.__milege = milege\n",
        "\n",
        "  def get_speed(self):\n",
        "    return self._speed\n",
        "\n",
        "  def set_speed(self, speed):\n",
        "    if isinstance(speed, int) and speed >50:\n",
        "      self._speed = speed\n",
        "    else:\n",
        "      print(\"give a number please\")\n",
        "\n",
        "  def get_capacity(self):\n",
        "    return self._capacity\n",
        "\n",
        "  def set_capacity(self, capacity):\n",
        "    if isinstance(capacity, int) and capacity >2:\n",
        "      self._capacity = capacity\n",
        "    else:\n",
        "      print(\"please give a number\")\n",
        "\n",
        "  def get_milege(self):\n",
        "    return self.__milege\n",
        "\n",
        "  def set_milege(self, milege):\n",
        "    if isinstance(milege, int) and milege > 10:\n",
        "      self.__milege = milege\n",
        "    else:\n",
        "      print(\"please give a number\")\n",
        "\n",
        "# creating objects\n",
        "vehicle = Vehicle(55,6,30)\n",
        "\n",
        "print(vehicle.get_speed(),vehicle.get_milege(), vehicle.get_capacity())\n",
        "\n",
        "vehicle.set_speed(56)\n",
        "vehicle.set_capacity(8)\n",
        "vehicle.set_milege(22)\n",
        "print(vehicle.get_speed(),vehicle.get_milege(), vehicle.get_capacity())\n",
        "\n"
      ],
      "metadata": {
        "colab": {
          "base_uri": "https://localhost:8080/"
        },
        "id": "efmZsU_1Gsvw",
        "outputId": "ecccf422-02e1-48ea-d52d-12088bf7fb2d"
      },
      "execution_count": null,
      "outputs": [
        {
          "output_type": "stream",
          "name": "stdout",
          "text": [
            "55 30 6\n",
            "56 22 8\n"
          ]
        }
      ]
    },
    {
      "cell_type": "markdown",
      "source": [
        "Q3. What is abc module in python? Why is it used?"
      ],
      "metadata": {
        "id": "NLumy9m3ypa8"
      }
    },
    {
      "cell_type": "code",
      "source": [
        "# The abc module in Python stands for \"Abstract Base Classes.\" It is a built-in module that provides tools for defining and working with abstract base classes (ABCs) in Python.\n",
        "\n",
        "# Abstract Base Class (ABC): An ABC is a class that cannot be instantiated directly but serves as a blueprint for its subclasses. It defines a set of abstract methods that its\n",
        "# subclasses must implement.\n",
        "# Abstract classes can also have concrete methods that provide common functionality for all subclasses.\n",
        "\n",
        "# Abstract Method: An abstract method is a method declared in an abstract base class(ABC) without any implementation.\n",
        "# It serves as a placeholder that must be implemented in the concrete subclasses. Abstract methods are defined using the @abstractmethod decorator."
      ],
      "metadata": {
        "id": "gtL24hSKyuZu"
      },
      "execution_count": null,
      "outputs": []
    },
    {
      "cell_type": "markdown",
      "source": [
        "Q4. How can we achieve data abstraction?"
      ],
      "metadata": {
        "id": "T5CqctBL9O7q"
      }
    },
    {
      "cell_type": "code",
      "source": [
        "# 1. Create an abstract class using the abc module.\n",
        "# 2. Define abstract methods within the abstract class without providing implementation details.\n",
        "# 3. Subclasses that inherit from the abstract class must implement the abstract methods.\n",
        "# 4. Use the concrete subclasses to interact with the common interface defined by the abstract class, abstracting away the implementation details.\n",
        "\n",
        "class shape(ABC):\n",
        "  @abstractmethod\n",
        "  def area_circle1(self):\n",
        "    pass\n",
        "\n",
        "class circle1(shape):\n",
        "  def __init__(self, radius):\n",
        "    self.radius = radius\n",
        "\n",
        "  def area_circle1(self):\n",
        "    return 3.14*self.radius**2\n",
        "\n",
        "area = circle1(5)\n",
        "area.area_circle1()"
      ],
      "metadata": {
        "colab": {
          "base_uri": "https://localhost:8080/"
        },
        "id": "3g0QVzUGQgHG",
        "outputId": "b643f0f8-12cb-49e5-912c-7939973591af"
      },
      "execution_count": null,
      "outputs": [
        {
          "output_type": "execute_result",
          "data": {
            "text/plain": [
              "78.5"
            ]
          },
          "metadata": {},
          "execution_count": 10
        }
      ]
    },
    {
      "cell_type": "markdown",
      "source": [
        "Q5. Can we create an instance of an abstract class? Explain your answer."
      ],
      "metadata": {
        "id": "zhM-9PFDe1SZ"
      }
    },
    {
      "cell_type": "code",
      "source": [
        "#1. we can't create an instance for an abstract base class in which he implimentation is not defined\n",
        "#2. we can create instance of it's sub class in which concrete implimentation is provided.\n",
        "#3. we can create instance for the abstract base class in which implimentation is provided.\n",
        "\n",
        "class shape(ABC):\n",
        "  @abstractmethod\n",
        "  def area_circle1(self):\n",
        "    pass\n",
        "  def xyz(self): # concrete abstract base class's function with the implimentation provided\n",
        "    return \"fwefokewnfknewknf\"\n",
        "\n",
        "class circle1(shape):\n",
        "  def __init__(self, radius):\n",
        "    self.radius = radius\n",
        "\n",
        "  def area_circle1(self):\n",
        "    return 3.14*self.radius**2\n",
        "\n",
        "instance1 = circle1(5)\n",
        "instance1.area_circle1()\n",
        "\n",
        "instance1.xyz()  #we can create instance for the abstract base class in which implimentation is provided.\n",
        "\n",
        "print(instance1.xyz(), instance1.area_circle1() )"
      ],
      "metadata": {
        "colab": {
          "base_uri": "https://localhost:8080/"
        },
        "id": "98qJqLbhe4Vf",
        "outputId": "8373d163-03d5-4801-83c0-1321a6d8d7b2"
      },
      "execution_count": null,
      "outputs": [
        {
          "output_type": "stream",
          "name": "stdout",
          "text": [
            "fwefokewnfknewknf 78.5\n"
          ]
        }
      ]
    },
    {
      "cell_type": "markdown",
      "source": [],
      "metadata": {
        "id": "-uzF9FCh9SMN"
      }
    }
  ]
}