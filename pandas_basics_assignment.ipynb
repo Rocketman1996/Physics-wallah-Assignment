{
  "nbformat": 4,
  "nbformat_minor": 0,
  "metadata": {
    "colab": {
      "provenance": [],
      "authorship_tag": "ABX9TyObtyL80DvAQnlZ741gE8XH",
      "include_colab_link": true
    },
    "kernelspec": {
      "name": "python3",
      "display_name": "Python 3"
    },
    "language_info": {
      "name": "python"
    }
  },
  "cells": [
    {
      "cell_type": "markdown",
      "metadata": {
        "id": "view-in-github",
        "colab_type": "text"
      },
      "source": [
        "<a href=\"https://colab.research.google.com/github/Rocketman1996/Physics-wallah-Assignment/blob/main/pandas_basics_assignment.ipynb\" target=\"_parent\"><img src=\"https://colab.research.google.com/assets/colab-badge.svg\" alt=\"Open In Colab\"/></a>"
      ]
    },
    {
      "cell_type": "markdown",
      "source": [
        "Q1. Create a Pandas Series that contains the following data: 4, 8, 15, 16, 23, and 42. Then, print the series."
      ],
      "metadata": {
        "id": "5XYkDDHBWpsh"
      }
    },
    {
      "cell_type": "code",
      "source": [
        "import pandas as pd"
      ],
      "metadata": {
        "id": "yotM-54dXGJu"
      },
      "execution_count": 2,
      "outputs": []
    },
    {
      "cell_type": "code",
      "source": [
        "data = [ 4, 8, 15, 16, 23,42]\n",
        "my_data = pd.Series(data)\n",
        "my_data"
      ],
      "metadata": {
        "colab": {
          "base_uri": "https://localhost:8080/"
        },
        "id": "QD3sQamJWrbZ",
        "outputId": "73a411c9-e60d-498a-b142-79945b1fd41e"
      },
      "execution_count": 4,
      "outputs": [
        {
          "output_type": "execute_result",
          "data": {
            "text/plain": [
              "0     4\n",
              "1     8\n",
              "2    15\n",
              "3    16\n",
              "4    23\n",
              "5    42\n",
              "dtype: int64"
            ]
          },
          "metadata": {},
          "execution_count": 4
        }
      ]
    },
    {
      "cell_type": "markdown",
      "source": [
        "Q2. Create a variable of list type containing 10 elements in it, and apply pandas.Series function on the\n",
        "variable print it."
      ],
      "metadata": {
        "id": "uq75ub-bXyRK"
      }
    },
    {
      "cell_type": "code",
      "source": [
        "data1 = [1,2,3,4,5.54,'njksd','fh',True]\n",
        "my_data1 = pd.Series(data1)\n",
        "my_data1"
      ],
      "metadata": {
        "colab": {
          "base_uri": "https://localhost:8080/"
        },
        "id": "DCEJnEO8XzoK",
        "outputId": "ecc7d336-c88b-4018-f8bb-72b3ab309402"
      },
      "execution_count": 7,
      "outputs": [
        {
          "output_type": "execute_result",
          "data": {
            "text/plain": [
              "0        1\n",
              "1        2\n",
              "2        3\n",
              "3        4\n",
              "4     5.54\n",
              "5    njksd\n",
              "6       fh\n",
              "7     True\n",
              "dtype: object"
            ]
          },
          "metadata": {},
          "execution_count": 7
        }
      ]
    },
    {
      "cell_type": "code",
      "source": [],
      "metadata": {
        "id": "WZbVnjAkYWSi"
      },
      "execution_count": null,
      "outputs": []
    },
    {
      "cell_type": "code",
      "source": [
        "data2 = {'Name':[\"Alice\",\"Bob\",\"Claire\"], 'Age': [25,30,27], 'Gender': [\"Female\", \"Male\", \"Female\"]}\n",
        "my_data2 = pd.DataFrame(data2)\n",
        "my_data2"
      ],
      "metadata": {
        "colab": {
          "base_uri": "https://localhost:8080/",
          "height": 143
        },
        "id": "MG4PvSFkYWwx",
        "outputId": "820b2cbe-d673-4f39-9522-b4b8a6cafff4"
      },
      "execution_count": 10,
      "outputs": [
        {
          "output_type": "execute_result",
          "data": {
            "text/plain": [
              "     Name  Age  Gender\n",
              "0   Alice   25  Female\n",
              "1     Bob   30    Male\n",
              "2  Claire   27  Female"
            ],
            "text/html": [
              "\n",
              "  <div id=\"df-f35c87d4-8c66-4516-928b-a81f1ff2ea21\" class=\"colab-df-container\">\n",
              "    <div>\n",
              "<style scoped>\n",
              "    .dataframe tbody tr th:only-of-type {\n",
              "        vertical-align: middle;\n",
              "    }\n",
              "\n",
              "    .dataframe tbody tr th {\n",
              "        vertical-align: top;\n",
              "    }\n",
              "\n",
              "    .dataframe thead th {\n",
              "        text-align: right;\n",
              "    }\n",
              "</style>\n",
              "<table border=\"1\" class=\"dataframe\">\n",
              "  <thead>\n",
              "    <tr style=\"text-align: right;\">\n",
              "      <th></th>\n",
              "      <th>Name</th>\n",
              "      <th>Age</th>\n",
              "      <th>Gender</th>\n",
              "    </tr>\n",
              "  </thead>\n",
              "  <tbody>\n",
              "    <tr>\n",
              "      <th>0</th>\n",
              "      <td>Alice</td>\n",
              "      <td>25</td>\n",
              "      <td>Female</td>\n",
              "    </tr>\n",
              "    <tr>\n",
              "      <th>1</th>\n",
              "      <td>Bob</td>\n",
              "      <td>30</td>\n",
              "      <td>Male</td>\n",
              "    </tr>\n",
              "    <tr>\n",
              "      <th>2</th>\n",
              "      <td>Claire</td>\n",
              "      <td>27</td>\n",
              "      <td>Female</td>\n",
              "    </tr>\n",
              "  </tbody>\n",
              "</table>\n",
              "</div>\n",
              "    <div class=\"colab-df-buttons\">\n",
              "\n",
              "  <div class=\"colab-df-container\">\n",
              "    <button class=\"colab-df-convert\" onclick=\"convertToInteractive('df-f35c87d4-8c66-4516-928b-a81f1ff2ea21')\"\n",
              "            title=\"Convert this dataframe to an interactive table.\"\n",
              "            style=\"display:none;\">\n",
              "\n",
              "  <svg xmlns=\"http://www.w3.org/2000/svg\" height=\"24px\" viewBox=\"0 -960 960 960\">\n",
              "    <path d=\"M120-120v-720h720v720H120Zm60-500h600v-160H180v160Zm220 220h160v-160H400v160Zm0 220h160v-160H400v160ZM180-400h160v-160H180v160Zm440 0h160v-160H620v160ZM180-180h160v-160H180v160Zm440 0h160v-160H620v160Z\"/>\n",
              "  </svg>\n",
              "    </button>\n",
              "\n",
              "  <style>\n",
              "    .colab-df-container {\n",
              "      display:flex;\n",
              "      gap: 12px;\n",
              "    }\n",
              "\n",
              "    .colab-df-convert {\n",
              "      background-color: #E8F0FE;\n",
              "      border: none;\n",
              "      border-radius: 50%;\n",
              "      cursor: pointer;\n",
              "      display: none;\n",
              "      fill: #1967D2;\n",
              "      height: 32px;\n",
              "      padding: 0 0 0 0;\n",
              "      width: 32px;\n",
              "    }\n",
              "\n",
              "    .colab-df-convert:hover {\n",
              "      background-color: #E2EBFA;\n",
              "      box-shadow: 0px 1px 2px rgba(60, 64, 67, 0.3), 0px 1px 3px 1px rgba(60, 64, 67, 0.15);\n",
              "      fill: #174EA6;\n",
              "    }\n",
              "\n",
              "    .colab-df-buttons div {\n",
              "      margin-bottom: 4px;\n",
              "    }\n",
              "\n",
              "    [theme=dark] .colab-df-convert {\n",
              "      background-color: #3B4455;\n",
              "      fill: #D2E3FC;\n",
              "    }\n",
              "\n",
              "    [theme=dark] .colab-df-convert:hover {\n",
              "      background-color: #434B5C;\n",
              "      box-shadow: 0px 1px 3px 1px rgba(0, 0, 0, 0.15);\n",
              "      filter: drop-shadow(0px 1px 2px rgba(0, 0, 0, 0.3));\n",
              "      fill: #FFFFFF;\n",
              "    }\n",
              "  </style>\n",
              "\n",
              "    <script>\n",
              "      const buttonEl =\n",
              "        document.querySelector('#df-f35c87d4-8c66-4516-928b-a81f1ff2ea21 button.colab-df-convert');\n",
              "      buttonEl.style.display =\n",
              "        google.colab.kernel.accessAllowed ? 'block' : 'none';\n",
              "\n",
              "      async function convertToInteractive(key) {\n",
              "        const element = document.querySelector('#df-f35c87d4-8c66-4516-928b-a81f1ff2ea21');\n",
              "        const dataTable =\n",
              "          await google.colab.kernel.invokeFunction('convertToInteractive',\n",
              "                                                    [key], {});\n",
              "        if (!dataTable) return;\n",
              "\n",
              "        const docLinkHtml = 'Like what you see? Visit the ' +\n",
              "          '<a target=\"_blank\" href=https://colab.research.google.com/notebooks/data_table.ipynb>data table notebook</a>'\n",
              "          + ' to learn more about interactive tables.';\n",
              "        element.innerHTML = '';\n",
              "        dataTable['output_type'] = 'display_data';\n",
              "        await google.colab.output.renderOutput(dataTable, element);\n",
              "        const docLink = document.createElement('div');\n",
              "        docLink.innerHTML = docLinkHtml;\n",
              "        element.appendChild(docLink);\n",
              "      }\n",
              "    </script>\n",
              "  </div>\n",
              "\n",
              "\n",
              "<div id=\"df-c8d22afa-5434-48e4-9d9c-08f64fd7ade9\">\n",
              "  <button class=\"colab-df-quickchart\" onclick=\"quickchart('df-c8d22afa-5434-48e4-9d9c-08f64fd7ade9')\"\n",
              "            title=\"Suggest charts.\"\n",
              "            style=\"display:none;\">\n",
              "\n",
              "<svg xmlns=\"http://www.w3.org/2000/svg\" height=\"24px\"viewBox=\"0 0 24 24\"\n",
              "     width=\"24px\">\n",
              "    <g>\n",
              "        <path d=\"M19 3H5c-1.1 0-2 .9-2 2v14c0 1.1.9 2 2 2h14c1.1 0 2-.9 2-2V5c0-1.1-.9-2-2-2zM9 17H7v-7h2v7zm4 0h-2V7h2v10zm4 0h-2v-4h2v4z\"/>\n",
              "    </g>\n",
              "</svg>\n",
              "  </button>\n",
              "\n",
              "<style>\n",
              "  .colab-df-quickchart {\n",
              "      --bg-color: #E8F0FE;\n",
              "      --fill-color: #1967D2;\n",
              "      --hover-bg-color: #E2EBFA;\n",
              "      --hover-fill-color: #174EA6;\n",
              "      --disabled-fill-color: #AAA;\n",
              "      --disabled-bg-color: #DDD;\n",
              "  }\n",
              "\n",
              "  [theme=dark] .colab-df-quickchart {\n",
              "      --bg-color: #3B4455;\n",
              "      --fill-color: #D2E3FC;\n",
              "      --hover-bg-color: #434B5C;\n",
              "      --hover-fill-color: #FFFFFF;\n",
              "      --disabled-bg-color: #3B4455;\n",
              "      --disabled-fill-color: #666;\n",
              "  }\n",
              "\n",
              "  .colab-df-quickchart {\n",
              "    background-color: var(--bg-color);\n",
              "    border: none;\n",
              "    border-radius: 50%;\n",
              "    cursor: pointer;\n",
              "    display: none;\n",
              "    fill: var(--fill-color);\n",
              "    height: 32px;\n",
              "    padding: 0;\n",
              "    width: 32px;\n",
              "  }\n",
              "\n",
              "  .colab-df-quickchart:hover {\n",
              "    background-color: var(--hover-bg-color);\n",
              "    box-shadow: 0 1px 2px rgba(60, 64, 67, 0.3), 0 1px 3px 1px rgba(60, 64, 67, 0.15);\n",
              "    fill: var(--button-hover-fill-color);\n",
              "  }\n",
              "\n",
              "  .colab-df-quickchart-complete:disabled,\n",
              "  .colab-df-quickchart-complete:disabled:hover {\n",
              "    background-color: var(--disabled-bg-color);\n",
              "    fill: var(--disabled-fill-color);\n",
              "    box-shadow: none;\n",
              "  }\n",
              "\n",
              "  .colab-df-spinner {\n",
              "    border: 2px solid var(--fill-color);\n",
              "    border-color: transparent;\n",
              "    border-bottom-color: var(--fill-color);\n",
              "    animation:\n",
              "      spin 1s steps(1) infinite;\n",
              "  }\n",
              "\n",
              "  @keyframes spin {\n",
              "    0% {\n",
              "      border-color: transparent;\n",
              "      border-bottom-color: var(--fill-color);\n",
              "      border-left-color: var(--fill-color);\n",
              "    }\n",
              "    20% {\n",
              "      border-color: transparent;\n",
              "      border-left-color: var(--fill-color);\n",
              "      border-top-color: var(--fill-color);\n",
              "    }\n",
              "    30% {\n",
              "      border-color: transparent;\n",
              "      border-left-color: var(--fill-color);\n",
              "      border-top-color: var(--fill-color);\n",
              "      border-right-color: var(--fill-color);\n",
              "    }\n",
              "    40% {\n",
              "      border-color: transparent;\n",
              "      border-right-color: var(--fill-color);\n",
              "      border-top-color: var(--fill-color);\n",
              "    }\n",
              "    60% {\n",
              "      border-color: transparent;\n",
              "      border-right-color: var(--fill-color);\n",
              "    }\n",
              "    80% {\n",
              "      border-color: transparent;\n",
              "      border-right-color: var(--fill-color);\n",
              "      border-bottom-color: var(--fill-color);\n",
              "    }\n",
              "    90% {\n",
              "      border-color: transparent;\n",
              "      border-bottom-color: var(--fill-color);\n",
              "    }\n",
              "  }\n",
              "</style>\n",
              "\n",
              "  <script>\n",
              "    async function quickchart(key) {\n",
              "      const quickchartButtonEl =\n",
              "        document.querySelector('#' + key + ' button');\n",
              "      quickchartButtonEl.disabled = true;  // To prevent multiple clicks.\n",
              "      quickchartButtonEl.classList.add('colab-df-spinner');\n",
              "      try {\n",
              "        const charts = await google.colab.kernel.invokeFunction(\n",
              "            'suggestCharts', [key], {});\n",
              "      } catch (error) {\n",
              "        console.error('Error during call to suggestCharts:', error);\n",
              "      }\n",
              "      quickchartButtonEl.classList.remove('colab-df-spinner');\n",
              "      quickchartButtonEl.classList.add('colab-df-quickchart-complete');\n",
              "    }\n",
              "    (() => {\n",
              "      let quickchartButtonEl =\n",
              "        document.querySelector('#df-c8d22afa-5434-48e4-9d9c-08f64fd7ade9 button');\n",
              "      quickchartButtonEl.style.display =\n",
              "        google.colab.kernel.accessAllowed ? 'block' : 'none';\n",
              "    })();\n",
              "  </script>\n",
              "</div>\n",
              "    </div>\n",
              "  </div>\n"
            ]
          },
          "metadata": {},
          "execution_count": 10
        }
      ]
    },
    {
      "cell_type": "markdown",
      "source": [
        "Q4. What is ‘DataFrame’ in pandas and how is it different from pandas.series? Explain with an example."
      ],
      "metadata": {
        "id": "RWM-nvIDZFx-"
      }
    },
    {
      "cell_type": "code",
      "source": [
        "# DataFrame is a two-dimensional, tabular data structure that represents data in rows and columns, similar to a spreadsheet or SQL table.\n",
        "# It can store heterogeneous data types and is commonly used to work with structured data.\n",
        "# Think of it as a collection of Series objects where each Series represents a column.\n",
        "\n",
        "# Series is a one-dimensional array-like data structure that represents a single column or row of data.\n",
        "# It's used for storing and manipulating a sequence of values of the same data type\n",
        "\n",
        "# Creating a Series\n",
        "fruits = pd.Series([\"cherry\",'apple', 'banana', 'cherry', 'date'])\n",
        "\n",
        "# Creating a DataFrame\n",
        "data5 = {'Fruit':['cherry','apple', 'banana', 'cherry', 'date'],\n",
        "        'Quantity': [4,5, 8, 3, 10]}\n",
        "\n",
        "df = pd.DataFrame(data5)\n",
        "\n",
        "# Output\n",
        "print(\"Series:\")\n",
        "print(fruits)\n",
        "print(\"\\nDataFrame:\")\n",
        "print(df)"
      ],
      "metadata": {
        "colab": {
          "base_uri": "https://localhost:8080/"
        },
        "id": "s4KZElaOZICe",
        "outputId": "585484d9-f2db-4e41-acca-d2f7cd13c5d8"
      },
      "execution_count": 23,
      "outputs": [
        {
          "output_type": "stream",
          "name": "stdout",
          "text": [
            "Series:\n",
            "0    cherry\n",
            "1     apple\n",
            "2    banana\n",
            "3    cherry\n",
            "4      date\n",
            "dtype: object\n",
            "\n",
            "DataFrame:\n",
            "    Fruit  Quantity\n",
            "0  cherry         4\n",
            "1   apple         5\n",
            "2  banana         8\n",
            "3  cherry         3\n",
            "4    date        10\n"
          ]
        }
      ]
    },
    {
      "cell_type": "markdown",
      "source": [
        "Q5. What are some common functions you can use to manipulate data in a Pandas DataFrame? Can\n",
        "you give an example of when you might use one of these functions?"
      ],
      "metadata": {
        "id": "APtYqi6sZF86"
      }
    },
    {
      "cell_type": "code",
      "source": [
        "data = {\n",
        "    'Name': ['Alice', 'Bob', 'Charlie','Rahul','David'],\n",
        "    'Age': [25, 30, 22,24, 35],\n",
        "    'Salary': [50000, 60000, 45000, 45000, 70000],\n",
        "    'Department': ['HR', 'Engineering','Engineering', 'Marketing', 'Finance']\n",
        "}\n",
        "df = pd.DataFrame(data)\n",
        "\n",
        "# Inspecting Data\n",
        "print(\"First 2 Rows of Data:\")\n",
        "print(df.head(2))\n",
        "\n",
        "print(\"\\nLast 2 Rows of Data:\")\n",
        "print(df.tail(2))\n",
        "\n",
        "print(\"\\nData Types and Non-Null Counts:\")\n",
        "print(df.info())\n",
        "\n",
        "# Summary Statistics\n",
        "print(\"\\nSummary Statistics:\")\n",
        "print(df.describe())\n",
        "\n",
        "# Data Types\n",
        "print(\"\\nData Types of Columns:\")\n",
        "print(df.dtypes)\n",
        "\n",
        "# Missing Values\n",
        "print(\"\\nMissing Values (True/False):\")\n",
        "print(df.isnull())\n",
        "\n",
        "print(\"\\nMissing Values Count in Each Column:\")\n",
        "print(df.isnull().sum())\n",
        "\n",
        "# Filtering Data\n",
        "filtered_df = df[df['Age'] > 25]\n",
        "print(\"\\nFiltered Data:\")\n",
        "print(filtered_df)"
      ],
      "metadata": {
        "colab": {
          "base_uri": "https://localhost:8080/"
        },
        "id": "q4FSUkAjaQ_j",
        "outputId": "80539cf4-b423-4f43-eb81-29d19ae1abea"
      },
      "execution_count": 41,
      "outputs": [
        {
          "output_type": "stream",
          "name": "stdout",
          "text": [
            "First 2 Rows of Data:\n",
            "    Name  Age  Salary   Department\n",
            "0  Alice   25   50000           HR\n",
            "1    Bob   30   60000  Engineering\n",
            "\n",
            "Last 2 Rows of Data:\n",
            "    Name  Age  Salary Department\n",
            "3  Rahul   24   45000  Marketing\n",
            "4  David   35   70000    Finance\n",
            "\n",
            "Data Types and Non-Null Counts:\n",
            "<class 'pandas.core.frame.DataFrame'>\n",
            "RangeIndex: 5 entries, 0 to 4\n",
            "Data columns (total 4 columns):\n",
            " #   Column      Non-Null Count  Dtype \n",
            "---  ------      --------------  ----- \n",
            " 0   Name        5 non-null      object\n",
            " 1   Age         5 non-null      int64 \n",
            " 2   Salary      5 non-null      int64 \n",
            " 3   Department  5 non-null      object\n",
            "dtypes: int64(2), object(2)\n",
            "memory usage: 288.0+ bytes\n",
            "None\n",
            "\n",
            "Summary Statistics:\n",
            "             Age        Salary\n",
            "count   5.000000      5.000000\n",
            "mean   27.200000  54000.000000\n",
            "std     5.263079  10839.741694\n",
            "min    22.000000  45000.000000\n",
            "25%    24.000000  45000.000000\n",
            "50%    25.000000  50000.000000\n",
            "75%    30.000000  60000.000000\n",
            "max    35.000000  70000.000000\n",
            "\n",
            "Data Types of Columns:\n",
            "Name          object\n",
            "Age            int64\n",
            "Salary         int64\n",
            "Department    object\n",
            "dtype: object\n",
            "\n",
            "Missing Values (True/False):\n",
            "    Name    Age  Salary  Department\n",
            "0  False  False   False       False\n",
            "1  False  False   False       False\n",
            "2  False  False   False       False\n",
            "3  False  False   False       False\n",
            "4  False  False   False       False\n",
            "\n",
            "Missing Values Count in Each Column:\n",
            "Name          0\n",
            "Age           0\n",
            "Salary        0\n",
            "Department    0\n",
            "dtype: int64\n",
            "\n",
            "Filtered Data:\n",
            "    Name  Age  Salary   Department\n",
            "1    Bob   30   60000  Engineering\n",
            "4  David   35   70000      Finance\n"
          ]
        }
      ]
    },
    {
      "cell_type": "code",
      "source": [
        "# Grouping and Aggregating\n",
        "grouped_df = df.groupby('Department').agg({'Salary':'mean'})\n",
        "print(\"\\nGrouped Data with Average Salary per Department:\")\n",
        "print(grouped_df)\n",
        "\n",
        "# Sorting Data\n",
        "sorted_df = df.sort_values(by='Age', ascending=False)\n",
        "print(\"\\nSorted Data by Age in Descending Order:\")\n",
        "print(sorted_df)\n",
        "\n",
        "# Counting Unique Values\n",
        "unique_departments = df['Department'].nunique()\n",
        "print(\"\\nCount of Unique Departments:\")\n",
        "print(unique_departments)\n",
        "\n",
        "# Correlation Analysis (Numeric Columns)\n",
        "correlation_matrix = df.corr()\n",
        "print(\"\\nCorrelation Matrix:\")\n",
        "print(correlation_matrix)"
      ],
      "metadata": {
        "colab": {
          "base_uri": "https://localhost:8080/"
        },
        "id": "T_nS1r57igtF",
        "outputId": "8d87ce0d-1175-4bb2-db8e-bea8df860d8f"
      },
      "execution_count": 42,
      "outputs": [
        {
          "output_type": "stream",
          "name": "stdout",
          "text": [
            "\n",
            "Grouped Data with Average Salary per Department:\n",
            "              Salary\n",
            "Department          \n",
            "Engineering  52500.0\n",
            "Finance      70000.0\n",
            "HR           50000.0\n",
            "Marketing    45000.0\n",
            "\n",
            "Sorted Data by Age in Descending Order:\n",
            "      Name  Age  Salary   Department\n",
            "4    David   35   70000      Finance\n",
            "1      Bob   30   60000  Engineering\n",
            "0    Alice   25   50000           HR\n",
            "3    Rahul   24   45000    Marketing\n",
            "2  Charlie   22   45000  Engineering\n",
            "\n",
            "Count of Unique Departments:\n",
            "4\n",
            "\n",
            "Correlation Matrix:\n",
            "             Age    Salary\n",
            "Age     1.000000  0.990352\n",
            "Salary  0.990352  1.000000\n"
          ]
        },
        {
          "output_type": "stream",
          "name": "stderr",
          "text": [
            "<ipython-input-42-ce2f7d330fd0>:17: FutureWarning: The default value of numeric_only in DataFrame.corr is deprecated. In a future version, it will default to False. Select only valid columns or specify the value of numeric_only to silence this warning.\n",
            "  correlation_matrix = df.corr()\n"
          ]
        }
      ]
    },
    {
      "cell_type": "markdown",
      "source": [
        "Q6. Which of the following is mutable in nature Series, DataFrame, Panel?"
      ],
      "metadata": {
        "id": "5hXNpJVknOKE"
      }
    },
    {
      "cell_type": "code",
      "source": [
        "# Series is mutable, meaning you can change the values in a Series after it's created.\n",
        "# DataFrame is also mutable. You can modify its contents, add or remove rows and columns, etc.\n",
        "# Panel was a data structure in older versions of Pandas but has been removed in recent versions and it's not relevant for most modern Pandas users."
      ],
      "metadata": {
        "id": "_WF7Cx7unQJW"
      },
      "execution_count": null,
      "outputs": []
    },
    {
      "cell_type": "markdown",
      "source": [
        "Q7. Create a DataFrame using multiple Series. Explain with an example."
      ],
      "metadata": {
        "id": "gqIQu-0AnmVH"
      }
    },
    {
      "cell_type": "code",
      "source": [
        "# Creating multiple Series\n",
        "names = pd.Series(['Alice', 'Bob', 'Charlie', 'David'])\n",
        "ages = pd.Series([25, 30, 22, 35])\n",
        "salaries = pd.Series([50000, 60000, 45000, 70000])\n",
        "\n",
        "# Create a DataFrame using the Series\n",
        "df = pd.DataFrame({'Name': names, 'Age': ages, 'Salary': salaries})\n",
        "\n",
        "# Print the DataFrame\n",
        "print(df)\n"
      ],
      "metadata": {
        "colab": {
          "base_uri": "https://localhost:8080/"
        },
        "id": "3Ksi72bgnZl2",
        "outputId": "3b7da098-9c09-4bbb-abe8-feff10cb7878"
      },
      "execution_count": 43,
      "outputs": [
        {
          "output_type": "stream",
          "name": "stdout",
          "text": [
            "      Name  Age  Salary\n",
            "0    Alice   25   50000\n",
            "1      Bob   30   60000\n",
            "2  Charlie   22   45000\n",
            "3    David   35   70000\n"
          ]
        }
      ]
    }
  ]
}