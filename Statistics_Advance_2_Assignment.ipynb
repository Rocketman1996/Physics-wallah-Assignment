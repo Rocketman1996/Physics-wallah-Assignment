{
  "nbformat": 4,
  "nbformat_minor": 0,
  "metadata": {
    "colab": {
      "provenance": [],
      "authorship_tag": "ABX9TyO7XW+uF3cLkYSAgCbzmTf1",
      "include_colab_link": true
    },
    "kernelspec": {
      "name": "python3",
      "display_name": "Python 3"
    },
    "language_info": {
      "name": "python"
    }
  },
  "cells": [
    {
      "cell_type": "markdown",
      "metadata": {
        "id": "view-in-github",
        "colab_type": "text"
      },
      "source": [
        "<a href=\"https://colab.research.google.com/github/Rocketman1996/Physics-wallah-Assignment/blob/main/Statistics_Advance_2_Assignment.ipynb\" target=\"_parent\"><img src=\"https://colab.research.google.com/assets/colab-badge.svg\" alt=\"Open In Colab\"/></a>"
      ]
    },
    {
      "cell_type": "markdown",
      "source": [
        "Q1: What are the Probability Mass Function (PMF) and Probability Density Function (PDF)? Explain with\n",
        "an example."
      ],
      "metadata": {
        "id": "TKK21J98GR2T"
      }
    },
    {
      "cell_type": "markdown",
      "source": [
        "PMF - It used discrete random variables and this is basically a function to provide probability for a specific outcome.\n",
        "Example: When rolling a fair six-sided die, the PMF describes the probability of getting each of the six possible outcomes (1, 2, 3, 4, 5, or 6).\n",
        "\n",
        "PDF(probability density function) -  It uses continous variables and this is basically used to decribe the probability of a continous random variable.\n",
        "\n",
        "Example - All the different heights of a student in a school."
      ],
      "metadata": {
        "id": "mizIOyXmGXWL"
      }
    },
    {
      "cell_type": "markdown",
      "source": [
        "Q2: What is Cumulative Density Function (CDF)? Explain with an example. Why CDF is used?"
      ],
      "metadata": {
        "id": "iJjl6_8-ITIq"
      }
    },
    {
      "cell_type": "markdown",
      "source": [
        "- A CDF is basically a function with which we can take cumulative probabilities of CDF or CMF.\n",
        "Example - getting the probability of 1,2,3 from a fair dice of 6 different possible outcomes. Which is 1/2.\n",
        "\n",
        "It is used to check that a random point falls under the curve or not, means it's probability is in certain range or not.\n"
      ],
      "metadata": {
        "id": "6tm9EDQ-IVZ6"
      }
    },
    {
      "cell_type": "markdown",
      "source": [
        "Q3: What are some examples of situations where the normal distribution might be used as a model?\n",
        "Explain how the parameters of the normal distribution relate to the shape of the distribution."
      ],
      "metadata": {
        "id": "EwNLnd6sPJIM"
      }
    },
    {
      "cell_type": "markdown",
      "source": [
        "Height of Individuals: The height of a population is often modeled by a normal distribution. In this case, the mean (μ) represents the average height, and the standard deviation (σ) characterizes the spread of heights. A smaller σ means that heights cluster closely around the mean, resulting in a taller and narrower bell curve, while a larger σ results in a shorter and wider curve.\n",
        "\n",
        "IQ Scores: IQ scores are often modeled by a normal distribution. The mean IQ score is set to 100, and the standard deviation is usually set to 15. A smaller standard deviation means that IQ scores cluster closely around the mean, resulting in a narrower distribution, while a larger standard deviation results in a wider distribution."
      ],
      "metadata": {
        "id": "h1UAhNcXPMVG"
      }
    },
    {
      "cell_type": "markdown",
      "source": [
        "Q4: Explain the importance of Normal Distribution. Give a few real-life examples of Normal\n",
        "Distribution."
      ],
      "metadata": {
        "id": "zbBYPt2NQDAE"
      }
    },
    {
      "cell_type": "markdown",
      "source": [
        "Statistical Inference: The normal distribution is essential for statistical inference. Many statistical tests and methods, such as t-tests, analysis of variance (ANOVA), regression analysis, and confidence intervals, assume that the data follows a normal distribution. When data reasonably conforms to a normal distribution, these methods tend to be more reliable and valid"
      ],
      "metadata": {
        "id": "DLj8Dv06RAOD"
      }
    },
    {
      "cell_type": "markdown",
      "source": [
        "Q5: What is Bernaulli Distribution? Give an Example. What is the difference between Bernoulli\n",
        "Distribution and Binomial Distribution?"
      ],
      "metadata": {
        "id": "rS0JOR5sWxXs"
      }
    },
    {
      "cell_type": "markdown",
      "source": [
        "Bernaulli Dist - It is basically tells that for a trial we get's two outcomes either sucess o failure. Denoted by p and q resp.\n",
        "Exe - Tossing a coin sucess is can be said if we expected a head and we gets a head you know what i mean :).\n",
        "\n",
        "Difference -  So the main difference is bernaullis is for a single trial while binomial is for a fixed number of trials and in which the probability of getting sucess."
      ],
      "metadata": {
        "id": "Gj-apypZXAiW"
      }
    },
    {
      "cell_type": "markdown",
      "source": [
        "Q6. Consider a dataset with a mean of 50 and a standard deviation of 10. If we assume that the dataset\n",
        "is normally distributed, what is the probability that a randomly selected observation will be greater\n",
        "than 60? Use the appropriate formula and show your calculations."
      ],
      "metadata": {
        "id": "4OKGUu7cYS9X"
      }
    },
    {
      "cell_type": "markdown",
      "source": [
        "- well we can use Z score to find the percentage of probabilities tiil the value 60. let's calculate z = 60-50/10 = 1 , from table we got z score = .84134.\n",
        "Now finding the prob percentage for getting a value above 60 would be 1-.84134 around 15 %."
      ],
      "metadata": {
        "id": "CRP3oN1KYVc9"
      }
    },
    {
      "cell_type": "markdown",
      "source": [
        "Q7: Explain uniform Distribution with an example."
      ],
      "metadata": {
        "id": "DaQqbt5P_xrE"
      }
    },
    {
      "cell_type": "markdown",
      "source": [
        "uniform Distribution is basically the probabilty remains constant for a given range. Rolling a fair dice in this for every possible outcome the probability is same."
      ],
      "metadata": {
        "id": "LGuA3AJF_0le"
      }
    },
    {
      "cell_type": "markdown",
      "source": [
        "Q8: What is the z score? State the importance of the z score."
      ],
      "metadata": {
        "id": "AxLL6o_KAYXg"
      }
    },
    {
      "cell_type": "markdown",
      "source": [
        "Z score is also known as a standard score. It is used to check how many standard deviation a point is away from the mean. The fromula is z = x-u/sigma(SD)\n",
        "x = sample mean\n",
        "u = population mean\n",
        "sigma = population SD\n",
        "\n",
        "It has the importance when we want to do hypothesis tests in inferencial statistics. where we need to check for the null hypothesis(which is already by default hypothesis on which things are running) is correct or not because someon e has performed the new calculation with new sample size >30 and found out that the null hypothesis is wrong."
      ],
      "metadata": {
        "id": "oReI9l6VAb2o"
      }
    },
    {
      "cell_type": "markdown",
      "source": [
        "Q9: What is Central Limit Theorem? State the significance of the Central Limit Theorem."
      ],
      "metadata": {
        "id": "FkX_E4-YDdD8"
      }
    },
    {
      "cell_type": "markdown",
      "source": [
        "The central limit theorem is basically tells that if we take n numbers of samples from a population then the mean of these samples tends to make a bell curve as the population size but number of sample should be enough and it's size also should be > greather than 30.\n",
        "\n",
        "Approximation of the Normal Distribution: The CLT allows us to approximate the distribution of sample means (or other sample statistics) to a normal distribution, even when the population distribution is not normal. This is a powerful property because the normal distribution is well understood, and many statistical methods rely on its assumptions.\n",
        "\n",
        "Universal Applicability: The CLT is a general theorem that applies to a wide range of populations and sampling scenarios. It is not restricted to any specific type of data or population distribution, making it widely applicable in various fields.\n",
        "\n",
        "Sample Size Independence: While it's often associated with large sample sizes, the CLT holds true even for relatively small samples (typically n > 30) as long as the samples are randomly selected and are reasonably representative of the population.\n",
        "\n",
        "Basis for Inference: The CLT is fundamental for statistical inference. It forms the foundation for hypothesis testing, confidence intervals, and parameter estimation, allowing statisticians to draw meaningful conclusions from sample data about population parameters.\n",
        "\n",
        "Quality Control and Process Improvement: In quality control and manufacturing, the CLT is used to monitor and control product quality. It allows for the estimation of population parameters based on samples, helping industries maintain standards and improve processes.\n",
        "\n",
        "Economic and Social Research: The CLT plays a vital role in economic and social research. It facilitates the analysis of survey data, consumer behavior, economic trends, and other areas where data collection is costly or time-consuming.\n",
        "\n",
        "Random Sampling: The CLT underscores the importance of random sampling. By adhering to random sampling methods, researchers can take advantage of the properties described by the CLT and make valid statistical inferences.\n",
        "\n",
        "Educational and Policy Decisions: The CLT is used in educational research to evaluate the effectiveness of teaching methods and interventions. It also informs policy decisions by providing a statistical basis for assessing the impact of policies and programs.\n",
        "\n",
        "Data Analysis: The CLT serves as a foundation for various statistical methods and tools, including t-tests, ANOVA (analysis of variance), regression analysis, and more. It's essential for understanding the distribution of sample statistics in these methods."
      ],
      "metadata": {
        "id": "PzY38Q1mDdws"
      }
    },
    {
      "cell_type": "markdown",
      "source": [
        "Q10: State the assumptions of the Central Limit Theorem."
      ],
      "metadata": {
        "id": "7L5gDeM3Eboi"
      }
    },
    {
      "cell_type": "markdown",
      "source": [
        "Independence: The samples should be selected independently. This means that the outcome of one sample should not affect the outcome of another. Independence is a critical assumption, especially when sampling without replacement (e.g., in finite populations).\n",
        "\n",
        "Identically Distributed: The samples should be drawn from a population with the same probability distribution. In other words, each sample should have the same characteristics as the others. This ensures that the samples are truly comparable.\n",
        "\n",
        "Random Sampling: The samples should be obtained through random sampling. Random sampling ensures that each element in the population has an equal chance of being included in the sample. This is essential for generalizability to the population.\n",
        "\n",
        "Finite Variance: The population should have a finite variance (i.e., it should not be extremely skewed or heavy-tailed). While the CLT works for a wide range of population distributions, infinite variance or extreme skewness can make the CLT less applicable.\n",
        "\n",
        "Sample Size: The sample size, though not specified as a constant, should be \"reasonably large.\" What constitutes \"reasonably large\" depends on the distribution of the population. In practice, a common guideline is that n (the sample size) should be greater than 30 to comfortably apply the CLT. However, smaller samples can still yield reasonably accurate approximations.\n",
        "\n",
        "Non-zero Standard Deviation: The population should have a non-zero standard deviation. If the standard deviation is zero (meaning all values are the same), the CLT is not applicable because the sample means would be the same as well."
      ],
      "metadata": {
        "id": "nRDqEZMIEzME"
      }
    }
  ]
}