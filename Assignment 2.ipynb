{
  "nbformat": 4,
  "nbformat_minor": 0,
  "metadata": {
    "colab": {
      "provenance": []
    },
    "kernelspec": {
      "name": "python3",
      "display_name": "Python 3"
    },
    "language_info": {
      "name": "python"
    }
  },
  "cells": [
    {
      "cell_type": "markdown",
      "source": [
        "Q1. How do you comment code in Python? What are the different types of comments?\n"
      ],
      "metadata": {
        "id": "xO5CIFV1pTJx"
      }
    },
    {
      "cell_type": "code",
      "source": [
        "# There are three types of comment we can use. Each have a different usecase\n",
        "\n",
        "1. # comments\n",
        "2. '''\n",
        "   multi line comments\n",
        "   for a brief explaination\n",
        "  '''"
      ],
      "metadata": {
        "colab": {
          "base_uri": "https://localhost:8080/",
          "height": 130
        },
        "id": "oI9eaMkRqfPG",
        "outputId": "c86948ff-509a-41f6-896e-4eced645d1f6"
      },
      "execution_count": 5,
      "outputs": [
        {
          "output_type": "error",
          "ename": "SyntaxError",
          "evalue": "ignored",
          "traceback": [
            "\u001b[0;36m  File \u001b[0;32m\"<ipython-input-5-e092e1936181>\"\u001b[0;36m, line \u001b[0;32m4\u001b[0m\n\u001b[0;31m    2. '''\u001b[0m\n\u001b[0m       ^\u001b[0m\n\u001b[0;31mSyntaxError\u001b[0m\u001b[0;31m:\u001b[0m invalid syntax\n"
          ]
        }
      ]
    },
    {
      "cell_type": "code",
      "source": [
        "#3.\n",
        "def add(x, y):\n",
        "\n",
        "      \"\"\"\n",
        "      this is a socstring\n",
        "      basically it wll be used to explain  a function\n",
        "      \"\"\"\n",
        "      return x+y\n",
        "\n",
        "result = add(3,2)\n",
        "print(result)"
      ],
      "metadata": {
        "colab": {
          "base_uri": "https://localhost:8080/"
        },
        "id": "g63srylSu8Oc",
        "outputId": "20e3cfbf-6703-4fd2-8fd7-a8ed253b6eff"
      },
      "execution_count": 10,
      "outputs": [
        {
          "output_type": "stream",
          "name": "stdout",
          "text": [
            "5\n"
          ]
        }
      ]
    },
    {
      "cell_type": "markdown",
      "source": [
        "Q2. What are variables in Python? How do you declare and assign values to variables?"
      ],
      "metadata": {
        "id": "3_854TmksN7y"
      }
    },
    {
      "cell_type": "code",
      "source": [
        "# In python variables are something in which we can store the data. it can be in different form and manner like\n",
        "x = 5\n",
        "c=v=n = 3\n",
        "c,v,n = 3,4,\"bfbsdbk\"\n",
        "\n",
        "# a variable name should start with a letter or underscore it can't start with a number or special charecter."
      ],
      "metadata": {
        "id": "d-8RqBobsQqu"
      },
      "execution_count": 3,
      "outputs": []
    },
    {
      "cell_type": "markdown",
      "source": [
        "Q3. How do you convert one data type to another in Python?"
      ],
      "metadata": {
        "id": "dD8ZD9_xvjMw"
      }
    },
    {
      "cell_type": "markdown",
      "source": [
        "In python we can use the built in functions to covert a data type in another form.\n",
        "like int(), float(),list(),tuple(),bool(),dict()\n",
        "exe -\n",
        "\n",
        "x = int(3.5) it'll be 3\n",
        "x = int(\"10\") it'll be 10\n",
        "\n",
        "sometimes we can forfully covert a dat type into another type and store in the another variable name -\n",
        "let's say we have a tuple we can covert it into list\n",
        "exe -\n",
        "\n",
        "tup = (\"fne\",1,2,3,4,5,true,1.56)\n",
        "\n",
        "leest = list(tup)"
      ],
      "metadata": {
        "id": "5YKH8kulv99C"
      }
    },
    {
      "cell_type": "code",
      "source": [
        "tup = (\"fne\",1,2,3,4,5,True,1.56)\n",
        "\n",
        "leest = list(tup)\n",
        "\n",
        "leest"
      ],
      "metadata": {
        "colab": {
          "base_uri": "https://localhost:8080/"
        },
        "id": "n_wHjaVXxSgT",
        "outputId": "d9ea72ca-b8e3-4129-eba6-0a8e092af9c0"
      },
      "execution_count": 11,
      "outputs": [
        {
          "output_type": "execute_result",
          "data": {
            "text/plain": [
              "['fne', 1, 2, 3, 4, 5, True, 1.56]"
            ]
          },
          "metadata": {},
          "execution_count": 11
        }
      ]
    },
    {
      "cell_type": "markdown",
      "source": [
        "Q4. How do you write and execute a Python script from the command line?\n"
      ],
      "metadata": {
        "id": "d_1gqlwSxT85"
      }
    },
    {
      "cell_type": "markdown",
      "source": [
        "1. python should be installed\n",
        "2. in any text editor write any code and save it with suffics .py\n",
        "3. go to the command prompt - 1. get the location of the file saved -> write python nameofthesavedfile.py\n",
        "4. it'll get executed\n",
        "\n",
        "\n",
        "EXE. let say I saved a file in text doc. in this i've written the code print(\"hello_python) and saved it as new.py\n",
        "\n",
        "then used the - C:\\Users\\asus>cd Desktop\n",
        "\n",
        "C:\\Users\\asus\\Desktop>python new.py\n",
        "hello python\n",
        "\n",
        "                              "
      ],
      "metadata": {
        "id": "Q3sS4qXJNM6y"
      }
    },
    {
      "cell_type": "markdown",
      "source": [
        "Q5. Given a list my_list = [1, 2, 3, 4, 5], write the code to slice the list and obtain the sub-list [2, 3]."
      ],
      "metadata": {
        "id": "xLSFZHwQOWUC"
      }
    },
    {
      "cell_type": "code",
      "source": [
        "my_list  = [1, 2, 3, 4, 5]\n",
        "\n",
        "my_list[1:3]"
      ],
      "metadata": {
        "colab": {
          "base_uri": "https://localhost:8080/"
        },
        "id": "Eb4a6qLlOctD",
        "outputId": "55292b8f-2121-4fd2-9539-a2e35705c1ec"
      },
      "execution_count": 1,
      "outputs": [
        {
          "output_type": "execute_result",
          "data": {
            "text/plain": [
              "[2, 3]"
            ]
          },
          "metadata": {},
          "execution_count": 1
        }
      ]
    },
    {
      "cell_type": "markdown",
      "source": [
        "Q6. What is a complex number in mathematics, and how is it represented in Python?"
      ],
      "metadata": {
        "id": "bY5NSTpCPBKA"
      }
    },
    {
      "cell_type": "markdown",
      "source": [
        "# A complex number is something thing that expressed in the terms of a+bi in which a & b is the real part and i is the imaginary part.\n",
        "# i is the root of -1, so i**2 becomes the -1 which is imaginary.\n",
        "\n",
        "x= a+ib"
      ],
      "metadata": {
        "id": "Lr1QQMOXPEn4"
      }
    },
    {
      "cell_type": "markdown",
      "source": [
        "Q7. What is the correct way to declare a variable named age and assign the value 25 to it?\n"
      ],
      "metadata": {
        "id": "HuGbG8j8Sc8X"
      }
    },
    {
      "cell_type": "code",
      "source": [
        "age = 25\n",
        "age"
      ],
      "metadata": {
        "colab": {
          "base_uri": "https://localhost:8080/"
        },
        "id": "Het1wGd_Sixj",
        "outputId": "7defeedd-7242-412d-8b76-0f6ba07f385b"
      },
      "execution_count": 2,
      "outputs": [
        {
          "output_type": "execute_result",
          "data": {
            "text/plain": [
              "25"
            ]
          },
          "metadata": {},
          "execution_count": 2
        }
      ]
    },
    {
      "cell_type": "markdown",
      "source": [
        "Q8. Declare a variable named price and assign the value 9.99 to it. What data type does this variable\n",
        "belong to?"
      ],
      "metadata": {
        "id": "nXLvRJ1WSxB9"
      }
    },
    {
      "cell_type": "code",
      "source": [
        "price = 9.99\n",
        "price\n",
        "\n",
        "# is it the float data type"
      ],
      "metadata": {
        "id": "QmFSVSw3S1i3"
      },
      "execution_count": null,
      "outputs": []
    },
    {
      "cell_type": "markdown",
      "source": [
        "Q9. Create a variable named name and assign your full name to it as a string. How would you print the\n",
        "value of this variable?"
      ],
      "metadata": {
        "id": "EzyCUYrETAQa"
      }
    },
    {
      "cell_type": "code",
      "source": [
        "name = \"Mehul Singh Rao\"\n",
        "name"
      ],
      "metadata": {
        "colab": {
          "base_uri": "https://localhost:8080/",
          "height": 36
        },
        "id": "YZmP1T8YTSao",
        "outputId": "80447f1b-6bd4-40e0-e0ac-8d4dee473aa6"
      },
      "execution_count": 3,
      "outputs": [
        {
          "output_type": "execute_result",
          "data": {
            "text/plain": [
              "'Mehul Singh Rao'"
            ],
            "application/vnd.google.colaboratory.intrinsic+json": {
              "type": "string"
            }
          },
          "metadata": {},
          "execution_count": 3
        }
      ]
    },
    {
      "cell_type": "markdown",
      "source": [
        "Q10. Given the string \"Hello, World!\", extract the substring \"World\"."
      ],
      "metadata": {
        "id": "4aOl_9zbTaRB"
      }
    },
    {
      "cell_type": "code",
      "source": [
        "Q =  \"Hello, World!\"\n",
        "Q[7:14]"
      ],
      "metadata": {
        "colab": {
          "base_uri": "https://localhost:8080/",
          "height": 36
        },
        "id": "RNvU9yQKTbIu",
        "outputId": "af4a07a3-0060-480c-f014-da2f5e1393a5"
      },
      "execution_count": 5,
      "outputs": [
        {
          "output_type": "execute_result",
          "data": {
            "text/plain": [
              "'World!'"
            ],
            "application/vnd.google.colaboratory.intrinsic+json": {
              "type": "string"
            }
          },
          "metadata": {},
          "execution_count": 5
        }
      ]
    },
    {
      "cell_type": "markdown",
      "source": [
        "Q11. Create a variable named \"is_student\" and assign it a boolean value indicating whether you are\n",
        "currently a student or not."
      ],
      "metadata": {
        "id": "ANd2hjI6TqzE"
      }
    },
    {
      "cell_type": "code",
      "source": [
        "is_student = True\n",
        "not_student = False\n",
        "is_student or not_student"
      ],
      "metadata": {
        "colab": {
          "base_uri": "https://localhost:8080/"
        },
        "id": "yIKdO-HtTvup",
        "outputId": "11df1070-22b8-4a4b-d9d7-a8c12ad1f8d8"
      },
      "execution_count": 20,
      "outputs": [
        {
          "output_type": "execute_result",
          "data": {
            "text/plain": [
              "True"
            ]
          },
          "metadata": {},
          "execution_count": 20
        }
      ]
    }
  ]
}