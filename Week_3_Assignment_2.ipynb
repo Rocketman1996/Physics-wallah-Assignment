{
  "nbformat": 4,
  "nbformat_minor": 0,
  "metadata": {
    "colab": {
      "provenance": []
    },
    "kernelspec": {
      "name": "python3",
      "display_name": "Python 3"
    },
    "language_info": {
      "name": "python"
    }
  },
  "cells": [
    {
      "cell_type": "markdown",
      "source": [
        "Q1. Create a python program to sort the given list of tuples based on integer value using a\n",
        "lambda function.\n",
        "[('Sachin Tendulkar', 34357), ('Ricky Ponting', 27483), ('Jack Kallis', 25534), ('Virat Kohli', 24936)]"
      ],
      "metadata": {
        "id": "VbfzX0VF5pJC"
      }
    },
    {
      "cell_type": "code",
      "source": [
        "tuple = [('Sachin Tendulkar', 34357), ('Ricky Ponting', 27483), ('Jack Kallis', 25534), ('Virat Kohli', 24936)]\n",
        "#\n",
        "sorted_tuples = sorted(tuple, key =  lambda x:x[1])  #key function is used to basically give the sorted function the base on which it get sorted.\n",
        "#sorted(iterable, key=None, reverse=False)\n",
        "\n",
        "print(sorted_tuples)"
      ],
      "metadata": {
        "colab": {
          "base_uri": "https://localhost:8080/"
        },
        "id": "Nd18qN_s5rYF",
        "outputId": "ac371ce3-4e12-47af-9c2f-e8f55ded5da3"
      },
      "execution_count": 1,
      "outputs": [
        {
          "output_type": "stream",
          "name": "stdout",
          "text": [
            "[('Virat Kohli', 24936), ('Jack Kallis', 25534), ('Ricky Ponting', 27483), ('Sachin Tendulkar', 34357)]\n"
          ]
        }
      ]
    },
    {
      "cell_type": "markdown",
      "source": [
        "Q2. Write a Python Program to find the squares of all the numbers in the given list of integers using\n",
        "lambda and map functions.\n",
        "[1, 2, 3, 4, 5, 6, 7, 8, 9, 10]"
      ],
      "metadata": {
        "id": "KN7BqleMF5hl"
      }
    },
    {
      "cell_type": "code",
      "source": [
        "abc = [1, 2, 3, 4, 5, 6, 7, 8, 9, 10]\n",
        "suare = map(lambda x: x**2, abc)\n",
        "## map(function, iterable, ...)\n",
        "\n",
        "print(list(suare))"
      ],
      "metadata": {
        "colab": {
          "base_uri": "https://localhost:8080/"
        },
        "id": "CSECTKraF99Q",
        "outputId": "bc626676-c5ed-494c-91a9-da201c988564"
      },
      "execution_count": 1,
      "outputs": [
        {
          "output_type": "stream",
          "name": "stdout",
          "text": [
            "[1, 4, 9, 16, 25, 36, 49, 64, 81, 100]\n"
          ]
        }
      ]
    },
    {
      "cell_type": "markdown",
      "source": [
        "Q3. Write a python program to convert the given list of integers into a tuple of strings. Use map and\n",
        "lambda functions\n",
        "Given String: [1, 2, 3, 4, 5, 6, 7, 8, 9, 10]\n",
        "Expected output: ('1', '2', '3', '4', '5', '6', '7', '8', '9', '10')"
      ],
      "metadata": {
        "id": "Dj63cfHAGC9R"
      }
    },
    {
      "cell_type": "code",
      "source": [
        "String = [1, 2, 3, 4, 5, 6, 7, 8, 9, 10]\n",
        "\n",
        "convrt = map(lambda x: str(x), String)\n",
        "\n",
        "print(tuple(convrt))"
      ],
      "metadata": {
        "colab": {
          "base_uri": "https://localhost:8080/"
        },
        "id": "g3nabWCRGG9W",
        "outputId": "4b3881ad-d2b0-4789-c465-ce6cd989bf43"
      },
      "execution_count": 6,
      "outputs": [
        {
          "output_type": "stream",
          "name": "stdout",
          "text": [
            "('1', '2', '3', '4', '5', '6', '7', '8', '9', '10')\n"
          ]
        }
      ]
    },
    {
      "cell_type": "markdown",
      "source": [
        "Q4. Write a python program using reduce function to compute the product of a list containing numbers\n",
        "from 1 to 25."
      ],
      "metadata": {
        "id": "10FR14YnIJcy"
      }
    },
    {
      "cell_type": "code",
      "source": [
        "from functools import reduce\n",
        "\n",
        "j = range(1,26)\n",
        "\n",
        "def my_pro(x,y):\n",
        "  return x*y\n",
        "\n",
        "result =  reduce(my_pro, j)\n",
        "result\n",
        "\n",
        "# or alternatively\n",
        "\n",
        "result1 = reduce(lambda x,y : x*y, j)\n",
        "result"
      ],
      "metadata": {
        "colab": {
          "base_uri": "https://localhost:8080/"
        },
        "id": "R7q98moLIPuQ",
        "outputId": "f3058ac8-45e9-4737-92c2-d3f28ec1057d"
      },
      "execution_count": 10,
      "outputs": [
        {
          "output_type": "execute_result",
          "data": {
            "text/plain": [
              "15511210043330985984000000"
            ]
          },
          "metadata": {},
          "execution_count": 10
        }
      ]
    },
    {
      "cell_type": "markdown",
      "source": [
        "Q5. Write a python program to filter the numbers in a given list that are divisible by 2 and 3 using the\n",
        "filter function."
      ],
      "metadata": {
        "id": "bf6VOcdrHQSZ"
      }
    },
    {
      "cell_type": "code",
      "source": [
        "u = [2, 3, 6, 9, 27, 60, 90, 120, 55, 46]\n",
        "\n",
        "result3 = filter(lambda x : x%2 == 0 or x%3 == 0, u)\n",
        "\n",
        "print(list(result3))"
      ],
      "metadata": {
        "colab": {
          "base_uri": "https://localhost:8080/"
        },
        "id": "p1rPsuP3HScd",
        "outputId": "8a2c3a00-dceb-427a-e2ed-7e313098c14b"
      },
      "execution_count": 15,
      "outputs": [
        {
          "output_type": "stream",
          "name": "stdout",
          "text": [
            "[2, 3, 6, 9, 27, 60, 90, 120, 46]\n"
          ]
        }
      ]
    },
    {
      "cell_type": "markdown",
      "source": [
        "Q6. Write a python program to find palindromes in the given list of strings using lambda and filter\n",
        "function.\n",
        "['python', 'php', 'aba', 'radar', 'level']"
      ],
      "metadata": {
        "id": "XG7egJwtIFxD"
      }
    },
    {
      "cell_type": "code",
      "source": [
        "E =  ['python', 'php', 'aba', 'radar', 'level']\n",
        "\n",
        "result4 = filter(lambda x : x == x[::-1], E)\n",
        "# x[::-1] in this slicing there are three levels start, stop and step here we stepping in reverse direction to check palindromes\n",
        "print(list(result4))"
      ],
      "metadata": {
        "colab": {
          "base_uri": "https://localhost:8080/"
        },
        "id": "uB25wYiFIO7I",
        "outputId": "b4ce98ea-1809-4976-ec9b-1271335e3cf5"
      },
      "execution_count": 25,
      "outputs": [
        {
          "output_type": "stream",
          "name": "stdout",
          "text": [
            "['php', 'aba', 'radar', 'level']\n"
          ]
        }
      ]
    }
  ]
}